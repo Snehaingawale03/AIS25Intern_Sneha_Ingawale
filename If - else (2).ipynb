{
 "cells": [
  {
   "cell_type": "markdown",
   "id": "f6f9d58e-e92a-4df7-a9ca-3821b4e646e4",
   "metadata": {},
   "source": [
    "### Grade code"
   ]
  },
  {
   "cell_type": "code",
   "execution_count": 3,
   "id": "2b0e4ae9-91a5-4977-8162-80b2c8bb6342",
   "metadata": {},
   "outputs": [
    {
     "name": "stdout",
     "output_type": "stream",
     "text": [
      "Grade C\n"
     ]
    }
   ],
   "source": [
    "p=50\n",
    "if p>75:\n",
    "    print('Grade O')\n",
    "elif 60<p<=75 :\n",
    "    print('Grade A')    \n",
    "    \n",
    "elif 50<p<=60:\n",
    "    print('Grade B')\n",
    "elif 35<=p<=50:\n",
    "     print('Grade C')\n",
    "else :\n",
    "    print('Fail')"
   ]
  },
  {
   "cell_type": "markdown",
   "id": "646a2bdc-447c-49c0-a5ed-87871f7adea2",
   "metadata": {},
   "source": [
    "### n divisible by 2 or 3"
   ]
  },
  {
   "cell_type": "code",
   "execution_count": 5,
   "id": "f999615d-c55d-4672-95fb-4bc4e5feef27",
   "metadata": {},
   "outputs": [
    {
     "name": "stdout",
     "output_type": "stream",
     "text": [
      "Not divisible by 2 and 3\n"
     ]
    }
   ],
   "source": [
    "n=7\n",
    "if n%2==0 and n%3 == 0:\n",
    "    print('Divisible by 2 and 3')\n",
    "elif n%2==0 :\n",
    "    print('Divisible by 2 , not by 3')\n",
    "elif n%3==0:\n",
    "    print('Divisible by 3 , not by 2')\n",
    "else :\n",
    "    print('Not divisible by 2 and 3')"
   ]
  },
  {
   "cell_type": "markdown",
   "id": "7185df94-1186-49d3-a088-3abd3c733f2f",
   "metadata": {},
   "source": [
    "### Example of if"
   ]
  },
  {
   "cell_type": "markdown",
   "id": "50edf883",
   "metadata": {},
   "source": [
    "Structure of an if Statement:\n",
    "\n",
    "Condition: A logical expression that evaluates to either true or false.\n",
    "Code Block: A set of instructions executed only when the condition is true."
   ]
  },
  {
   "cell_type": "markdown",
   "id": "9cb28ed8",
   "metadata": {},
   "source": [
    "Syntax:\n",
    "if (condition) {\n",
    "    // Code to execute if the condition is true\n",
    "}"
   ]
  },
  {
   "cell_type": "markdown",
   "id": "d3def359-e02d-41a1-b391-94689d1a7bd3",
   "metadata": {},
   "source": [
    "##### Check Positive numbers "
   ]
  },
  {
   "cell_type": "code",
   "execution_count": 6,
   "id": "9438f21d-92f7-4533-ab76-d6a9d9f2eab7",
   "metadata": {},
   "outputs": [
    {
     "name": "stdout",
     "output_type": "stream",
     "text": [
      "Positive number\n"
     ]
    }
   ],
   "source": [
    "x=10\n",
    "if x>0:\n",
    "    print('Positive number')"
   ]
  },
  {
   "cell_type": "markdown",
   "id": "40e34889-37b1-4baa-8ef0-4b2d8ef737eb",
   "metadata": {},
   "source": [
    "##### Check if a string contains a substring "
   ]
  },
  {
   "cell_type": "code",
   "execution_count": 7,
   "id": "0bc2119a-d1e3-42d8-b7c9-ff426c7dc251",
   "metadata": {},
   "outputs": [
    {
     "name": "stdout",
     "output_type": "stream",
     "text": [
      "Substring found\n"
     ]
    }
   ],
   "source": [
    "text= \"Hello World\"\n",
    "if \"World\" in text :\n",
    "    print(\"Substring found\")"
   ]
  },
  {
   "cell_type": "markdown",
   "id": "e75d8565-6dad-4f54-bf7f-6a94b71a65ca",
   "metadata": {},
   "source": [
    "##### Check if a number is greater than 100"
   ]
  },
  {
   "cell_type": "code",
   "execution_count": 12,
   "id": "c7804078-aa78-451e-838f-a15f55c4433b",
   "metadata": {},
   "outputs": [
    {
     "name": "stdout",
     "output_type": "stream",
     "text": [
      "num is greater than 100\n"
     ]
    }
   ],
   "source": [
    "num = 179\n",
    "if num>100:\n",
    "    print('num is greater than 100')"
   ]
  },
  {
   "cell_type": "markdown",
   "id": "1cc021ed-fdb6-4dcb-8d96-1b95798d81c9",
   "metadata": {},
   "source": [
    "##### Check for even numbers"
   ]
  },
  {
   "cell_type": "code",
   "execution_count": 13,
   "id": "77821eff-f015-455e-8e7c-bb6b695d63f7",
   "metadata": {},
   "outputs": [
    {
     "name": "stdout",
     "output_type": "stream",
     "text": [
      "number is even\n"
     ]
    }
   ],
   "source": [
    "number = 8\n",
    "if number % 2 ==0:\n",
    "    print('number is even')"
   ]
  },
  {
   "cell_type": "markdown",
   "id": "da73f7e0-618f-472e-96a5-586fb4e45a48",
   "metadata": {},
   "source": [
    "##### Check if a number is divisible by 5"
   ]
  },
  {
   "cell_type": "code",
   "execution_count": 14,
   "id": "5999032c-1e3c-4c4e-96b4-164849ccfb80",
   "metadata": {},
   "outputs": [
    {
     "name": "stdout",
     "output_type": "stream",
     "text": [
      "The number is divisible by 5\n"
     ]
    }
   ],
   "source": [
    "number=25\n",
    "if number % 5 ==0:\n",
    "    print('The number is divisible by 5')"
   ]
  },
  {
   "cell_type": "markdown",
   "id": "78854b15-1176-4d6e-9ae3-c0691f5db0a2",
   "metadata": {},
   "source": [
    "### Example of if else "
   ]
  },
  {
   "cell_type": "markdown",
   "id": "a8930af1",
   "metadata": {},
   "source": [
    "Theory of If-Else Statement:\n",
    "\n",
    "An if-else statement evaluates a condition (a Boolean expression).\n",
    "If the condition evaluates to true, the code block within the if statement is executed.\n",
    "If the condition evaluates to false, the code block within the else statement is executed."
   ]
  },
  {
   "cell_type": "markdown",
   "id": "0d6408e3",
   "metadata": {},
   "source": [
    "Syntax:\n",
    "if (condition):\n",
    "    // Code to execute if the condition is true\n",
    "else:\n",
    "    // Code to execute if the condition is false\n"
   ]
  },
  {
   "cell_type": "markdown",
   "id": "0341d756-c610-430d-bf82-938d77e308c7",
   "metadata": {},
   "source": [
    "##### Even or odd"
   ]
  },
  {
   "cell_type": "code",
   "execution_count": 16,
   "id": "1bb53244-a159-4efa-93a8-d702b9600fd8",
   "metadata": {},
   "outputs": [
    {
     "name": "stdout",
     "output_type": "stream",
     "text": [
      "x is odd number \n"
     ]
    }
   ],
   "source": [
    "x= 7 \n",
    "if x % 2 ==0:\n",
    "    print('x is even number')\n",
    "else:\n",
    "    print('x is odd number ')\n"
   ]
  },
  {
   "cell_type": "markdown",
   "id": "da441ccd-0ae2-4727-836b-5bd474c075df",
   "metadata": {},
   "source": [
    "##### Positive or Negative "
   ]
  },
  {
   "cell_type": "code",
   "execution_count": 18,
   "id": "47ee840d-3e3d-4656-922b-47267b670df0",
   "metadata": {},
   "outputs": [
    {
     "name": "stdout",
     "output_type": "stream",
     "text": [
      "Number is Negative\n"
     ]
    }
   ],
   "source": [
    "Number =-5\n",
    "if Number>0 :\n",
    "    print('Number is Positive')\n",
    "else:\n",
    "    print('Number is Negative')"
   ]
  },
  {
   "cell_type": "markdown",
   "id": "d5d63d35-5e32-4c3a-8125-2ba8f91d5d24",
   "metadata": {},
   "source": [
    "#### Age check"
   ]
  },
  {
   "cell_type": "code",
   "execution_count": 19,
   "id": "0ab472e1-26ab-46ca-8159-08ca21555179",
   "metadata": {},
   "outputs": [
    {
     "name": "stdout",
     "output_type": "stream",
     "text": [
      "Eligible to vote\n"
     ]
    }
   ],
   "source": [
    "age = 18\n",
    "if age >= 18 :\n",
    "    print('Eligible to vote')\n",
    "else :\n",
    "    print('Not eligible to vote')"
   ]
  },
  {
   "cell_type": "markdown",
   "id": "63c7fdf2-432a-413d-97f7-c6363f84d911",
   "metadata": {},
   "source": [
    "#### String Length"
   ]
  },
  {
   "cell_type": "code",
   "execution_count": 20,
   "id": "3f11ac7b-f5f7-441b-905a-0a2480374316",
   "metadata": {},
   "outputs": [
    {
     "name": "stdout",
     "output_type": "stream",
     "text": [
      "Short name\n"
     ]
    }
   ],
   "source": [
    "name=\"alice\"\n",
    "if len(name)>5 :\n",
    "    print('Long name')\n",
    "else:\n",
    "    print('Short name')"
   ]
  },
  {
   "cell_type": "markdown",
   "id": "9e8f0459-f9c3-4eee-a6aa-802169f50a18",
   "metadata": {},
   "source": [
    "#### Leap Year Check"
   ]
  },
  {
   "cell_type": "code",
   "execution_count": 24,
   "id": "153ed878-41f4-443b-af79-15429f45a072",
   "metadata": {},
   "outputs": [
    {
     "name": "stdout",
     "output_type": "stream",
     "text": [
      "Not a Leap year\n"
     ]
    }
   ],
   "source": [
    "year=2018\n",
    "if year % 4==0:\n",
    "    print('Leap Year')\n",
    "else:\n",
    "    print('Not a Leap year')"
   ]
  },
  {
   "cell_type": "markdown",
   "id": "a5526bee-432e-40b0-a8f4-1bf84dbfd0e0",
   "metadata": {},
   "source": [
    "### Example of if elif else"
   ]
  },
  {
   "cell_type": "markdown",
   "id": "cbbd1ec4",
   "metadata": {},
   "source": [
    "if Statement: The program evaluates a condition. If it's true, the code block under the if is executed.\n",
    "elif Statement (optional): Stands for \"else if.\" It checks additional conditions if the previous if or elif was false.\n",
    "else Statement (optional): Executes a block of code if none of the if or elif conditions are true."
   ]
  },
  {
   "cell_type": "markdown",
   "id": "9801e8cb",
   "metadata": {},
   "source": [
    "Syntax:\n",
    "if condition1:\n",
    "    # Code block for condition1\n",
    "elif condition2:\n",
    "    # Code block for condition2\n",
    "else:\n",
    "    # Code block if all conditions are false"
   ]
  },
  {
   "cell_type": "markdown",
   "id": "285ac3e7-e9cc-4caa-b1d6-e0bc7800d0b2",
   "metadata": {},
   "source": [
    "#### Temperature check"
   ]
  },
  {
   "cell_type": "code",
   "execution_count": 25,
   "id": "f4e0be4e-baf8-4ff3-a349-60b766de0535",
   "metadata": {},
   "outputs": [
    {
     "name": "stdout",
     "output_type": "stream",
     "text": [
      "Its warm\n"
     ]
    }
   ],
   "source": [
    "temp=32\n",
    "if temp>40:\n",
    "    print('Its very hot')\n",
    "elif temp >30:\n",
    "    print('Its warm')\n",
    "elif temp>20:\n",
    "    print('Its pleasant')\n",
    "else:\n",
    "    print('Its cold')"
   ]
  },
  {
   "cell_type": "markdown",
   "id": "7e67776a-c154-4c3e-b18a-5c8181e0bca5",
   "metadata": {},
   "source": [
    "### Traffic Signal"
   ]
  },
  {
   "cell_type": "code",
   "execution_count": 26,
   "id": "d25b937c-2722-4b75-b693-c70b56d035a9",
   "metadata": {},
   "outputs": [
    {
     "name": "stdout",
     "output_type": "stream",
     "text": [
      "Stop\n"
     ]
    }
   ],
   "source": [
    "signal=\"Red\"\n",
    "if signal == \"Red\":\n",
    "    print('Stop')\n",
    "elif signal== \"Yellow\":\n",
    "    print('Get ready')\n",
    "else:\n",
    "    print('Go')"
   ]
  },
  {
   "cell_type": "markdown",
   "id": "b24564d5-3611-4e22-8056-f36e74ab3840",
   "metadata": {},
   "source": [
    "### BMI Categories"
   ]
  },
  {
   "cell_type": "code",
   "execution_count": 27,
   "id": "7018bdd6-2131-4e90-94b0-e51be1bc4dcc",
   "metadata": {},
   "outputs": [
    {
     "name": "stdout",
     "output_type": "stream",
     "text": [
      "Overweight\n"
     ]
    }
   ],
   "source": [
    "bmi=25\n",
    "if bmi<18.5:\n",
    "    print('Underweight')\n",
    "elif 18.5 <= bmi <24.9:\n",
    "    print('Normal Weight')\n",
    "elif 25<= bmi <29.9:\n",
    "    print('Overweight')\n",
    "else:\n",
    "    print('Obesity')"
   ]
  },
  {
   "cell_type": "markdown",
   "id": "35c43cf4-b900-4da4-9221-488b37a16b03",
   "metadata": {},
   "source": [
    "### Number Comparison"
   ]
  },
  {
   "cell_type": "code",
   "execution_count": 29,
   "id": "7916dfc6-ffb5-4eb4-9c38-ac135f080819",
   "metadata": {},
   "outputs": [
    {
     "name": "stdout",
     "output_type": "stream",
     "text": [
      "b is greater \n"
     ]
    }
   ],
   "source": [
    "a,b= 10,20\n",
    "if a>b :\n",
    "    print('a is greater ')\n",
    "elif a<b :\n",
    "    print('b is greater ')\n",
    "else :\n",
    "    print('a and b are equal')"
   ]
  },
  {
   "cell_type": "markdown",
   "id": "3d4fb126-d8ad-4094-be5c-7432f41057e4",
   "metadata": {},
   "source": [
    "### Time of the day"
   ]
  },
  {
   "cell_type": "code",
   "execution_count": 30,
   "id": "916d54d9-94b6-42c8-8f5c-c6944a0469cc",
   "metadata": {},
   "outputs": [
    {
     "name": "stdout",
     "output_type": "stream",
     "text": [
      "Good Afternoon\n"
     ]
    }
   ],
   "source": [
    "time = 15\n",
    "if time <12 :\n",
    "    print('Good Morning')\n",
    "elif 12<=time<18:\n",
    "    print('Good Afternoon')\n",
    "else:\n",
    "    print('Good Evening')"
   ]
  },
  {
   "cell_type": "code",
   "execution_count": null,
   "id": "334e5fd8-3fc8-4f6c-9297-d353e5d98e2f",
   "metadata": {},
   "outputs": [],
   "source": []
  },
  {
   "cell_type": "code",
   "execution_count": null,
   "id": "c9c99eca-1cf4-4154-b6a5-1fccbaafcad8",
   "metadata": {},
   "outputs": [],
   "source": []
  }
 ],
 "metadata": {
  "kernelspec": {
   "display_name": "Python 3 (ipykernel)",
   "language": "python",
   "name": "python3"
  },
  "language_info": {
   "codemirror_mode": {
    "name": "ipython",
    "version": 3
   },
   "file_extension": ".py",
   "mimetype": "text/x-python",
   "name": "python",
   "nbconvert_exporter": "python",
   "pygments_lexer": "ipython3",
   "version": "3.9.7"
  }
 },
 "nbformat": 4,
 "nbformat_minor": 5
}
