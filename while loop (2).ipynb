{
 "cells": [
  {
   "cell_type": "markdown",
   "id": "873f8b3f",
   "metadata": {},
   "source": [
    "#### while loop :- \n",
    "While loop statement in Python is used to execute statement(s) repeatedly. The number of times the while loop is executed is not known in advance, so the while loop is called an Indefinite Iteration statement."
   ]
  },
  {
   "cell_type": "markdown",
   "id": "1368685d",
   "metadata": {},
   "source": [
    "Syntax :- \n",
    "while expression:\n",
    "    statement(s)"
   ]
  },
  {
   "cell_type": "markdown",
   "id": "cee9c931",
   "metadata": {},
   "source": [
    "### odd - even using while loop\n"
   ]
  },
  {
   "cell_type": "code",
   "execution_count": 5,
   "id": "cc539a5d",
   "metadata": {},
   "outputs": [
    {
     "name": "stdout",
     "output_type": "stream",
     "text": [
      "1 is odd\n",
      "2 is even \n",
      "3 is odd\n",
      "4 is even \n",
      "5 is odd\n",
      "6 is even \n",
      "7 is odd\n",
      "8 is even \n",
      "9 is odd\n",
      "10 is even \n"
     ]
    }
   ],
   "source": [
    "num=1\n",
    "while num <=10:\n",
    "    if num%2==0:\n",
    "        print(num,\"is even \")\n",
    "    else:\n",
    "        print(num, \"is odd\")\n",
    "    num+=1\n",
    "        "
   ]
  },
  {
   "cell_type": "code",
   "execution_count": 1,
   "id": "7a672d67",
   "metadata": {},
   "outputs": [
    {
     "name": "stdout",
     "output_type": "stream",
     "text": [
      "*\n",
      "**\n",
      "***\n",
      "****\n",
      "*****\n"
     ]
    }
   ],
   "source": [
    "x=1\n",
    "while x<6:\n",
    "    print('*'*x)\n",
    "    x+=1      "
   ]
  },
  {
   "cell_type": "markdown",
   "id": "5b16ef62",
   "metadata": {},
   "source": [
    "### Create list 1-20 numbers list using while loop"
   ]
  },
  {
   "cell_type": "code",
   "execution_count": 9,
   "id": "cd092374",
   "metadata": {},
   "outputs": [
    {
     "name": "stdout",
     "output_type": "stream",
     "text": [
      "[1, 2, 3, 4, 5, 6, 7, 8, 9, 10, 11, 12, 13, 14, 15, 16, 17, 18, 19, 20]\n"
     ]
    }
   ],
   "source": [
    "l=[]\n",
    "x=1\n",
    "while x<=20:\n",
    "    l.append(x)\n",
    "    x+=1  \n",
    "print(l)\n",
    "\n",
    "    "
   ]
  },
  {
   "cell_type": "markdown",
   "id": "95f1dcb4",
   "metadata": {},
   "source": [
    "### Create list 20-1 numbers list using while loop"
   ]
  },
  {
   "cell_type": "code",
   "execution_count": 10,
   "id": "e2a8b910",
   "metadata": {},
   "outputs": [
    {
     "name": "stdout",
     "output_type": "stream",
     "text": [
      "[20, 19, 18, 17, 16, 15, 14, 13, 12, 11, 10, 9, 8, 7, 6, 5, 4, 3, 2, 1]\n"
     ]
    }
   ],
   "source": [
    "l=[]\n",
    "x=20\n",
    "while x>=1:\n",
    "    l.append (x)\n",
    "    x-=1\n",
    "print(l)    "
   ]
  },
  {
   "cell_type": "markdown",
   "id": "0336489a",
   "metadata": {},
   "source": [
    "### eg. break , continue , pass control statement"
   ]
  },
  {
   "cell_type": "markdown",
   "id": "e6af6b86",
   "metadata": {},
   "source": [
    "#### break :- With the break statement we can stop the loop even if the while condition is true"
   ]
  },
  {
   "cell_type": "code",
   "execution_count": 11,
   "id": "8d2b2a72",
   "metadata": {},
   "outputs": [
    {
     "name": "stdout",
     "output_type": "stream",
     "text": [
      "1\n",
      "2\n"
     ]
    }
   ],
   "source": [
    "i=0\n",
    "while i<6:\n",
    "    i+=1\n",
    "    if i==3:\n",
    "        break\n",
    "    print(i)    "
   ]
  },
  {
   "cell_type": "markdown",
   "id": "00632e44",
   "metadata": {},
   "source": [
    "##### Continue :- With the continue statement we can stop the current iteration, and continue with the next."
   ]
  },
  {
   "cell_type": "code",
   "execution_count": 1,
   "id": "6264cceb",
   "metadata": {},
   "outputs": [
    {
     "name": "stdout",
     "output_type": "stream",
     "text": [
      "1\n",
      "2\n",
      "4\n",
      "5\n",
      "6\n"
     ]
    }
   ],
   "source": [
    "i=0\n",
    "while i<6:\n",
    "    i+=1\n",
    "    if i==3:\n",
    "        continue\n",
    "    print(i)    \n"
   ]
  },
  {
   "cell_type": "markdown",
   "id": "7a1dbc6e",
   "metadata": {},
   "source": [
    "##### pass :- Used as a placeholder where no action is required."
   ]
  },
  {
   "cell_type": "code",
   "execution_count": 10,
   "id": "718a8620",
   "metadata": {},
   "outputs": [
    {
     "name": "stdout",
     "output_type": "stream",
     "text": [
      "1\n",
      "2\n",
      "3\n",
      "4\n",
      "5\n",
      "6\n"
     ]
    }
   ],
   "source": [
    "i=0\n",
    "while i<6:\n",
    "    i+=1\n",
    "    if i==3:\n",
    "        pass\n",
    "    print(i)\n",
    "    \n",
    "    "
   ]
  },
  {
   "cell_type": "code",
   "execution_count": null,
   "id": "d5643646",
   "metadata": {},
   "outputs": [],
   "source": []
  }
 ],
 "metadata": {
  "kernelspec": {
   "display_name": "Python 3 (ipykernel)",
   "language": "python",
   "name": "python3"
  },
  "language_info": {
   "codemirror_mode": {
    "name": "ipython",
    "version": 3
   },
   "file_extension": ".py",
   "mimetype": "text/x-python",
   "name": "python",
   "nbconvert_exporter": "python",
   "pygments_lexer": "ipython3",
   "version": "3.9.7"
  }
 },
 "nbformat": 4,
 "nbformat_minor": 5
}
