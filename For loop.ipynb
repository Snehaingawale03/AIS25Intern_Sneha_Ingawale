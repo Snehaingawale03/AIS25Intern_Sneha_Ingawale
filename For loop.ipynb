{
 "cells": [
  {
   "cell_type": "markdown",
   "id": "929986c1",
   "metadata": {},
   "source": [
    "for loop :-\n",
    "The for loop is a control structure in Python that allows you to execute a block of code repeatedly for each item in a sequence (such as a list, tuple, or string).\n",
    "\n",
    "Syntax:\n",
    "\n",
    "for variable in iterable: # code to execute for each item\n",
    "\n",
    "The iterable (e.g., list, tuple, string) is evaluated. The variable is assigned the value of the first item in the iterable. The code inside the loop is executed. The variable is assigned the value of the next item in the iterable."
   ]
  },
  {
   "cell_type": "markdown",
   "id": "908fe126-8927-4d5a-9669-e7328edceb4e",
   "metadata": {},
   "source": [
    "### Print odd values between 20 and 80"
   ]
  },
  {
   "cell_type": "code",
   "execution_count": 1,
   "id": "51c0478f-3656-4d54-8194-1fd7bb1f57ab",
   "metadata": {},
   "outputs": [
    {
     "name": "stdout",
     "output_type": "stream",
     "text": [
      "21\n",
      "23\n",
      "25\n",
      "27\n",
      "29\n",
      "31\n",
      "33\n",
      "35\n",
      "37\n",
      "39\n",
      "41\n",
      "43\n",
      "45\n",
      "47\n",
      "49\n",
      "51\n",
      "53\n",
      "55\n",
      "57\n",
      "59\n",
      "61\n",
      "63\n",
      "65\n",
      "67\n",
      "69\n",
      "71\n",
      "73\n",
      "75\n",
      "77\n",
      "79\n"
     ]
    }
   ],
   "source": [
    "for num in range (21,80,2):\n",
    "    print(num)"
   ]
  },
  {
   "cell_type": "markdown",
   "id": "e5e4bb5e-a7d2-4e31-b472-dc372868197d",
   "metadata": {},
   "source": [
    "### create a list of 1 to 20 numbers"
   ]
  },
  {
   "cell_type": "code",
   "execution_count": 5,
   "id": "795dbaf0-4850-4f29-b190-ffaae486ed1f",
   "metadata": {},
   "outputs": [
    {
     "name": "stdout",
     "output_type": "stream",
     "text": [
      "[1, 2, 3, 4, 5, 6, 7, 8, 9, 10, 11, 12, 13, 14, 15, 16, 17, 18, 19, 20]\n"
     ]
    }
   ],
   "source": [
    "num=[]\n",
    "for i in range (1,21):\n",
    "    num.append(i)\n",
    "print(num)    "
   ]
  },
  {
   "cell_type": "markdown",
   "id": "0834ca82",
   "metadata": {},
   "source": [
    "### Create a list 20 to 1 numbers"
   ]
  },
  {
   "cell_type": "code",
   "execution_count": 7,
   "id": "42112a95",
   "metadata": {},
   "outputs": [
    {
     "name": "stdout",
     "output_type": "stream",
     "text": [
      "[20, 19, 18, 17, 16, 15, 14, 13, 12, 11, 10, 9, 8, 7, 6, 5, 4, 3, 2, 1]\n"
     ]
    }
   ],
   "source": [
    "numbers= []\n",
    "for i in range (20,0,-1):\n",
    "    numbers.append(i)\n",
    "print(numbers)    "
   ]
  },
  {
   "cell_type": "markdown",
   "id": "4ab4c7bb",
   "metadata": {},
   "source": [
    "### Take the cube of odd values between 20 and 40"
   ]
  },
  {
   "cell_type": "code",
   "execution_count": 13,
   "id": "f354ba6c",
   "metadata": {},
   "outputs": [
    {
     "name": "stdout",
     "output_type": "stream",
     "text": [
      "9261\n",
      "12167\n",
      "15625\n",
      "19683\n",
      "24389\n",
      "29791\n",
      "35937\n",
      "42875\n",
      "50653\n",
      "59319\n"
     ]
    }
   ],
   "source": [
    "for num in range (21,40,2):\n",
    "    print( num**3)"
   ]
  },
  {
   "cell_type": "markdown",
   "id": "fdf3bfc8",
   "metadata": {},
   "source": [
    "### Friends name and ages in a formatted string"
   ]
  },
  {
   "cell_type": "code",
   "execution_count": 17,
   "id": "56778c20",
   "metadata": {},
   "outputs": [
    {
     "name": "stdout",
     "output_type": "stream",
     "text": [
      " My name is a,my age is 20\n",
      " My name is b,my age is 21\n",
      " My name is c,my age is 22\n",
      " My name is d,my age is 23\n",
      " My name is e,my age is 24\n"
     ]
    }
   ],
   "source": [
    "names = ['a','b','c','d','e']\n",
    "ages = [20,21,22,23,24]\n",
    "for i in range (len(names)):\n",
    "    print(f\" My name is {names[i]},my age is {ages[i]}\"\n",
    "         )"
   ]
  },
  {
   "cell_type": "code",
   "execution_count": null,
   "id": "b3b28753",
   "metadata": {},
   "outputs": [],
   "source": []
  }
 ],
 "metadata": {
  "kernelspec": {
   "display_name": "Python 3 (ipykernel)",
   "language": "python",
   "name": "python3"
  },
  "language_info": {
   "codemirror_mode": {
    "name": "ipython",
    "version": 3
   },
   "file_extension": ".py",
   "mimetype": "text/x-python",
   "name": "python",
   "nbconvert_exporter": "python",
   "pygments_lexer": "ipython3",
   "version": "3.9.7"
  }
 },
 "nbformat": 4,
 "nbformat_minor": 5
}
