{
 "cells": [
  {
   "cell_type": "markdown",
   "id": "9ebd9aa3-8616-4543-9388-9d20a2216d9a",
   "metadata": {},
   "source": [
    "### 1) introduction of pandas "
   ]
  },
  {
   "cell_type": "markdown",
   "id": "32368b6f-db2c-4eff-a90b-479486de26b2",
   "metadata": {},
   "source": [
    "* pandas is a fast,powerful,flexible and easy to use open source data.\n",
    "* analysis and manipulation tool, built on top of the python programming language.\n",
    "* It is Data analysis library of python.\n",
    "* It has functions for analizing ,cleaning, exploring and manipulating data.\n",
    "* There are two objects(Data structure) are present in the pandas . \n",
    "    1) Series \n",
    "    2) DataFrame\n",
    "* Pandas allows us to analyze big data and make conclusions based on statistical theories.\n",
    "* Pandas can clean messy data sets, and make them readable and relevant.\n",
    "* Relevant data is very important in data science."
   ]
  },
  {
   "cell_type": "markdown",
   "id": "2354b860-da65-4279-837a-77ed593e4918",
   "metadata": {},
   "source": [
    "### 2) Key data structure in pandas"
   ]
  },
  {
   "cell_type": "markdown",
   "id": "37370987-c761-4ed0-8774-882fe832ee26",
   "metadata": {},
   "source": [
    "* Pandas is a high-level data manipulation tool developed by Wes McKinney. \n",
    "* It is built on the Numpy package means Pandas needs Numpy to operate and its key data structure is called the DataFrame.\n",
    "* The pandas data structure cnsist of\n",
    "  1) Series\n",
    "  2) DataFrame\n",
    "* Let's we see one by one in brief"
   ]
  },
  {
   "cell_type": "markdown",
   "id": "ba3426b6-8547-48f9-b4e0-e9c9ce0267a6",
   "metadata": {},
   "source": [
    "### i) series\n",
    "* A Pandas Series is a one-dimensional labeled array capable of holding data of any type (integer, string, float, Python objects, etc.). \n",
    "* The axis labels are collectively called indexes.\n",
    "* The Pandas Series is nothing but a column in an Excel sheet. Labels need not be unique but must be of a hashable type.\n",
    "* The object supports both integer and label-based indexing and provides a host of methods for performing operations involving the index.\n",
    "* It is 1D array holding of any type of data."
   ]
  },
  {
   "cell_type": "markdown",
   "id": "384cf456-e7c4-4c45-825c-3ec5bae462d8",
   "metadata": {},
   "source": [
    "### ii) DataFrame\n",
    "* A Pandas DataFrame in Python is a data structure that represents tabular data, essentially a table with rows and columns, \n",
    "* DataFrame allowing you to organize and manipulate data efficiently, similar to a spreadsheet, where\n",
    "* In dataframe each column can have different data types and is considered a key element for data analysis within the Pandas library.\n",
    "* it's considered the most commonly used object in Pandas for working with structured datasets. "
   ]
  },
  {
   "cell_type": "markdown",
   "id": "7e182f8d-86c7-48f0-908e-44047c362853",
   "metadata": {},
   "source": [
    "### 3) Creating Data Structure "
   ]
  },
  {
   "cell_type": "markdown",
   "id": "81bf2ac9-d62a-48b1-80aa-f7b29997bab4",
   "metadata": {},
   "source": [
    "#### i)  Series"
   ]
  },
  {
   "cell_type": "markdown",
   "id": "2a364591-51c3-4114-8111-b5d4f2e226e7",
   "metadata": {},
   "source": [
    "* It is created by loading the datasets from existing storage (which can be a SQL database, a CSV file, or an Excel file).\n",
    "* Pandas Series can be created from lists, dictionaries, scalar values, etc.\n",
    "* Creating a series using the Pandas Library as follows."
   ]
  },
  {
   "cell_type": "code",
   "execution_count": 10,
   "id": "bb18dd7e-d4a2-44c4-8216-73789c55e6da",
   "metadata": {},
   "outputs": [],
   "source": [
    "import pandas as pd\n",
    "import numpy as np"
   ]
  },
  {
   "cell_type": "code",
   "execution_count": 12,
   "id": "686211e9-5dc5-4275-8526-05da15a3b81f",
   "metadata": {},
   "outputs": [
    {
     "data": {
      "text/plain": [
       "Series([], dtype: object)"
      ]
     },
     "execution_count": 12,
     "metadata": {},
     "output_type": "execute_result"
    }
   ],
   "source": [
    "# create a empty series.\n",
    "s=pd.Series()\n",
    "s"
   ]
  },
  {
   "cell_type": "code",
   "execution_count": 14,
   "id": "89d23b9b-5728-4c00-a8ab-7a09a1f645d2",
   "metadata": {},
   "outputs": [
    {
     "data": {
      "text/plain": [
       "[12, 13, 47, 50, 9]"
      ]
     },
     "execution_count": 14,
     "metadata": {},
     "output_type": "execute_result"
    }
   ],
   "source": [
    "# create a series by using integers values.\n",
    "code=[12,13,47,50,9]\n",
    "code\n"
   ]
  },
  {
   "cell_type": "code",
   "execution_count": 16,
   "id": "fea085b8-6ddc-4549-97bf-64d53c13f0bb",
   "metadata": {},
   "outputs": [
    {
     "data": {
      "text/plain": [
       "0    12\n",
       "1    13\n",
       "2    47\n",
       "3    50\n",
       "4     9\n",
       "dtype: int64"
      ]
     },
     "execution_count": 16,
     "metadata": {},
     "output_type": "execute_result"
    }
   ],
   "source": [
    "V=pd.Series(code)\n",
    "V"
   ]
  },
  {
   "cell_type": "code",
   "execution_count": 18,
   "id": "d15ac6e4-af95-4d96-a86a-8b8f2f0008e9",
   "metadata": {},
   "outputs": [
    {
     "data": {
      "text/plain": [
       "array(['s', 'g', 'm'], dtype='<U1')"
      ]
     },
     "execution_count": 18,
     "metadata": {},
     "output_type": "execute_result"
    }
   ],
   "source": [
    "# Creating simple array\n",
    "data=np.array(['s','g','m'])\n",
    "data"
   ]
  },
  {
   "cell_type": "code",
   "execution_count": 22,
   "id": "192171ce-313d-4e4a-93e0-07520a1f3108",
   "metadata": {},
   "outputs": [
    {
     "data": {
      "text/plain": [
       "0    s\n",
       "1    g\n",
       "2    m\n",
       "dtype: object"
      ]
     },
     "execution_count": 22,
     "metadata": {},
     "output_type": "execute_result"
    }
   ],
   "source": [
    "s=pd.Series(data)\n",
    "s"
   ]
  },
  {
   "cell_type": "code",
   "execution_count": 34,
   "id": "5f56326d-4170-4c1c-9557-6ed47b57baf5",
   "metadata": {},
   "outputs": [
    {
     "data": {
      "text/plain": [
       "0    mango\n",
       "1        3\n",
       "4      Yes\n",
       "dtype: object"
      ]
     },
     "execution_count": 34,
     "metadata": {},
     "output_type": "execute_result"
    }
   ],
   "source": [
    "# Creating Series from dictionary\n",
    "s={0:'mango',1:3,4:'Yes'}\n",
    "pd.Series(s)"
   ]
  },
  {
   "cell_type": "markdown",
   "id": "a7f381a5-5d8b-478a-96e2-7858b29c0070",
   "metadata": {},
   "source": [
    "### ii) DataFrame"
   ]
  },
  {
   "cell_type": "code",
   "execution_count": null,
   "id": "a687d069-f7cc-4705-8ad6-444f6deb6b61",
   "metadata": {},
   "outputs": [],
   "source": [
    "* Pandas DataFrame is created by loading the datasets from existing storage (which can be a SQL database, a CSV file, or an Excel file).\n",
    "* Pandas DataFrame can be created from lists, dictionaries, a list of dictionaries, etc."
   ]
  },
  {
   "cell_type": "code",
   "execution_count": null,
   "id": "434c5a7d-b53d-45f6-8317-724a57e4ed9e",
   "metadata": {},
   "outputs": [],
   "source": [
    "# Creating empty DataFrame."
   ]
  },
  {
   "cell_type": "code",
   "execution_count": 38,
   "id": "89bdf105-6445-487a-b9e1-2ed23cb2986e",
   "metadata": {},
   "outputs": [
    {
     "name": "stdout",
     "output_type": "stream",
     "text": [
      "Empty DataFrame\n",
      "Columns: []\n",
      "Index: []\n"
     ]
    }
   ],
   "source": [
    "a=pd.DataFrame()\n",
    "print(a)"
   ]
  },
  {
   "cell_type": "code",
   "execution_count": 52,
   "id": "94087842-4141-47b5-9149-2a34e4ec84c0",
   "metadata": {},
   "outputs": [
    {
     "data": {
      "text/plain": [
       "{'Name': ['Alice', 'Bob'],\n",
       " 'Age': [25, 30],\n",
       " 'city': ['pune', 'kanpur'],\n",
       " 'Edu': ['Msc', 'MA']}"
      ]
     },
     "execution_count": 52,
     "metadata": {},
     "output_type": "execute_result"
    }
   ],
   "source": [
    "# Create dataframe from dictionary\n",
    "df = {'Name': ['Alice','Bob'], 'Age': [25,30],'city':['pune','kanpur'],'Edu':['Msc','MA']}\n",
    "df"
   ]
  },
  {
   "cell_type": "code",
   "execution_count": 54,
   "id": "4ac1b05d-9279-4e5a-bb25-a779888fce86",
   "metadata": {},
   "outputs": [
    {
     "data": {
      "text/html": [
       "<div>\n",
       "<style scoped>\n",
       "    .dataframe tbody tr th:only-of-type {\n",
       "        vertical-align: middle;\n",
       "    }\n",
       "\n",
       "    .dataframe tbody tr th {\n",
       "        vertical-align: top;\n",
       "    }\n",
       "\n",
       "    .dataframe thead th {\n",
       "        text-align: right;\n",
       "    }\n",
       "</style>\n",
       "<table border=\"1\" class=\"dataframe\">\n",
       "  <thead>\n",
       "    <tr style=\"text-align: right;\">\n",
       "      <th></th>\n",
       "      <th>Name</th>\n",
       "      <th>Age</th>\n",
       "      <th>city</th>\n",
       "      <th>Edu</th>\n",
       "    </tr>\n",
       "  </thead>\n",
       "  <tbody>\n",
       "    <tr>\n",
       "      <th>0</th>\n",
       "      <td>Alice</td>\n",
       "      <td>25</td>\n",
       "      <td>pune</td>\n",
       "      <td>Msc</td>\n",
       "    </tr>\n",
       "    <tr>\n",
       "      <th>1</th>\n",
       "      <td>Bob</td>\n",
       "      <td>30</td>\n",
       "      <td>kanpur</td>\n",
       "      <td>MA</td>\n",
       "    </tr>\n",
       "  </tbody>\n",
       "</table>\n",
       "</div>"
      ],
      "text/plain": [
       "    Name  Age    city  Edu\n",
       "0  Alice   25    pune  Msc\n",
       "1    Bob   30  kanpur   MA"
      ]
     },
     "execution_count": 54,
     "metadata": {},
     "output_type": "execute_result"
    }
   ],
   "source": [
    "datfram=pd.DataFrame(df)\n",
    "datfram"
   ]
  },
  {
   "cell_type": "code",
   "execution_count": 50,
   "id": "a23f78c3-3a81-45c9-8cbf-9bf6597e0405",
   "metadata": {},
   "outputs": [
    {
     "data": {
      "text/html": [
       "<div>\n",
       "<style scoped>\n",
       "    .dataframe tbody tr th:only-of-type {\n",
       "        vertical-align: middle;\n",
       "    }\n",
       "\n",
       "    .dataframe tbody tr th {\n",
       "        vertical-align: top;\n",
       "    }\n",
       "\n",
       "    .dataframe thead th {\n",
       "        text-align: right;\n",
       "    }\n",
       "</style>\n",
       "<table border=\"1\" class=\"dataframe\">\n",
       "  <thead>\n",
       "    <tr style=\"text-align: right;\">\n",
       "      <th></th>\n",
       "      <th>0</th>\n",
       "    </tr>\n",
       "  </thead>\n",
       "  <tbody>\n",
       "    <tr>\n",
       "      <th>0</th>\n",
       "      <td>India</td>\n",
       "    </tr>\n",
       "    <tr>\n",
       "      <th>1</th>\n",
       "      <td>is</td>\n",
       "    </tr>\n",
       "    <tr>\n",
       "      <th>2</th>\n",
       "      <td>my</td>\n",
       "    </tr>\n",
       "    <tr>\n",
       "      <th>3</th>\n",
       "      <td>country</td>\n",
       "    </tr>\n",
       "  </tbody>\n",
       "</table>\n",
       "</div>"
      ],
      "text/plain": [
       "         0\n",
       "0    India\n",
       "1       is\n",
       "2       my\n",
       "3  country"
      ]
     },
     "execution_count": 50,
     "metadata": {},
     "output_type": "execute_result"
    }
   ],
   "source": [
    "lst = ['India', 'is', 'my', 'country']\n",
    "pd.DataFrame(lst)\n",
    " "
   ]
  },
  {
   "cell_type": "code",
   "execution_count": 58,
   "id": "2dd9b39d-8eaa-4c51-b50e-645eb16acdd9",
   "metadata": {},
   "outputs": [
    {
     "data": {
      "text/html": [
       "<div>\n",
       "<style scoped>\n",
       "    .dataframe tbody tr th:only-of-type {\n",
       "        vertical-align: middle;\n",
       "    }\n",
       "\n",
       "    .dataframe tbody tr th {\n",
       "        vertical-align: top;\n",
       "    }\n",
       "\n",
       "    .dataframe thead th {\n",
       "        text-align: right;\n",
       "    }\n",
       "</style>\n",
       "<table border=\"1\" class=\"dataframe\">\n",
       "  <thead>\n",
       "    <tr style=\"text-align: right;\">\n",
       "      <th></th>\n",
       "      <th>0</th>\n",
       "    </tr>\n",
       "  </thead>\n",
       "  <tbody>\n",
       "    <tr>\n",
       "      <th>0</th>\n",
       "      <td>1</td>\n",
       "    </tr>\n",
       "    <tr>\n",
       "      <th>1</th>\n",
       "      <td>2</td>\n",
       "    </tr>\n",
       "    <tr>\n",
       "      <th>2</th>\n",
       "      <td>3</td>\n",
       "    </tr>\n",
       "    <tr>\n",
       "      <th>3</th>\n",
       "      <td>4</td>\n",
       "    </tr>\n",
       "    <tr>\n",
       "      <th>4</th>\n",
       "      <td>5</td>\n",
       "    </tr>\n",
       "  </tbody>\n",
       "</table>\n",
       "</div>"
      ],
      "text/plain": [
       "   0\n",
       "0  1\n",
       "1  2\n",
       "2  3\n",
       "3  4\n",
       "4  5"
      ]
     },
     "execution_count": 58,
     "metadata": {},
     "output_type": "execute_result"
    }
   ],
   "source": [
    "## Creating dataframe from tuple.\n",
    "val=(1,2,3,4,5)\n",
    "pd.DataFrame(val)"
   ]
  },
  {
   "cell_type": "markdown",
   "id": "4dab1c4f-3dd7-46a7-8ff2-0d87b0d38cbf",
   "metadata": {},
   "source": [
    "### 4) Data Operations\n",
    "* 1) indexing\n",
    "* 2) Slicing"
   ]
  },
  {
   "cell_type": "markdown",
   "id": "71feac2c-00d7-416c-9b19-7c7295cf4ded",
   "metadata": {},
   "source": [
    "## Indexing\n",
    "* Indexing in Pandas refers to selecting specific rows and columns from a DataFrame. \n",
    "* It allows you to subset data in various ways, such as selecting all rows with specific columns, some rows with all columns, \n",
    "  or a subset of both rows and columns"
   ]
  },
  {
   "cell_type": "markdown",
   "id": "d45ecd76-2ebb-45a3-89de-b9752e72b71f",
   "metadata": {},
   "source": [
    "## i) df.loc[] function"
   ]
  },
  {
   "cell_type": "markdown",
   "id": "d9c7ff1b-3868-4eeb-a650-de7ba34b1bde",
   "metadata": {},
   "source": [
    "* The .loc property of the DataFrame object allows the return of specified rows and/or columns from that DataFrame . \n",
    "* It can do so using a label or label(s), or a boolean array of the same size as the axis being filtered."
   ]
  },
  {
   "cell_type": "code",
   "execution_count": 85,
   "id": "e45313d2-dcb7-4ad7-b2e6-43620f233bc6",
   "metadata": {},
   "outputs": [
    {
     "data": {
      "text/html": [
       "<div>\n",
       "<style scoped>\n",
       "    .dataframe tbody tr th:only-of-type {\n",
       "        vertical-align: middle;\n",
       "    }\n",
       "\n",
       "    .dataframe tbody tr th {\n",
       "        vertical-align: top;\n",
       "    }\n",
       "\n",
       "    .dataframe thead th {\n",
       "        text-align: right;\n",
       "    }\n",
       "</style>\n",
       "<table border=\"1\" class=\"dataframe\">\n",
       "  <thead>\n",
       "    <tr style=\"text-align: right;\">\n",
       "      <th></th>\n",
       "      <th>student</th>\n",
       "      <th>marks</th>\n",
       "      <th>address</th>\n",
       "    </tr>\n",
       "  </thead>\n",
       "  <tbody>\n",
       "    <tr>\n",
       "      <th>0</th>\n",
       "      <td>a</td>\n",
       "      <td>56</td>\n",
       "      <td>pune</td>\n",
       "    </tr>\n",
       "    <tr>\n",
       "      <th>1</th>\n",
       "      <td>b</td>\n",
       "      <td>65</td>\n",
       "      <td>sangli</td>\n",
       "    </tr>\n",
       "    <tr>\n",
       "      <th>2</th>\n",
       "      <td>c</td>\n",
       "      <td>86</td>\n",
       "      <td>mumbai</td>\n",
       "    </tr>\n",
       "    <tr>\n",
       "      <th>3</th>\n",
       "      <td>d</td>\n",
       "      <td>87</td>\n",
       "      <td>delhi</td>\n",
       "    </tr>\n",
       "  </tbody>\n",
       "</table>\n",
       "</div>"
      ],
      "text/plain": [
       "  student  marks address\n",
       "0       a     56    pune\n",
       "1       b     65  sangli\n",
       "2       c     86  mumbai\n",
       "3       d     87   delhi"
      ]
     },
     "execution_count": 85,
     "metadata": {},
     "output_type": "execute_result"
    }
   ],
   "source": [
    "# Creating the dataframe\n",
    "s=pd.DataFrame({'student':['a','b','c','d'],\n",
    "    'marks':[56,65,86,87],\n",
    "    'address':['pune','sangli','mumbai','delhi']})\n",
    "s\n",
    "\n",
    "   "
   ]
  },
  {
   "cell_type": "code",
   "execution_count": 101,
   "id": "87e9ae81-e17e-4a86-91dc-b0ba1d256de7",
   "metadata": {},
   "outputs": [
    {
     "data": {
      "text/html": [
       "<div>\n",
       "<style scoped>\n",
       "    .dataframe tbody tr th:only-of-type {\n",
       "        vertical-align: middle;\n",
       "    }\n",
       "\n",
       "    .dataframe tbody tr th {\n",
       "        vertical-align: top;\n",
       "    }\n",
       "\n",
       "    .dataframe thead th {\n",
       "        text-align: right;\n",
       "    }\n",
       "</style>\n",
       "<table border=\"1\" class=\"dataframe\">\n",
       "  <thead>\n",
       "    <tr style=\"text-align: right;\">\n",
       "      <th></th>\n",
       "      <th>student</th>\n",
       "      <th>marks</th>\n",
       "      <th>address</th>\n",
       "    </tr>\n",
       "  </thead>\n",
       "  <tbody>\n",
       "    <tr>\n",
       "      <th>Row_1</th>\n",
       "      <td>a</td>\n",
       "      <td>56</td>\n",
       "      <td>pune</td>\n",
       "    </tr>\n",
       "    <tr>\n",
       "      <th>Row_2</th>\n",
       "      <td>b</td>\n",
       "      <td>65</td>\n",
       "      <td>sangli</td>\n",
       "    </tr>\n",
       "    <tr>\n",
       "      <th>Row_3</th>\n",
       "      <td>c</td>\n",
       "      <td>86</td>\n",
       "      <td>mumbai</td>\n",
       "    </tr>\n",
       "    <tr>\n",
       "      <th>Row_4</th>\n",
       "      <td>d</td>\n",
       "      <td>87</td>\n",
       "      <td>delhi</td>\n",
       "    </tr>\n",
       "  </tbody>\n",
       "</table>\n",
       "</div>"
      ],
      "text/plain": [
       "      student  marks address\n",
       "Row_1       a     56    pune\n",
       "Row_2       b     65  sangli\n",
       "Row_3       c     86  mumbai\n",
       "Row_4       d     87   delhi"
      ]
     },
     "execution_count": 101,
     "metadata": {},
     "output_type": "execute_result"
    }
   ],
   "source": [
    "index = ['Row_1', 'Row_2', 'Row_3','Row_4']\n",
    " \n",
    "# Set the index\n",
    "s.index = index\n",
    "s\n",
    " "
   ]
  },
  {
   "cell_type": "code",
   "execution_count": 196,
   "id": "7047af9b-7d18-4c90-8d5a-a50eeb29791f",
   "metadata": {},
   "outputs": [
    {
     "data": {
      "text/plain": [
       "student       a\n",
       "marks        56\n",
       "address    pune\n",
       "Name: Row_1, dtype: object"
      ]
     },
     "execution_count": 196,
     "metadata": {},
     "output_type": "execute_result"
    }
   ],
   "source": [
    "s.loc['Row_1']"
   ]
  },
  {
   "cell_type": "code",
   "execution_count": 118,
   "id": "ff8b05bf-f4cf-4ae3-be8f-9c24da3453fc",
   "metadata": {},
   "outputs": [
    {
     "data": {
      "text/plain": [
       "student        d\n",
       "marks         87\n",
       "address    delhi\n",
       "Name: Row_4, dtype: object"
      ]
     },
     "execution_count": 118,
     "metadata": {},
     "output_type": "execute_result"
    }
   ],
   "source": [
    "s.loc['Row_4']"
   ]
  },
  {
   "cell_type": "markdown",
   "id": "8af50604-7aa8-459c-8ce8-bef9187e02a6",
   "metadata": {},
   "source": [
    "## ii) df.iloc[]"
   ]
  },
  {
   "cell_type": "markdown",
   "id": "524cfb1a-3cb2-4846-a639-3fece198ccc8",
   "metadata": {},
   "source": [
    "* The iloc function is used to access and manipulate data in a tabular format. \n",
    "* It is used mainly for selecting specific rows and columns of a data frame based on their integer indices.\n",
    "* With the use of the iloc function in Python, you can easily retrieve, filter, and transform data from a data frame.\n",
    "* Syntax: df.iloc[row_selection, column_selection]"
   ]
  },
  {
   "cell_type": "code",
   "execution_count": 122,
   "id": "a24f8288-752e-4fa7-88dc-87d20ededa7b",
   "metadata": {},
   "outputs": [
    {
     "data": {
      "text/html": [
       "<div>\n",
       "<style scoped>\n",
       "    .dataframe tbody tr th:only-of-type {\n",
       "        vertical-align: middle;\n",
       "    }\n",
       "\n",
       "    .dataframe tbody tr th {\n",
       "        vertical-align: top;\n",
       "    }\n",
       "\n",
       "    .dataframe thead th {\n",
       "        text-align: right;\n",
       "    }\n",
       "</style>\n",
       "<table border=\"1\" class=\"dataframe\">\n",
       "  <thead>\n",
       "    <tr style=\"text-align: right;\">\n",
       "      <th></th>\n",
       "      <th>name</th>\n",
       "      <th>age</th>\n",
       "      <th>city</th>\n",
       "    </tr>\n",
       "  </thead>\n",
       "  <tbody>\n",
       "    <tr>\n",
       "      <th>0</th>\n",
       "      <td>Alankrit</td>\n",
       "      <td>22</td>\n",
       "      <td>Jaipur</td>\n",
       "    </tr>\n",
       "    <tr>\n",
       "      <th>1</th>\n",
       "      <td>Vasu</td>\n",
       "      <td>22</td>\n",
       "      <td>Chandigarh</td>\n",
       "    </tr>\n",
       "    <tr>\n",
       "      <th>2</th>\n",
       "      <td>Ayush</td>\n",
       "      <td>23</td>\n",
       "      <td>Lucknow</td>\n",
       "    </tr>\n",
       "  </tbody>\n",
       "</table>\n",
       "</div>"
      ],
      "text/plain": [
       "       name  age        city\n",
       "0  Alankrit   22      Jaipur\n",
       "1      Vasu   22  Chandigarh\n",
       "2     Ayush   23     Lucknow"
      ]
     },
     "execution_count": 122,
     "metadata": {},
     "output_type": "execute_result"
    }
   ],
   "source": [
    "# Create Dataframe\n",
    "df = pd.DataFrame({'name': ['Alankrit', 'Vasu', 'Ayush'], 'age': [22, 22, 23], 'city': ['Jaipur', 'Chandigarh', 'Lucknow']})\n",
    "df\n"
   ]
  },
  {
   "cell_type": "code",
   "execution_count": 144,
   "id": "8e8297db-13ba-44ae-acfd-cbfb4cd866b8",
   "metadata": {},
   "outputs": [
    {
     "data": {
      "text/html": [
       "<div>\n",
       "<style scoped>\n",
       "    .dataframe tbody tr th:only-of-type {\n",
       "        vertical-align: middle;\n",
       "    }\n",
       "\n",
       "    .dataframe tbody tr th {\n",
       "        vertical-align: top;\n",
       "    }\n",
       "\n",
       "    .dataframe thead th {\n",
       "        text-align: right;\n",
       "    }\n",
       "</style>\n",
       "<table border=\"1\" class=\"dataframe\">\n",
       "  <thead>\n",
       "    <tr style=\"text-align: right;\">\n",
       "      <th></th>\n",
       "      <th>name</th>\n",
       "      <th>age</th>\n",
       "      <th>city</th>\n",
       "    </tr>\n",
       "  </thead>\n",
       "  <tbody>\n",
       "    <tr>\n",
       "      <th>1</th>\n",
       "      <td>Vasu</td>\n",
       "      <td>22</td>\n",
       "      <td>Chandigarh</td>\n",
       "    </tr>\n",
       "    <tr>\n",
       "      <th>2</th>\n",
       "      <td>Ayush</td>\n",
       "      <td>23</td>\n",
       "      <td>Lucknow</td>\n",
       "    </tr>\n",
       "  </tbody>\n",
       "</table>\n",
       "</div>"
      ],
      "text/plain": [
       "    name  age        city\n",
       "1   Vasu   22  Chandigarh\n",
       "2  Ayush   23     Lucknow"
      ]
     },
     "execution_count": 144,
     "metadata": {},
     "output_type": "execute_result"
    }
   ],
   "source": [
    "df.iloc[1:]"
   ]
  },
  {
   "cell_type": "code",
   "execution_count": 142,
   "id": "021d7399-e8d0-4c6a-bbe4-6433ad7b4827",
   "metadata": {},
   "outputs": [
    {
     "data": {
      "text/html": [
       "<div>\n",
       "<style scoped>\n",
       "    .dataframe tbody tr th:only-of-type {\n",
       "        vertical-align: middle;\n",
       "    }\n",
       "\n",
       "    .dataframe tbody tr th {\n",
       "        vertical-align: top;\n",
       "    }\n",
       "\n",
       "    .dataframe thead th {\n",
       "        text-align: right;\n",
       "    }\n",
       "</style>\n",
       "<table border=\"1\" class=\"dataframe\">\n",
       "  <thead>\n",
       "    <tr style=\"text-align: right;\">\n",
       "      <th></th>\n",
       "      <th>name</th>\n",
       "      <th>age</th>\n",
       "      <th>city</th>\n",
       "    </tr>\n",
       "  </thead>\n",
       "  <tbody>\n",
       "    <tr>\n",
       "      <th>0</th>\n",
       "      <td>Alankrit</td>\n",
       "      <td>22</td>\n",
       "      <td>Jaipur</td>\n",
       "    </tr>\n",
       "    <tr>\n",
       "      <th>2</th>\n",
       "      <td>Ayush</td>\n",
       "      <td>23</td>\n",
       "      <td>Lucknow</td>\n",
       "    </tr>\n",
       "  </tbody>\n",
       "</table>\n",
       "</div>"
      ],
      "text/plain": [
       "       name  age     city\n",
       "0  Alankrit   22   Jaipur\n",
       "2     Ayush   23  Lucknow"
      ]
     },
     "execution_count": 142,
     "metadata": {},
     "output_type": "execute_result"
    }
   ],
   "source": [
    "df.iloc[[0, 2], :]\n"
   ]
  },
  {
   "cell_type": "code",
   "execution_count": 152,
   "id": "722a1943-c817-492f-8a08-9f6ea3d5b3c0",
   "metadata": {},
   "outputs": [
    {
     "data": {
      "text/html": [
       "<div>\n",
       "<style scoped>\n",
       "    .dataframe tbody tr th:only-of-type {\n",
       "        vertical-align: middle;\n",
       "    }\n",
       "\n",
       "    .dataframe tbody tr th {\n",
       "        vertical-align: top;\n",
       "    }\n",
       "\n",
       "    .dataframe thead th {\n",
       "        text-align: right;\n",
       "    }\n",
       "</style>\n",
       "<table border=\"1\" class=\"dataframe\">\n",
       "  <thead>\n",
       "    <tr style=\"text-align: right;\">\n",
       "      <th></th>\n",
       "      <th>name</th>\n",
       "      <th>age</th>\n",
       "      <th>city</th>\n",
       "    </tr>\n",
       "  </thead>\n",
       "  <tbody>\n",
       "    <tr>\n",
       "      <th>0</th>\n",
       "      <td>Alankrit</td>\n",
       "      <td>22</td>\n",
       "      <td>Jaipur</td>\n",
       "    </tr>\n",
       "    <tr>\n",
       "      <th>1</th>\n",
       "      <td>Vasu</td>\n",
       "      <td>22</td>\n",
       "      <td>Chandigarh</td>\n",
       "    </tr>\n",
       "    <tr>\n",
       "      <th>2</th>\n",
       "      <td>Ayush</td>\n",
       "      <td>23</td>\n",
       "      <td>Lucknow</td>\n",
       "    </tr>\n",
       "  </tbody>\n",
       "</table>\n",
       "</div>"
      ],
      "text/plain": [
       "       name  age        city\n",
       "0  Alankrit   22      Jaipur\n",
       "1      Vasu   22  Chandigarh\n",
       "2     Ayush   23     Lucknow"
      ]
     },
     "execution_count": 152,
     "metadata": {},
     "output_type": "execute_result"
    }
   ],
   "source": [
    "df.iloc[:,0:]"
   ]
  },
  {
   "cell_type": "code",
   "execution_count": 154,
   "id": "721b0292-74eb-4064-8103-6897ef94763e",
   "metadata": {},
   "outputs": [
    {
     "data": {
      "text/html": [
       "<div>\n",
       "<style scoped>\n",
       "    .dataframe tbody tr th:only-of-type {\n",
       "        vertical-align: middle;\n",
       "    }\n",
       "\n",
       "    .dataframe tbody tr th {\n",
       "        vertical-align: top;\n",
       "    }\n",
       "\n",
       "    .dataframe thead th {\n",
       "        text-align: right;\n",
       "    }\n",
       "</style>\n",
       "<table border=\"1\" class=\"dataframe\">\n",
       "  <thead>\n",
       "    <tr style=\"text-align: right;\">\n",
       "      <th></th>\n",
       "      <th>name</th>\n",
       "      <th>age</th>\n",
       "      <th>city</th>\n",
       "    </tr>\n",
       "  </thead>\n",
       "  <tbody>\n",
       "    <tr>\n",
       "      <th>0</th>\n",
       "      <td>Alankrit</td>\n",
       "      <td>22</td>\n",
       "      <td>Jaipur</td>\n",
       "    </tr>\n",
       "    <tr>\n",
       "      <th>1</th>\n",
       "      <td>Vasu</td>\n",
       "      <td>22</td>\n",
       "      <td>Chandigarh</td>\n",
       "    </tr>\n",
       "    <tr>\n",
       "      <th>2</th>\n",
       "      <td>Ayush</td>\n",
       "      <td>23</td>\n",
       "      <td>Lucknow</td>\n",
       "    </tr>\n",
       "  </tbody>\n",
       "</table>\n",
       "</div>"
      ],
      "text/plain": [
       "       name  age        city\n",
       "0  Alankrit   22      Jaipur\n",
       "1      Vasu   22  Chandigarh\n",
       "2     Ayush   23     Lucknow"
      ]
     },
     "execution_count": 154,
     "metadata": {},
     "output_type": "execute_result"
    }
   ],
   "source": [
    "df.iloc[0:,] "
   ]
  },
  {
   "cell_type": "markdown",
   "id": "4d475e56-9017-47f7-852e-7316c41be1ff",
   "metadata": {},
   "source": [
    "## iii) df['col']"
   ]
  },
  {
   "cell_type": "markdown",
   "id": "c910948c-f6b4-495a-b5ce-7d2ca5f3ff5b",
   "metadata": {},
   "source": [
    "* In Pandas, the DataFrame. columns attribute provides access to the column names of a DataFrame. \n",
    "* It returns an Index object containing the column labels, which can be used to view, manipulate, or assign new labels to columns in a DataFrame."
   ]
  },
  {
   "cell_type": "code",
   "execution_count": 158,
   "id": "9da45b03-35b0-4f13-8e2c-472d9e70f7ec",
   "metadata": {},
   "outputs": [
    {
     "data": {
      "text/html": [
       "<div>\n",
       "<style scoped>\n",
       "    .dataframe tbody tr th:only-of-type {\n",
       "        vertical-align: middle;\n",
       "    }\n",
       "\n",
       "    .dataframe tbody tr th {\n",
       "        vertical-align: top;\n",
       "    }\n",
       "\n",
       "    .dataframe thead th {\n",
       "        text-align: right;\n",
       "    }\n",
       "</style>\n",
       "<table border=\"1\" class=\"dataframe\">\n",
       "  <thead>\n",
       "    <tr style=\"text-align: right;\">\n",
       "      <th></th>\n",
       "      <th>Weight</th>\n",
       "      <th>Name</th>\n",
       "      <th>Age</th>\n",
       "    </tr>\n",
       "  </thead>\n",
       "  <tbody>\n",
       "    <tr>\n",
       "      <th>0</th>\n",
       "      <td>45</td>\n",
       "      <td>Sam</td>\n",
       "      <td>14</td>\n",
       "    </tr>\n",
       "    <tr>\n",
       "      <th>1</th>\n",
       "      <td>88</td>\n",
       "      <td>Andrea</td>\n",
       "      <td>25</td>\n",
       "    </tr>\n",
       "    <tr>\n",
       "      <th>2</th>\n",
       "      <td>56</td>\n",
       "      <td>Alex</td>\n",
       "      <td>55</td>\n",
       "    </tr>\n",
       "    <tr>\n",
       "      <th>3</th>\n",
       "      <td>15</td>\n",
       "      <td>Robin</td>\n",
       "      <td>8</td>\n",
       "    </tr>\n",
       "    <tr>\n",
       "      <th>4</th>\n",
       "      <td>71</td>\n",
       "      <td>Kia</td>\n",
       "      <td>21</td>\n",
       "    </tr>\n",
       "  </tbody>\n",
       "</table>\n",
       "</div>"
      ],
      "text/plain": [
       "   Weight    Name  Age\n",
       "0      45     Sam   14\n",
       "1      88  Andrea   25\n",
       "2      56    Alex   55\n",
       "3      15   Robin    8\n",
       "4      71     Kia   21"
      ]
     },
     "execution_count": 158,
     "metadata": {},
     "output_type": "execute_result"
    }
   ],
   "source": [
    "df = pd.DataFrame({\n",
    "    'Weight': [45, 88, 56, 15, 71],\n",
    "    'Name': ['Sam', 'Andrea', 'Alex', 'Robin', 'Kia'],\n",
    "    'Age': [14, 25, 55, 8, 21]\n",
    "})\n",
    "\n",
    "df"
   ]
  },
  {
   "cell_type": "code",
   "execution_count": 160,
   "id": "3dc847d7-a0e6-48fe-b869-df8762eb9756",
   "metadata": {},
   "outputs": [],
   "source": [
    "# Set custom index\n",
    "index_ = ['Row_1', 'Row_2', 'Row_3', 'Row_4', 'Row_5']\n",
    "df.index = index_"
   ]
  },
  {
   "cell_type": "code",
   "execution_count": 162,
   "id": "d8a07453-a966-4f6b-895e-27b8cee436ea",
   "metadata": {},
   "outputs": [
    {
     "data": {
      "text/html": [
       "<div>\n",
       "<style scoped>\n",
       "    .dataframe tbody tr th:only-of-type {\n",
       "        vertical-align: middle;\n",
       "    }\n",
       "\n",
       "    .dataframe tbody tr th {\n",
       "        vertical-align: top;\n",
       "    }\n",
       "\n",
       "    .dataframe thead th {\n",
       "        text-align: right;\n",
       "    }\n",
       "</style>\n",
       "<table border=\"1\" class=\"dataframe\">\n",
       "  <thead>\n",
       "    <tr style=\"text-align: right;\">\n",
       "      <th></th>\n",
       "      <th>Weight</th>\n",
       "      <th>Name</th>\n",
       "      <th>Age</th>\n",
       "    </tr>\n",
       "  </thead>\n",
       "  <tbody>\n",
       "    <tr>\n",
       "      <th>Row_1</th>\n",
       "      <td>45</td>\n",
       "      <td>Sam</td>\n",
       "      <td>14</td>\n",
       "    </tr>\n",
       "    <tr>\n",
       "      <th>Row_2</th>\n",
       "      <td>88</td>\n",
       "      <td>Andrea</td>\n",
       "      <td>25</td>\n",
       "    </tr>\n",
       "    <tr>\n",
       "      <th>Row_3</th>\n",
       "      <td>56</td>\n",
       "      <td>Alex</td>\n",
       "      <td>55</td>\n",
       "    </tr>\n",
       "    <tr>\n",
       "      <th>Row_4</th>\n",
       "      <td>15</td>\n",
       "      <td>Robin</td>\n",
       "      <td>8</td>\n",
       "    </tr>\n",
       "    <tr>\n",
       "      <th>Row_5</th>\n",
       "      <td>71</td>\n",
       "      <td>Kia</td>\n",
       "      <td>21</td>\n",
       "    </tr>\n",
       "  </tbody>\n",
       "</table>\n",
       "</div>"
      ],
      "text/plain": [
       "       Weight    Name  Age\n",
       "Row_1      45     Sam   14\n",
       "Row_2      88  Andrea   25\n",
       "Row_3      56    Alex   55\n",
       "Row_4      15   Robin    8\n",
       "Row_5      71     Kia   21"
      ]
     },
     "execution_count": 162,
     "metadata": {},
     "output_type": "execute_result"
    }
   ],
   "source": [
    "df"
   ]
  },
  {
   "cell_type": "code",
   "execution_count": 166,
   "id": "92fc4f0e-a375-458c-adb6-7debd63f6eeb",
   "metadata": {},
   "outputs": [
    {
     "data": {
      "text/plain": [
       "Index(['Weight', 'Name', 'Age'], dtype='object')"
      ]
     },
     "execution_count": 166,
     "metadata": {},
     "output_type": "execute_result"
    }
   ],
   "source": [
    "# Get column labels\n",
    "result = df.columns\n",
    "result"
   ]
  },
  {
   "cell_type": "markdown",
   "id": "c4f2a265-ceb2-4ea8-a478-580270519618",
   "metadata": {},
   "source": [
    "## 5) Data cleaning"
   ]
  },
  {
   "cell_type": "markdown",
   "id": "40d536f8-0cc5-450b-b7e5-d4b8f31edbb5",
   "metadata": {},
   "source": [
    "* Data cleaning means fixing bad data in your data set.\n",
    "* Bad data could be:\n",
    "* 1) Empty cells\n",
    "* 2) Data in wrong format\n",
    "* 3) Wrong data\n",
    "* 4) Duplicates"
   ]
  },
  {
   "cell_type": "markdown",
   "id": "a97e4e83-7dea-473b-b226-b25624c25dd0",
   "metadata": {},
   "source": [
    "### i) df.isnull()"
   ]
  },
  {
   "cell_type": "markdown",
   "id": "8f7d7dea-50b6-433d-bcaf-02849533d818",
   "metadata": {},
   "source": [
    "* we can use the function dataframe. isnull() in pandas. \n",
    "* It will return True for missing components and False for non-missing cell\n",
    "* However, when the dimension of a dataset is large, it could be difficult to figure out the existence of missing values.\n",
    "* Detect missing values.\n",
    "* DataFrame.isnull is an alias for DataFrame.isna."
   ]
  },
  {
   "cell_type": "code",
   "execution_count": 176,
   "id": "1170f86e-d59d-48cf-b103-86bebf8d2b41",
   "metadata": {},
   "outputs": [
    {
     "name": "stdout",
     "output_type": "stream",
     "text": [
      "Coca Cola    10\n",
      "Sprite       25\n",
      "Coke          3\n",
      "Fanta        25\n",
      "Dew          24\n",
      "ThumbsUp      6\n",
      "dtype: int64\n"
     ]
    }
   ],
   "source": [
    "# Creating the Series \n",
    "sr = pd.Series([10, 25, 3, 25, 24, 6]) \n",
    "  \n",
    "# Create the Index \n",
    "index_ = ['Coca Cola', 'Sprite', 'Coke', 'Fanta', 'Dew', 'ThumbsUp'] \n",
    "  \n",
    "# set the index \n",
    "sr.index = index_ \n",
    "  \n",
    "# Print the series \n",
    "print(sr) "
   ]
  },
  {
   "cell_type": "code",
   "execution_count": 178,
   "id": "5a524c37-86b8-4a40-b42a-e046ea6b157a",
   "metadata": {},
   "outputs": [
    {
     "data": {
      "text/plain": [
       "Coca Cola    False\n",
       "Sprite       False\n",
       "Coke         False\n",
       "Fanta        False\n",
       "Dew          False\n",
       "ThumbsUp     False\n",
       "dtype: bool"
      ]
     },
     "execution_count": 178,
     "metadata": {},
     "output_type": "execute_result"
    }
   ],
   "source": [
    "sr.isnull()"
   ]
  },
  {
   "cell_type": "markdown",
   "id": "668aee84-7f47-4090-980f-510460b38b01",
   "metadata": {},
   "source": [
    "### ii)  pd.dropna()"
   ]
  },
  {
   "cell_type": "markdown",
   "id": "2c0cc45d-ca1a-4d63-94b3-d38396e1b016",
   "metadata": {},
   "source": [
    "* The dropna() method removes the rows that contains NULL values.\n",
    "* The dropna() method returns a new DataFrame object unless the inplace parameter is set to True, in that case \n",
    "  ,the dropna() method does the removing in the original DataFrame instead.\n",
    "* Syntax: dataframe.dropna(axis, how, thresh, subset, inplace)\n",
    "\n",
    "\n"
   ]
  },
  {
   "cell_type": "code",
   "execution_count": 181,
   "id": "fb497a70-71ed-4be3-9f32-00155670922a",
   "metadata": {},
   "outputs": [
    {
     "data": {
      "text/html": [
       "<div>\n",
       "<style scoped>\n",
       "    .dataframe tbody tr th:only-of-type {\n",
       "        vertical-align: middle;\n",
       "    }\n",
       "\n",
       "    .dataframe tbody tr th {\n",
       "        vertical-align: top;\n",
       "    }\n",
       "\n",
       "    .dataframe thead th {\n",
       "        text-align: right;\n",
       "    }\n",
       "</style>\n",
       "<table border=\"1\" class=\"dataframe\">\n",
       "  <thead>\n",
       "    <tr style=\"text-align: right;\">\n",
       "      <th></th>\n",
       "      <th>name</th>\n",
       "      <th>toy</th>\n",
       "      <th>born</th>\n",
       "    </tr>\n",
       "  </thead>\n",
       "  <tbody>\n",
       "    <tr>\n",
       "      <th>0</th>\n",
       "      <td>Superman</td>\n",
       "      <td>NaN</td>\n",
       "      <td>NaT</td>\n",
       "    </tr>\n",
       "    <tr>\n",
       "      <th>1</th>\n",
       "      <td>Batman</td>\n",
       "      <td>Batmobile</td>\n",
       "      <td>1956-06-26</td>\n",
       "    </tr>\n",
       "    <tr>\n",
       "      <th>2</th>\n",
       "      <td>Spiderman</td>\n",
       "      <td>Spiderman toy</td>\n",
       "      <td>NaT</td>\n",
       "    </tr>\n",
       "  </tbody>\n",
       "</table>\n",
       "</div>"
      ],
      "text/plain": [
       "        name            toy       born\n",
       "0   Superman            NaN        NaT\n",
       "1     Batman      Batmobile 1956-06-26\n",
       "2  Spiderman  Spiderman toy        NaT"
      ]
     },
     "execution_count": 181,
     "metadata": {},
     "output_type": "execute_result"
    }
   ],
   "source": [
    "df = pd.DataFrame({\"name\": ['Superman', 'Batman', 'Spiderman'],\n",
    "                   \"toy\": [np.nan, 'Batmobile', 'Spiderman toy'],\n",
    "                   \"born\": [pd.NaT, pd.Timestamp(\"1956-06-26\"),\n",
    "                            pd.NaT]})\n",
    "df"
   ]
  },
  {
   "cell_type": "code",
   "execution_count": 183,
   "id": "247d6168-85ff-4505-8f7e-5f6a2286ad9f",
   "metadata": {},
   "outputs": [
    {
     "data": {
      "text/html": [
       "<div>\n",
       "<style scoped>\n",
       "    .dataframe tbody tr th:only-of-type {\n",
       "        vertical-align: middle;\n",
       "    }\n",
       "\n",
       "    .dataframe tbody tr th {\n",
       "        vertical-align: top;\n",
       "    }\n",
       "\n",
       "    .dataframe thead th {\n",
       "        text-align: right;\n",
       "    }\n",
       "</style>\n",
       "<table border=\"1\" class=\"dataframe\">\n",
       "  <thead>\n",
       "    <tr style=\"text-align: right;\">\n",
       "      <th></th>\n",
       "      <th>name</th>\n",
       "      <th>toy</th>\n",
       "      <th>born</th>\n",
       "    </tr>\n",
       "  </thead>\n",
       "  <tbody>\n",
       "    <tr>\n",
       "      <th>1</th>\n",
       "      <td>Batman</td>\n",
       "      <td>Batmobile</td>\n",
       "      <td>1956-06-26</td>\n",
       "    </tr>\n",
       "  </tbody>\n",
       "</table>\n",
       "</div>"
      ],
      "text/plain": [
       "     name        toy       born\n",
       "1  Batman  Batmobile 1956-06-26"
      ]
     },
     "execution_count": 183,
     "metadata": {},
     "output_type": "execute_result"
    }
   ],
   "source": [
    "df.dropna()"
   ]
  },
  {
   "cell_type": "markdown",
   "id": "e61c7ae4-b487-41c4-afcf-2594314519af",
   "metadata": {},
   "source": [
    "## iii) df.fillna()"
   ]
  },
  {
   "cell_type": "markdown",
   "id": "5a373ac6-c754-4018-9ac2-c03c3f47d928",
   "metadata": {},
   "source": [
    "* The fillna() method replaces the NULL values with a specified value.\n",
    "* The fillna() method returns a new DataFrame object unless the inplace parameter is set to True, in that case.\n",
    "* The fillna() method does the replacing in the original DataFrame instead.\n",
    "* Syntax: dataframe.fillna(value, method, axis, inplace, limit, downcast)."
   ]
  },
  {
   "cell_type": "code",
   "execution_count": 189,
   "id": "cab5dc3b-e66e-40c5-a1f6-5d0e1aeee4d0",
   "metadata": {},
   "outputs": [
    {
     "name": "stdout",
     "output_type": "stream",
     "text": [
      "          A         B\n",
      "0       1.0         a\n",
      "1       2.0  No Value\n",
      "2  No Value         c\n",
      "3       4.0         d\n"
     ]
    },
    {
     "name": "stderr",
     "output_type": "stream",
     "text": [
      "C:\\Users\\Win-10\\AppData\\Local\\Temp\\ipykernel_6872\\1059027379.py:8: FutureWarning: Setting an item of incompatible dtype is deprecated and will raise an error in a future version of pandas. Value 'No Value' has dtype incompatible with float64, please explicitly cast to a compatible dtype first.\n",
      "  df.fillna('No Value', inplace=True)\n"
     ]
    }
   ],
   "source": [
    "# Creating a DataFrame with null values\n",
    "df = pd.DataFrame({\n",
    "    'A': [1, 2, None, 4],\n",
    "    'B': ['a', None, 'c', 'd']\n",
    "})\n",
    "\n",
    "# Replace null values with a specified value\n",
    "df.fillna('No Value', inplace=True)\n",
    "print(df)"
   ]
  },
  {
   "cell_type": "markdown",
   "id": "9d7c8192-38e0-47bd-a3ed-9b89232a5b94",
   "metadata": {},
   "source": [
    "## 6) Renaming"
   ]
  },
  {
   "cell_type": "markdown",
   "id": "73e7ef37-704b-442d-9530-26a62fc7845b",
   "metadata": {},
   "source": [
    "* we will see how to rename column in Pandas DataFrame. \n",
    "* The simplest way to rename columns in a Pandas DataFrame is to use the rename() function. \n",
    "* This method allows renaming specific columns by passing a dictionary, where keys are the old column names and values are the new column names.\n",
    "* Rename columns or index labels."
   ]
  },
  {
   "cell_type": "code",
   "execution_count": 204,
   "id": "d5167ebe-8d8d-438d-8e35-ea4929c93522",
   "metadata": {},
   "outputs": [
    {
     "data": {
      "text/html": [
       "<div>\n",
       "<style scoped>\n",
       "    .dataframe tbody tr th:only-of-type {\n",
       "        vertical-align: middle;\n",
       "    }\n",
       "\n",
       "    .dataframe tbody tr th {\n",
       "        vertical-align: top;\n",
       "    }\n",
       "\n",
       "    .dataframe thead th {\n",
       "        text-align: right;\n",
       "    }\n",
       "</style>\n",
       "<table border=\"1\" class=\"dataframe\">\n",
       "  <thead>\n",
       "    <tr style=\"text-align: right;\">\n",
       "      <th></th>\n",
       "      <th>A</th>\n",
       "      <th>B</th>\n",
       "      <th>C</th>\n",
       "    </tr>\n",
       "  </thead>\n",
       "  <tbody>\n",
       "    <tr>\n",
       "      <th>0</th>\n",
       "      <td>1</td>\n",
       "      <td>4</td>\n",
       "      <td>7</td>\n",
       "    </tr>\n",
       "    <tr>\n",
       "      <th>1</th>\n",
       "      <td>2</td>\n",
       "      <td>5</td>\n",
       "      <td>8</td>\n",
       "    </tr>\n",
       "    <tr>\n",
       "      <th>2</th>\n",
       "      <td>3</td>\n",
       "      <td>6</td>\n",
       "      <td>9</td>\n",
       "    </tr>\n",
       "  </tbody>\n",
       "</table>\n",
       "</div>"
      ],
      "text/plain": [
       "   A  B  C\n",
       "0  1  4  7\n",
       "1  2  5  8\n",
       "2  3  6  9"
      ]
     },
     "execution_count": 204,
     "metadata": {},
     "output_type": "execute_result"
    }
   ],
   "source": [
    "df = pd.DataFrame({'A': [1, 2, 3], 'B': [4, 5, 6], 'C': [7, 8, 9]})\n",
    "df\n"
   ]
  },
  {
   "cell_type": "code",
   "execution_count": 206,
   "id": "730814e9-989c-49eb-8f3b-0d193b29f5df",
   "metadata": {},
   "outputs": [
    {
     "name": "stdout",
     "output_type": "stream",
     "text": [
      "   X  Y  Z\n",
      "0  1  4  7\n",
      "1  2  5  8\n",
      "2  3  6  9\n"
     ]
    }
   ],
   "source": [
    "# Renaming columns\n",
    "df.rename(columns={'A': 'X', 'B': 'Y', 'C': 'Z'}, inplace=True)\n",
    "print(df)"
   ]
  },
  {
   "cell_type": "code",
   "execution_count": 210,
   "id": "6940d128-2b2e-4293-a2cc-6c687721e7af",
   "metadata": {},
   "outputs": [
    {
     "data": {
      "text/html": [
       "<div>\n",
       "<style scoped>\n",
       "    .dataframe tbody tr th:only-of-type {\n",
       "        vertical-align: middle;\n",
       "    }\n",
       "\n",
       "    .dataframe tbody tr th {\n",
       "        vertical-align: top;\n",
       "    }\n",
       "\n",
       "    .dataframe thead th {\n",
       "        text-align: right;\n",
       "    }\n",
       "</style>\n",
       "<table border=\"1\" class=\"dataframe\">\n",
       "  <thead>\n",
       "    <tr style=\"text-align: right;\">\n",
       "      <th></th>\n",
       "      <th>Alpha</th>\n",
       "      <th>Beta</th>\n",
       "      <th>Gamma</th>\n",
       "    </tr>\n",
       "  </thead>\n",
       "  <tbody>\n",
       "    <tr>\n",
       "      <th>0</th>\n",
       "      <td>1</td>\n",
       "      <td>4</td>\n",
       "      <td>7</td>\n",
       "    </tr>\n",
       "    <tr>\n",
       "      <th>1</th>\n",
       "      <td>2</td>\n",
       "      <td>5</td>\n",
       "      <td>8</td>\n",
       "    </tr>\n",
       "    <tr>\n",
       "      <th>2</th>\n",
       "      <td>3</td>\n",
       "      <td>6</td>\n",
       "      <td>9</td>\n",
       "    </tr>\n",
       "  </tbody>\n",
       "</table>\n",
       "</div>"
      ],
      "text/plain": [
       "   Alpha  Beta  Gamma\n",
       "0      1     4      7\n",
       "1      2     5      8\n",
       "2      3     6      9"
      ]
     },
     "execution_count": 210,
     "metadata": {},
     "output_type": "execute_result"
    }
   ],
   "source": [
    "import pandas as pd\n",
    "df = pd.DataFrame({ 'A': [1, 2, 3], 'B': [4,5,6], 'C' : [7,8,9]})\n",
    "# Rename Column \n",
    "df = df.rename(columns={'A': 'Alpha', 'B': 'Beta', 'C': 'Gamma'})\n",
    "df"
   ]
  },
  {
   "cell_type": "markdown",
   "id": "965cf0a1-a284-4efe-ba04-435328ae6640",
   "metadata": {},
   "source": [
    "### 7) filtering"
   ]
  },
  {
   "cell_type": "code",
   "execution_count": null,
   "id": "c07d2f0f-64c0-4390-9167-48729f480c05",
   "metadata": {},
   "outputs": [],
   "source": [
    "* Pandas dataframe.filter() function is used to Subset rows or columns of dataframe according to labels in the specified index. \n",
    "* Note that this routine does not filter a dataframe on its contents. The filter is applied to the labels of the index.\n",
    "* Syntax: DataFrame.filter(items=None, like=None, regex=None, axis=None)"
   ]
  },
  {
   "cell_type": "code",
   "execution_count": 215,
   "id": "4f70e70f-e7b2-4fc4-8cf9-ac695962a6bf",
   "metadata": {},
   "outputs": [
    {
     "data": {
      "text/html": [
       "<div>\n",
       "<style scoped>\n",
       "    .dataframe tbody tr th:only-of-type {\n",
       "        vertical-align: middle;\n",
       "    }\n",
       "\n",
       "    .dataframe tbody tr th {\n",
       "        vertical-align: top;\n",
       "    }\n",
       "\n",
       "    .dataframe thead th {\n",
       "        text-align: right;\n",
       "    }\n",
       "</style>\n",
       "<table border=\"1\" class=\"dataframe\">\n",
       "  <thead>\n",
       "    <tr style=\"text-align: right;\">\n",
       "      <th></th>\n",
       "      <th>name</th>\n",
       "      <th>age</th>\n",
       "      <th>qualified</th>\n",
       "    </tr>\n",
       "  </thead>\n",
       "  <tbody>\n",
       "    <tr>\n",
       "      <th>0</th>\n",
       "      <td>Sally</td>\n",
       "      <td>50</td>\n",
       "      <td>True</td>\n",
       "    </tr>\n",
       "    <tr>\n",
       "      <th>1</th>\n",
       "      <td>Mary</td>\n",
       "      <td>40</td>\n",
       "      <td>False</td>\n",
       "    </tr>\n",
       "    <tr>\n",
       "      <th>2</th>\n",
       "      <td>John</td>\n",
       "      <td>30</td>\n",
       "      <td>False</td>\n",
       "    </tr>\n",
       "  </tbody>\n",
       "</table>\n",
       "</div>"
      ],
      "text/plain": [
       "    name  age  qualified\n",
       "0  Sally   50       True\n",
       "1   Mary   40      False\n",
       "2   John   30      False"
      ]
     },
     "execution_count": 215,
     "metadata": {},
     "output_type": "execute_result"
    }
   ],
   "source": [
    "data = {\n",
    "  \"name\": [\"Sally\", \"Mary\", \"John\"],\n",
    "  \"age\": [50, 40, 30],\n",
    "  \"qualified\": [True, False, False]\n",
    "}\n",
    "df = pd.DataFrame(data)\n",
    "df"
   ]
  },
  {
   "cell_type": "code",
   "execution_count": 217,
   "id": "3321c3bb-d60a-4cc3-a5cc-3ff4d9c796a1",
   "metadata": {},
   "outputs": [
    {
     "data": {
      "text/html": [
       "<div>\n",
       "<style scoped>\n",
       "    .dataframe tbody tr th:only-of-type {\n",
       "        vertical-align: middle;\n",
       "    }\n",
       "\n",
       "    .dataframe tbody tr th {\n",
       "        vertical-align: top;\n",
       "    }\n",
       "\n",
       "    .dataframe thead th {\n",
       "        text-align: right;\n",
       "    }\n",
       "</style>\n",
       "<table border=\"1\" class=\"dataframe\">\n",
       "  <thead>\n",
       "    <tr style=\"text-align: right;\">\n",
       "      <th></th>\n",
       "      <th>name</th>\n",
       "      <th>age</th>\n",
       "    </tr>\n",
       "  </thead>\n",
       "  <tbody>\n",
       "    <tr>\n",
       "      <th>0</th>\n",
       "      <td>Sally</td>\n",
       "      <td>50</td>\n",
       "    </tr>\n",
       "    <tr>\n",
       "      <th>1</th>\n",
       "      <td>Mary</td>\n",
       "      <td>40</td>\n",
       "    </tr>\n",
       "    <tr>\n",
       "      <th>2</th>\n",
       "      <td>John</td>\n",
       "      <td>30</td>\n",
       "    </tr>\n",
       "  </tbody>\n",
       "</table>\n",
       "</div>"
      ],
      "text/plain": [
       "    name  age\n",
       "0  Sally   50\n",
       "1   Mary   40\n",
       "2   John   30"
      ]
     },
     "execution_count": 217,
     "metadata": {},
     "output_type": "execute_result"
    }
   ],
   "source": [
    "newdf = df.filter(items=[\"name\", \"age\"])\n",
    "newdf"
   ]
  },
  {
   "cell_type": "code",
   "execution_count": 219,
   "id": "654598c5-fc73-4ce4-aa48-9b3c73095b82",
   "metadata": {},
   "outputs": [
    {
     "data": {
      "text/html": [
       "<div>\n",
       "<style scoped>\n",
       "    .dataframe tbody tr th:only-of-type {\n",
       "        vertical-align: middle;\n",
       "    }\n",
       "\n",
       "    .dataframe tbody tr th {\n",
       "        vertical-align: top;\n",
       "    }\n",
       "\n",
       "    .dataframe thead th {\n",
       "        text-align: right;\n",
       "    }\n",
       "</style>\n",
       "<table border=\"1\" class=\"dataframe\">\n",
       "  <thead>\n",
       "    <tr style=\"text-align: right;\">\n",
       "      <th></th>\n",
       "      <th>Name</th>\n",
       "      <th>Age</th>\n",
       "      <th>Score</th>\n",
       "    </tr>\n",
       "  </thead>\n",
       "  <tbody>\n",
       "    <tr>\n",
       "      <th>0</th>\n",
       "      <td>Alice</td>\n",
       "      <td>25</td>\n",
       "      <td>85</td>\n",
       "    </tr>\n",
       "    <tr>\n",
       "      <th>1</th>\n",
       "      <td>Bob</td>\n",
       "      <td>32</td>\n",
       "      <td>90</td>\n",
       "    </tr>\n",
       "    <tr>\n",
       "      <th>2</th>\n",
       "      <td>Charlie</td>\n",
       "      <td>45</td>\n",
       "      <td>78</td>\n",
       "    </tr>\n",
       "  </tbody>\n",
       "</table>\n",
       "</div>"
      ],
      "text/plain": [
       "      Name  Age  Score\n",
       "0    Alice   25     85\n",
       "1      Bob   32     90\n",
       "2  Charlie   45     78"
      ]
     },
     "execution_count": 219,
     "metadata": {},
     "output_type": "execute_result"
    }
   ],
   "source": [
    "data = {'Name': ['Alice', 'Bob', 'Charlie'],\n",
    "        'Age': [25, 32,45],\n",
    "        'Score': [85, 90, 78]}\n",
    "df = pd.DataFrame(data)\n",
    "df"
   ]
  },
  {
   "cell_type": "code",
   "execution_count": 221,
   "id": "2a895512-71ac-423c-83b8-a9a690370d9e",
   "metadata": {},
   "outputs": [
    {
     "data": {
      "text/html": [
       "<div>\n",
       "<style scoped>\n",
       "    .dataframe tbody tr th:only-of-type {\n",
       "        vertical-align: middle;\n",
       "    }\n",
       "\n",
       "    .dataframe tbody tr th {\n",
       "        vertical-align: top;\n",
       "    }\n",
       "\n",
       "    .dataframe thead th {\n",
       "        text-align: right;\n",
       "    }\n",
       "</style>\n",
       "<table border=\"1\" class=\"dataframe\">\n",
       "  <thead>\n",
       "    <tr style=\"text-align: right;\">\n",
       "      <th></th>\n",
       "      <th>Name</th>\n",
       "      <th>Age</th>\n",
       "      <th>Score</th>\n",
       "    </tr>\n",
       "  </thead>\n",
       "  <tbody>\n",
       "    <tr>\n",
       "      <th>1</th>\n",
       "      <td>Bob</td>\n",
       "      <td>32</td>\n",
       "      <td>90</td>\n",
       "    </tr>\n",
       "    <tr>\n",
       "      <th>2</th>\n",
       "      <td>Charlie</td>\n",
       "      <td>45</td>\n",
       "      <td>78</td>\n",
       "    </tr>\n",
       "  </tbody>\n",
       "</table>\n",
       "</div>"
      ],
      "text/plain": [
       "      Name  Age  Score\n",
       "1      Bob   32     90\n",
       "2  Charlie   45     78"
      ]
     },
     "metadata": {},
     "output_type": "display_data"
    }
   ],
   "source": [
    "# Filter rows where Age is greater than 30\n",
    "filtered_df = df[df['Age'] > 30]\n",
    "display(filtered_df)"
   ]
  },
  {
   "cell_type": "code",
   "execution_count": 223,
   "id": "7f456b03-0e35-4f5a-a6be-28b24b7a7472",
   "metadata": {},
   "outputs": [
    {
     "data": {
      "text/html": [
       "<div>\n",
       "<style scoped>\n",
       "    .dataframe tbody tr th:only-of-type {\n",
       "        vertical-align: middle;\n",
       "    }\n",
       "\n",
       "    .dataframe tbody tr th {\n",
       "        vertical-align: top;\n",
       "    }\n",
       "\n",
       "    .dataframe thead th {\n",
       "        text-align: right;\n",
       "    }\n",
       "</style>\n",
       "<table border=\"1\" class=\"dataframe\">\n",
       "  <thead>\n",
       "    <tr style=\"text-align: right;\">\n",
       "      <th></th>\n",
       "      <th>Name</th>\n",
       "      <th>Age</th>\n",
       "      <th>Score</th>\n",
       "    </tr>\n",
       "  </thead>\n",
       "  <tbody>\n",
       "    <tr>\n",
       "      <th>0</th>\n",
       "      <td>Alice</td>\n",
       "      <td>25</td>\n",
       "      <td>85</td>\n",
       "    </tr>\n",
       "    <tr>\n",
       "      <th>2</th>\n",
       "      <td>Charlie</td>\n",
       "      <td>45</td>\n",
       "      <td>78</td>\n",
       "    </tr>\n",
       "  </tbody>\n",
       "</table>\n",
       "</div>"
      ],
      "text/plain": [
       "      Name  Age  Score\n",
       "0    Alice   25     85\n",
       "2  Charlie   45     78"
      ]
     },
     "execution_count": 223,
     "metadata": {},
     "output_type": "execute_result"
    }
   ],
   "source": [
    "fil_df=df[df['Score']<90]\n",
    "fil_df"
   ]
  },
  {
   "cell_type": "code",
   "execution_count": 229,
   "id": "6ed41447-2127-4821-90f3-f5ed6b9a96c6",
   "metadata": {},
   "outputs": [
    {
     "data": {
      "text/html": [
       "<div>\n",
       "<style scoped>\n",
       "    .dataframe tbody tr th:only-of-type {\n",
       "        vertical-align: middle;\n",
       "    }\n",
       "\n",
       "    .dataframe tbody tr th {\n",
       "        vertical-align: top;\n",
       "    }\n",
       "\n",
       "    .dataframe thead th {\n",
       "        text-align: right;\n",
       "    }\n",
       "</style>\n",
       "<table border=\"1\" class=\"dataframe\">\n",
       "  <thead>\n",
       "    <tr style=\"text-align: right;\">\n",
       "      <th></th>\n",
       "      <th>Name</th>\n",
       "      <th>Age</th>\n",
       "      <th>Score</th>\n",
       "    </tr>\n",
       "  </thead>\n",
       "  <tbody>\n",
       "    <tr>\n",
       "      <th>2</th>\n",
       "      <td>Charlie</td>\n",
       "      <td>45</td>\n",
       "      <td>78</td>\n",
       "    </tr>\n",
       "  </tbody>\n",
       "</table>\n",
       "</div>"
      ],
      "text/plain": [
       "      Name  Age  Score\n",
       "2  Charlie   45     78"
      ]
     },
     "execution_count": 229,
     "metadata": {},
     "output_type": "execute_result"
    }
   ],
   "source": [
    "fil_df1=df[df['Name']=='Charlie']\n",
    "fil_df1"
   ]
  },
  {
   "cell_type": "markdown",
   "id": "de228cd6-1c12-4fd0-8077-3d8aa45bbde5",
   "metadata": {},
   "source": [
    "### 8) Aggregation and Grouping"
   ]
  },
  {
   "cell_type": "markdown",
   "id": "982b4455-e0da-4a42-9e31-605d2fe8f684",
   "metadata": {},
   "source": [
    "### i) Groupby"
   ]
  },
  {
   "cell_type": "markdown",
   "id": "b6e18761-6100-4d0f-a217-120afed074a8",
   "metadata": {},
   "source": [
    "* The pandas .groupby() method allows you to efficiently analyze and transform datasets when working with data in Python. \n",
    "* With df.groupby(), you can split a DataFrame into groups based on column values, apply functions to each group, and combine \n",
    "  the results into a new DataFrame. \n",
    "* This technique is essential for tasks like aggregation, filtering, and transformation on grouped data."
   ]
  },
  {
   "cell_type": "code",
   "execution_count": 234,
   "id": "0b8dbbcb-f668-487d-99a3-e3a9f1b4f855",
   "metadata": {},
   "outputs": [
    {
     "data": {
      "text/html": [
       "<div>\n",
       "<style scoped>\n",
       "    .dataframe tbody tr th:only-of-type {\n",
       "        vertical-align: middle;\n",
       "    }\n",
       "\n",
       "    .dataframe tbody tr th {\n",
       "        vertical-align: top;\n",
       "    }\n",
       "\n",
       "    .dataframe thead th {\n",
       "        text-align: right;\n",
       "    }\n",
       "</style>\n",
       "<table border=\"1\" class=\"dataframe\">\n",
       "  <thead>\n",
       "    <tr style=\"text-align: right;\">\n",
       "      <th></th>\n",
       "      <th>Animal</th>\n",
       "      <th>Max Speed</th>\n",
       "    </tr>\n",
       "  </thead>\n",
       "  <tbody>\n",
       "    <tr>\n",
       "      <th>0</th>\n",
       "      <td>Falcon</td>\n",
       "      <td>380.0</td>\n",
       "    </tr>\n",
       "    <tr>\n",
       "      <th>1</th>\n",
       "      <td>Falcon</td>\n",
       "      <td>370.0</td>\n",
       "    </tr>\n",
       "    <tr>\n",
       "      <th>2</th>\n",
       "      <td>Parrot</td>\n",
       "      <td>24.0</td>\n",
       "    </tr>\n",
       "    <tr>\n",
       "      <th>3</th>\n",
       "      <td>Parrot</td>\n",
       "      <td>26.0</td>\n",
       "    </tr>\n",
       "  </tbody>\n",
       "</table>\n",
       "</div>"
      ],
      "text/plain": [
       "   Animal  Max Speed\n",
       "0  Falcon      380.0\n",
       "1  Falcon      370.0\n",
       "2  Parrot       24.0\n",
       "3  Parrot       26.0"
      ]
     },
     "execution_count": 234,
     "metadata": {},
     "output_type": "execute_result"
    }
   ],
   "source": [
    "df = pd.DataFrame({'Animal': ['Falcon', 'Falcon',\n",
    "                              'Parrot', 'Parrot'],\n",
    "                   'Max Speed': [380., 370., 24., 26.]})\n",
    "df"
   ]
  },
  {
   "cell_type": "code",
   "execution_count": 240,
   "id": "7f5cd34b-6b21-407d-a164-c8242b540c95",
   "metadata": {},
   "outputs": [
    {
     "data": {
      "text/html": [
       "<div>\n",
       "<style scoped>\n",
       "    .dataframe tbody tr th:only-of-type {\n",
       "        vertical-align: middle;\n",
       "    }\n",
       "\n",
       "    .dataframe tbody tr th {\n",
       "        vertical-align: top;\n",
       "    }\n",
       "\n",
       "    .dataframe thead th {\n",
       "        text-align: right;\n",
       "    }\n",
       "</style>\n",
       "<table border=\"1\" class=\"dataframe\">\n",
       "  <thead>\n",
       "    <tr style=\"text-align: right;\">\n",
       "      <th></th>\n",
       "      <th>Max Speed</th>\n",
       "    </tr>\n",
       "    <tr>\n",
       "      <th>Animal</th>\n",
       "      <th></th>\n",
       "    </tr>\n",
       "  </thead>\n",
       "  <tbody>\n",
       "    <tr>\n",
       "      <th>Falcon</th>\n",
       "      <td>375.0</td>\n",
       "    </tr>\n",
       "    <tr>\n",
       "      <th>Parrot</th>\n",
       "      <td>25.0</td>\n",
       "    </tr>\n",
       "  </tbody>\n",
       "</table>\n",
       "</div>"
      ],
      "text/plain": [
       "        Max Speed\n",
       "Animal           \n",
       "Falcon      375.0\n",
       "Parrot       25.0"
      ]
     },
     "execution_count": 240,
     "metadata": {},
     "output_type": "execute_result"
    }
   ],
   "source": [
    "df.groupby(['Animal']).mean()\n",
    "    "
   ]
  },
  {
   "cell_type": "code",
   "execution_count": 242,
   "id": "6d837272-f0e7-4fb3-9dde-a4556f48dd81",
   "metadata": {},
   "outputs": [
    {
     "data": {
      "text/html": [
       "<div>\n",
       "<style scoped>\n",
       "    .dataframe tbody tr th:only-of-type {\n",
       "        vertical-align: middle;\n",
       "    }\n",
       "\n",
       "    .dataframe tbody tr th {\n",
       "        vertical-align: top;\n",
       "    }\n",
       "\n",
       "    .dataframe thead th {\n",
       "        text-align: right;\n",
       "    }\n",
       "</style>\n",
       "<table border=\"1\" class=\"dataframe\">\n",
       "  <thead>\n",
       "    <tr style=\"text-align: right;\">\n",
       "      <th></th>\n",
       "      <th>Max Speed</th>\n",
       "    </tr>\n",
       "    <tr>\n",
       "      <th>Animal</th>\n",
       "      <th></th>\n",
       "    </tr>\n",
       "  </thead>\n",
       "  <tbody>\n",
       "    <tr>\n",
       "      <th>Falcon</th>\n",
       "      <td>750.0</td>\n",
       "    </tr>\n",
       "    <tr>\n",
       "      <th>Parrot</th>\n",
       "      <td>50.0</td>\n",
       "    </tr>\n",
       "  </tbody>\n",
       "</table>\n",
       "</div>"
      ],
      "text/plain": [
       "        Max Speed\n",
       "Animal           \n",
       "Falcon      750.0\n",
       "Parrot       50.0"
      ]
     },
     "execution_count": 242,
     "metadata": {},
     "output_type": "execute_result"
    }
   ],
   "source": [
    "df.groupby(['Animal']).sum()"
   ]
  },
  {
   "cell_type": "code",
   "execution_count": 244,
   "id": "95729ccf-698e-4cbe-882c-52f178ff3d21",
   "metadata": {},
   "outputs": [
    {
     "data": {
      "text/html": [
       "<div>\n",
       "<style scoped>\n",
       "    .dataframe tbody tr th:only-of-type {\n",
       "        vertical-align: middle;\n",
       "    }\n",
       "\n",
       "    .dataframe tbody tr th {\n",
       "        vertical-align: top;\n",
       "    }\n",
       "\n",
       "    .dataframe thead th {\n",
       "        text-align: right;\n",
       "    }\n",
       "</style>\n",
       "<table border=\"1\" class=\"dataframe\">\n",
       "  <thead>\n",
       "    <tr style=\"text-align: right;\">\n",
       "      <th></th>\n",
       "      <th>Max Speed</th>\n",
       "    </tr>\n",
       "    <tr>\n",
       "      <th>Animal</th>\n",
       "      <th></th>\n",
       "    </tr>\n",
       "  </thead>\n",
       "  <tbody>\n",
       "    <tr>\n",
       "      <th>Falcon</th>\n",
       "      <td>2</td>\n",
       "    </tr>\n",
       "    <tr>\n",
       "      <th>Parrot</th>\n",
       "      <td>2</td>\n",
       "    </tr>\n",
       "  </tbody>\n",
       "</table>\n",
       "</div>"
      ],
      "text/plain": [
       "        Max Speed\n",
       "Animal           \n",
       "Falcon          2\n",
       "Parrot          2"
      ]
     },
     "execution_count": 244,
     "metadata": {},
     "output_type": "execute_result"
    }
   ],
   "source": [
    "df.groupby(['Animal']).count()"
   ]
  },
  {
   "cell_type": "markdown",
   "id": "d7186106-9a9e-4748-86a0-9ff18cd66278",
   "metadata": {},
   "source": [
    "### Aggregation"
   ]
  },
  {
   "cell_type": "code",
   "execution_count": null,
   "id": "d254b4c9-a2c5-46a3-b484-2c18bf18d3f0",
   "metadata": {},
   "outputs": [],
   "source": [
    "* In pandas aggregation functions include .sum(), .mean(), and .count()."
   ]
  },
  {
   "cell_type": "code",
   "execution_count": 247,
   "id": "b61ff35a-cfe4-45f6-acfd-249445c7c952",
   "metadata": {},
   "outputs": [
    {
     "data": {
      "text/html": [
       "<div>\n",
       "<style scoped>\n",
       "    .dataframe tbody tr th:only-of-type {\n",
       "        vertical-align: middle;\n",
       "    }\n",
       "\n",
       "    .dataframe tbody tr th {\n",
       "        vertical-align: top;\n",
       "    }\n",
       "\n",
       "    .dataframe thead th {\n",
       "        text-align: right;\n",
       "    }\n",
       "</style>\n",
       "<table border=\"1\" class=\"dataframe\">\n",
       "  <thead>\n",
       "    <tr style=\"text-align: right;\">\n",
       "      <th></th>\n",
       "      <th>A</th>\n",
       "      <th>B</th>\n",
       "      <th>C</th>\n",
       "    </tr>\n",
       "  </thead>\n",
       "  <tbody>\n",
       "    <tr>\n",
       "      <th>0</th>\n",
       "      <td>1</td>\n",
       "      <td>1</td>\n",
       "      <td>0.362838</td>\n",
       "    </tr>\n",
       "    <tr>\n",
       "      <th>1</th>\n",
       "      <td>1</td>\n",
       "      <td>2</td>\n",
       "      <td>0.227877</td>\n",
       "    </tr>\n",
       "    <tr>\n",
       "      <th>2</th>\n",
       "      <td>2</td>\n",
       "      <td>3</td>\n",
       "      <td>1.267767</td>\n",
       "    </tr>\n",
       "    <tr>\n",
       "      <th>3</th>\n",
       "      <td>2</td>\n",
       "      <td>4</td>\n",
       "      <td>-0.562860</td>\n",
       "    </tr>\n",
       "  </tbody>\n",
       "</table>\n",
       "</div>"
      ],
      "text/plain": [
       "   A  B         C\n",
       "0  1  1  0.362838\n",
       "1  1  2  0.227877\n",
       "2  2  3  1.267767\n",
       "3  2  4 -0.562860"
      ]
     },
     "execution_count": 247,
     "metadata": {},
     "output_type": "execute_result"
    }
   ],
   "source": [
    "data = {\"A\": [1, 1, 2, 2],\n",
    "        \"B\": [1, 2, 3, 4],\n",
    "        \"C\": [0.362838, 0.227877, 1.267767, -0.562860]}\n",
    "df = pd.DataFrame(data)\n",
    "df"
   ]
  },
  {
   "cell_type": "code",
   "execution_count": 249,
   "id": "cc2d54b1-fb8b-4fd7-bba9-10d97ec7576d",
   "metadata": {},
   "outputs": [
    {
     "data": {
      "text/html": [
       "<div>\n",
       "<style scoped>\n",
       "    .dataframe tbody tr th:only-of-type {\n",
       "        vertical-align: middle;\n",
       "    }\n",
       "\n",
       "    .dataframe tbody tr th {\n",
       "        vertical-align: top;\n",
       "    }\n",
       "\n",
       "    .dataframe thead th {\n",
       "        text-align: right;\n",
       "    }\n",
       "</style>\n",
       "<table border=\"1\" class=\"dataframe\">\n",
       "  <thead>\n",
       "    <tr style=\"text-align: right;\">\n",
       "      <th></th>\n",
       "      <th>B</th>\n",
       "      <th>C</th>\n",
       "    </tr>\n",
       "    <tr>\n",
       "      <th>A</th>\n",
       "      <th></th>\n",
       "      <th></th>\n",
       "    </tr>\n",
       "  </thead>\n",
       "  <tbody>\n",
       "    <tr>\n",
       "      <th>1</th>\n",
       "      <td>1.5</td>\n",
       "      <td>0.295357</td>\n",
       "    </tr>\n",
       "    <tr>\n",
       "      <th>2</th>\n",
       "      <td>3.5</td>\n",
       "      <td>0.352454</td>\n",
       "    </tr>\n",
       "  </tbody>\n",
       "</table>\n",
       "</div>"
      ],
      "text/plain": [
       "     B         C\n",
       "A               \n",
       "1  1.5  0.295357\n",
       "2  3.5  0.352454"
      ]
     },
     "execution_count": 249,
     "metadata": {},
     "output_type": "execute_result"
    }
   ],
   "source": [
    "df.groupby('A').agg('mean')"
   ]
  },
  {
   "cell_type": "code",
   "execution_count": 251,
   "id": "9d85754d-d278-4af4-a0bc-dba2005f2b6a",
   "metadata": {},
   "outputs": [
    {
     "data": {
      "text/html": [
       "<div>\n",
       "<style scoped>\n",
       "    .dataframe tbody tr th:only-of-type {\n",
       "        vertical-align: middle;\n",
       "    }\n",
       "\n",
       "    .dataframe tbody tr th {\n",
       "        vertical-align: top;\n",
       "    }\n",
       "\n",
       "    .dataframe thead th {\n",
       "        text-align: right;\n",
       "    }\n",
       "</style>\n",
       "<table border=\"1\" class=\"dataframe\">\n",
       "  <thead>\n",
       "    <tr style=\"text-align: right;\">\n",
       "      <th></th>\n",
       "      <th>A</th>\n",
       "      <th>C</th>\n",
       "    </tr>\n",
       "    <tr>\n",
       "      <th>B</th>\n",
       "      <th></th>\n",
       "      <th></th>\n",
       "    </tr>\n",
       "  </thead>\n",
       "  <tbody>\n",
       "    <tr>\n",
       "      <th>1</th>\n",
       "      <td>1</td>\n",
       "      <td>0.362838</td>\n",
       "    </tr>\n",
       "    <tr>\n",
       "      <th>2</th>\n",
       "      <td>1</td>\n",
       "      <td>0.227877</td>\n",
       "    </tr>\n",
       "    <tr>\n",
       "      <th>3</th>\n",
       "      <td>2</td>\n",
       "      <td>1.267767</td>\n",
       "    </tr>\n",
       "    <tr>\n",
       "      <th>4</th>\n",
       "      <td>2</td>\n",
       "      <td>-0.562860</td>\n",
       "    </tr>\n",
       "  </tbody>\n",
       "</table>\n",
       "</div>"
      ],
      "text/plain": [
       "   A         C\n",
       "B             \n",
       "1  1  0.362838\n",
       "2  1  0.227877\n",
       "3  2  1.267767\n",
       "4  2 -0.562860"
      ]
     },
     "execution_count": 251,
     "metadata": {},
     "output_type": "execute_result"
    }
   ],
   "source": [
    "df.groupby('B').agg('sum')"
   ]
  },
  {
   "cell_type": "code",
   "execution_count": 253,
   "id": "f155a4c7-30d0-4c20-9736-757b93dc3f0c",
   "metadata": {},
   "outputs": [
    {
     "data": {
      "text/html": [
       "<div>\n",
       "<style scoped>\n",
       "    .dataframe tbody tr th:only-of-type {\n",
       "        vertical-align: middle;\n",
       "    }\n",
       "\n",
       "    .dataframe tbody tr th {\n",
       "        vertical-align: top;\n",
       "    }\n",
       "\n",
       "    .dataframe thead th {\n",
       "        text-align: right;\n",
       "    }\n",
       "</style>\n",
       "<table border=\"1\" class=\"dataframe\">\n",
       "  <thead>\n",
       "    <tr style=\"text-align: right;\">\n",
       "      <th></th>\n",
       "      <th>A</th>\n",
       "      <th>B</th>\n",
       "    </tr>\n",
       "    <tr>\n",
       "      <th>C</th>\n",
       "      <th></th>\n",
       "      <th></th>\n",
       "    </tr>\n",
       "  </thead>\n",
       "  <tbody>\n",
       "    <tr>\n",
       "      <th>-0.562860</th>\n",
       "      <td>1</td>\n",
       "      <td>1</td>\n",
       "    </tr>\n",
       "    <tr>\n",
       "      <th>0.227877</th>\n",
       "      <td>1</td>\n",
       "      <td>1</td>\n",
       "    </tr>\n",
       "    <tr>\n",
       "      <th>0.362838</th>\n",
       "      <td>1</td>\n",
       "      <td>1</td>\n",
       "    </tr>\n",
       "    <tr>\n",
       "      <th>1.267767</th>\n",
       "      <td>1</td>\n",
       "      <td>1</td>\n",
       "    </tr>\n",
       "  </tbody>\n",
       "</table>\n",
       "</div>"
      ],
      "text/plain": [
       "           A  B\n",
       "C              \n",
       "-0.562860  1  1\n",
       " 0.227877  1  1\n",
       " 0.362838  1  1\n",
       " 1.267767  1  1"
      ]
     },
     "execution_count": 253,
     "metadata": {},
     "output_type": "execute_result"
    }
   ],
   "source": [
    "df.groupby('C').agg('count')"
   ]
  },
  {
   "cell_type": "markdown",
   "id": "aa9e7837-1569-4555-9c90-9794cbcbd581",
   "metadata": {},
   "source": [
    "### 9) Merging and Joining"
   ]
  },
  {
   "cell_type": "markdown",
   "id": "1e370a5c-4183-4a90-a53a-f68c28804a44",
   "metadata": {},
   "source": [
    "* A Data frame is a two-dimensional data structure, i.e., data is aligned in a tabular fashion in rows and columns. \n",
    "* We can join, merge, and concat dataframe using different methods.\n",
    "* In Dataframe df.merge(),df.join(), and df.concat() methods help in joining, merging and concating different dataframe."
   ]
  },
  {
   "cell_type": "markdown",
   "id": "78c318d9-352c-49c8-933f-da6afabb1e01",
   "metadata": {},
   "source": [
    "## i) pd.merge()"
   ]
  },
  {
   "cell_type": "markdown",
   "id": "e890f198-84f9-4ea2-8267-756bbbf1ecfc",
   "metadata": {},
   "source": [
    "* The merge() method updates the content of two DataFrame by merging them together, using the specified method(s). \n",
    "* Use the parameters to control which values to keep and which to replace."
   ]
  },
  {
   "cell_type": "code",
   "execution_count": 259,
   "id": "1f4b06ba-c975-4766-b412-337cb5cefb86",
   "metadata": {},
   "outputs": [
    {
     "data": {
      "text/plain": [
       "{'name': ['Sally', 'Mary', 'John'], 'age': [50, 40, 30]}"
      ]
     },
     "execution_count": 259,
     "metadata": {},
     "output_type": "execute_result"
    }
   ],
   "source": [
    "data1 = {\n",
    "  \"name\": [\"Sally\", \"Mary\", \"John\"],\n",
    "  \"age\": [50, 40, 30]}\n",
    "data1"
   ]
  },
  {
   "cell_type": "code",
   "execution_count": 261,
   "id": "14634ddf-8870-497a-864e-593db9e97cb6",
   "metadata": {},
   "outputs": [
    {
     "data": {
      "text/plain": [
       "{'name': ['Sally', 'Peter', 'Micky'], 'age': [77, 44, 22]}"
      ]
     },
     "execution_count": 261,
     "metadata": {},
     "output_type": "execute_result"
    }
   ],
   "source": [
    "data2 = {\n",
    "  \"name\": [\"Sally\", \"Peter\", \"Micky\"],\n",
    "  \"age\": [77, 44, 22]}\n",
    "data2"
   ]
  },
  {
   "cell_type": "code",
   "execution_count": 267,
   "id": "fe079f2f-0934-4a24-9db4-3714f4dec241",
   "metadata": {},
   "outputs": [
    {
     "data": {
      "text/html": [
       "<div>\n",
       "<style scoped>\n",
       "    .dataframe tbody tr th:only-of-type {\n",
       "        vertical-align: middle;\n",
       "    }\n",
       "\n",
       "    .dataframe tbody tr th {\n",
       "        vertical-align: top;\n",
       "    }\n",
       "\n",
       "    .dataframe thead th {\n",
       "        text-align: right;\n",
       "    }\n",
       "</style>\n",
       "<table border=\"1\" class=\"dataframe\">\n",
       "  <thead>\n",
       "    <tr style=\"text-align: right;\">\n",
       "      <th></th>\n",
       "      <th>name</th>\n",
       "      <th>age</th>\n",
       "    </tr>\n",
       "  </thead>\n",
       "  <tbody>\n",
       "    <tr>\n",
       "      <th>0</th>\n",
       "      <td>Sally</td>\n",
       "      <td>50</td>\n",
       "    </tr>\n",
       "    <tr>\n",
       "      <th>1</th>\n",
       "      <td>Mary</td>\n",
       "      <td>40</td>\n",
       "    </tr>\n",
       "    <tr>\n",
       "      <th>2</th>\n",
       "      <td>John</td>\n",
       "      <td>30</td>\n",
       "    </tr>\n",
       "  </tbody>\n",
       "</table>\n",
       "</div>"
      ],
      "text/plain": [
       "    name  age\n",
       "0  Sally   50\n",
       "1   Mary   40\n",
       "2   John   30"
      ]
     },
     "execution_count": 267,
     "metadata": {},
     "output_type": "execute_result"
    }
   ],
   "source": [
    "df1 = pd.DataFrame(data1)\n",
    "df1\n"
   ]
  },
  {
   "cell_type": "code",
   "execution_count": 269,
   "id": "8fac675c-2f78-4d14-ac39-de2333293d82",
   "metadata": {},
   "outputs": [
    {
     "data": {
      "text/html": [
       "<div>\n",
       "<style scoped>\n",
       "    .dataframe tbody tr th:only-of-type {\n",
       "        vertical-align: middle;\n",
       "    }\n",
       "\n",
       "    .dataframe tbody tr th {\n",
       "        vertical-align: top;\n",
       "    }\n",
       "\n",
       "    .dataframe thead th {\n",
       "        text-align: right;\n",
       "    }\n",
       "</style>\n",
       "<table border=\"1\" class=\"dataframe\">\n",
       "  <thead>\n",
       "    <tr style=\"text-align: right;\">\n",
       "      <th></th>\n",
       "      <th>name</th>\n",
       "      <th>age</th>\n",
       "    </tr>\n",
       "  </thead>\n",
       "  <tbody>\n",
       "    <tr>\n",
       "      <th>0</th>\n",
       "      <td>Sally</td>\n",
       "      <td>77</td>\n",
       "    </tr>\n",
       "    <tr>\n",
       "      <th>1</th>\n",
       "      <td>Peter</td>\n",
       "      <td>44</td>\n",
       "    </tr>\n",
       "    <tr>\n",
       "      <th>2</th>\n",
       "      <td>Micky</td>\n",
       "      <td>22</td>\n",
       "    </tr>\n",
       "  </tbody>\n",
       "</table>\n",
       "</div>"
      ],
      "text/plain": [
       "    name  age\n",
       "0  Sally   77\n",
       "1  Peter   44\n",
       "2  Micky   22"
      ]
     },
     "execution_count": 269,
     "metadata": {},
     "output_type": "execute_result"
    }
   ],
   "source": [
    "df2 = pd.DataFrame(data2)\n",
    "df2"
   ]
  },
  {
   "cell_type": "code",
   "execution_count": 275,
   "id": "9bc443e1-f07c-4e78-a803-513b0cc09e44",
   "metadata": {},
   "outputs": [
    {
     "data": {
      "text/html": [
       "<div>\n",
       "<style scoped>\n",
       "    .dataframe tbody tr th:only-of-type {\n",
       "        vertical-align: middle;\n",
       "    }\n",
       "\n",
       "    .dataframe tbody tr th {\n",
       "        vertical-align: top;\n",
       "    }\n",
       "\n",
       "    .dataframe thead th {\n",
       "        text-align: right;\n",
       "    }\n",
       "</style>\n",
       "<table border=\"1\" class=\"dataframe\">\n",
       "  <thead>\n",
       "    <tr style=\"text-align: right;\">\n",
       "      <th></th>\n",
       "      <th>name</th>\n",
       "      <th>age</th>\n",
       "    </tr>\n",
       "  </thead>\n",
       "  <tbody>\n",
       "    <tr>\n",
       "      <th>0</th>\n",
       "      <td>Sally</td>\n",
       "      <td>77</td>\n",
       "    </tr>\n",
       "    <tr>\n",
       "      <th>1</th>\n",
       "      <td>Peter</td>\n",
       "      <td>44</td>\n",
       "    </tr>\n",
       "    <tr>\n",
       "      <th>2</th>\n",
       "      <td>Micky</td>\n",
       "      <td>22</td>\n",
       "    </tr>\n",
       "  </tbody>\n",
       "</table>\n",
       "</div>"
      ],
      "text/plain": [
       "    name  age\n",
       "0  Sally   77\n",
       "1  Peter   44\n",
       "2  Micky   22"
      ]
     },
     "execution_count": 275,
     "metadata": {},
     "output_type": "execute_result"
    }
   ],
   "source": [
    "newdf = df1.merge(df2, how='right')\n",
    "newdf"
   ]
  },
  {
   "cell_type": "markdown",
   "id": "bec6dc58-8032-4929-ad12-1debf1ee1e99",
   "metadata": {},
   "source": [
    "## ii) pd.concate()"
   ]
  },
  {
   "cell_type": "markdown",
   "id": "fdd525c7-927c-4dcc-8a78-4a27a01fe6dd",
   "metadata": {},
   "source": [
    "* The pd.concat function is a powerful tool within the pandas library, designed to concatenate pandas objects along a particular axis .\n",
    "* while performing optional set logic (union or intersection) of the indexes (if any) on the other axes. \n",
    "* By the end of this guide, you’ll be able to seamlessly integrate datasets from various sources.\n",
    "* Handle different types of data alignment issues, and optimize your data analysis workflow with pandas concat."
   ]
  },
  {
   "cell_type": "code",
   "execution_count": 279,
   "id": "e6e7fdca-7b7b-4455-ac66-0120809ac084",
   "metadata": {},
   "outputs": [
    {
     "name": "stdout",
     "output_type": "stream",
     "text": [
      "     A    B    C    D\n",
      "0   A8   B8   C8  NaN\n",
      "1   A9   B9   C9  NaN\n",
      "2  A10  B10  C10  NaN\n",
      "3  A11  B11  C11  NaN\n",
      "0  A12  NaN  C12  D12\n",
      "1  A13  NaN  C13  D13\n",
      "2  A14  NaN  C14  D14\n",
      "3  A15  NaN  C15  D15\n"
     ]
    }
   ],
   "source": [
    "df3 = pd.DataFrame({\n",
    "\t'A': ['A8', 'A9', 'A10', 'A11'],\n",
    "\t'B': ['B8', 'B9', 'B10', 'B11'],\n",
    "\t'C': ['C8', 'C9', 'C10', 'C11']\n",
    "})\n",
    "df4 = pd.DataFrame({\n",
    "\t'A': ['A12', 'A13', 'A14', 'A15'],\n",
    "\t'C': ['C12', 'C13', 'C14', 'C15'],\n",
    "\t'D': ['D12', 'D13', 'D14', 'D15']  # Note the new column 'D'\n",
    "})\n",
    "# Concatenate the DataFrames with different columns\n",
    "result_with_diff_columns = pd.concat([df3, df4], sort=False)\n",
    "print(result_with_diff_columns)"
   ]
  },
  {
   "cell_type": "code",
   "execution_count": 281,
   "id": "a8a47a74-3573-49c9-aa9b-6a0914c78b1f",
   "metadata": {},
   "outputs": [
    {
     "data": {
      "text/plain": [
       "'series1:'"
      ]
     },
     "metadata": {},
     "output_type": "display_data"
    },
    {
     "data": {
      "text/plain": [
       "0    1\n",
       "1    2\n",
       "2    3\n",
       "dtype: int64"
      ]
     },
     "metadata": {},
     "output_type": "display_data"
    },
    {
     "data": {
      "text/plain": [
       "'series2:'"
      ]
     },
     "metadata": {},
     "output_type": "display_data"
    },
    {
     "data": {
      "text/plain": [
       "0    A\n",
       "1    B\n",
       "2    C\n",
       "dtype: object"
      ]
     },
     "metadata": {},
     "output_type": "display_data"
    },
    {
     "data": {
      "text/plain": [
       "'After concatenating:'"
      ]
     },
     "metadata": {},
     "output_type": "display_data"
    },
    {
     "data": {
      "text/plain": [
       "0    1\n",
       "1    2\n",
       "2    3\n",
       "0    A\n",
       "1    B\n",
       "2    C\n",
       "dtype: object"
      ]
     },
     "metadata": {},
     "output_type": "display_data"
    }
   ],
   "source": [
    "# creating the Series\n",
    "series1 = pd.Series([1, 2, 3])\n",
    "display('series1:', series1)\n",
    "series2 = pd.Series(['A', 'B', 'C'])\n",
    "display('series2:', series2)\n",
    " \n",
    "# concatenating\n",
    "display('After concatenating:')\n",
    "display(pd.concat([series1, series2]))"
   ]
  },
  {
   "cell_type": "markdown",
   "id": "2c5ff4cf-c2b1-41e0-8fee-9c77565f39c6",
   "metadata": {},
   "source": [
    "### 10) File I/O"
   ]
  },
  {
   "cell_type": "markdown",
   "id": "b17f0616-438a-4c16-9607-7ab95ab438a0",
   "metadata": {},
   "source": [
    "### i) pd.read_csv()"
   ]
  },
  {
   "cell_type": "markdown",
   "id": "5f7e6187-b484-40e3-83f8-c8dba3429165",
   "metadata": {},
   "source": [
    "* CSV files are the Comma Separated Files. \n",
    "* It allows users to load tabular data into a DataFrame, which is a powerful structure for data manipulation and analysis. \n",
    "* To access data from the CSV file, we require a function read_csv() from Pandas that retrieves data in the form of the data frame."
   ]
  },
  {
   "cell_type": "code",
   "execution_count": 17,
   "id": "349a76e0-2642-43e0-91b5-bdc9709aef40",
   "metadata": {},
   "outputs": [
    {
     "data": {
      "text/html": [
       "<div>\n",
       "<style scoped>\n",
       "    .dataframe tbody tr th:only-of-type {\n",
       "        vertical-align: middle;\n",
       "    }\n",
       "\n",
       "    .dataframe tbody tr th {\n",
       "        vertical-align: top;\n",
       "    }\n",
       "\n",
       "    .dataframe thead th {\n",
       "        text-align: right;\n",
       "    }\n",
       "</style>\n",
       "<table border=\"1\" class=\"dataframe\">\n",
       "  <thead>\n",
       "    <tr style=\"text-align: right;\">\n",
       "      <th></th>\n",
       "      <th>patient_id</th>\n",
       "      <th>assigned_sex</th>\n",
       "      <th>given_name</th>\n",
       "      <th>surname</th>\n",
       "      <th>address</th>\n",
       "      <th>city</th>\n",
       "      <th>state</th>\n",
       "      <th>zip_code</th>\n",
       "      <th>country</th>\n",
       "      <th>contact</th>\n",
       "      <th>birthdate</th>\n",
       "      <th>weight</th>\n",
       "      <th>height</th>\n",
       "      <th>bmi</th>\n",
       "    </tr>\n",
       "  </thead>\n",
       "  <tbody>\n",
       "    <tr>\n",
       "      <th>0</th>\n",
       "      <td>1</td>\n",
       "      <td>female</td>\n",
       "      <td>Zoe</td>\n",
       "      <td>Wellish</td>\n",
       "      <td>576 Brown Bear Drive</td>\n",
       "      <td>Rancho California</td>\n",
       "      <td>California</td>\n",
       "      <td>92390.0</td>\n",
       "      <td>United States</td>\n",
       "      <td>951-719-9170ZoeWellish@superrito.com</td>\n",
       "      <td>7/10/1976</td>\n",
       "      <td>121.7</td>\n",
       "      <td>66</td>\n",
       "      <td>19.6</td>\n",
       "    </tr>\n",
       "    <tr>\n",
       "      <th>1</th>\n",
       "      <td>2</td>\n",
       "      <td>female</td>\n",
       "      <td>Pamela</td>\n",
       "      <td>Hill</td>\n",
       "      <td>2370 University Hill Road</td>\n",
       "      <td>Armstrong</td>\n",
       "      <td>Illinois</td>\n",
       "      <td>61812.0</td>\n",
       "      <td>United States</td>\n",
       "      <td>PamelaSHill@cuvox.de+1 (217) 569-3204</td>\n",
       "      <td>4/3/1967</td>\n",
       "      <td>118.8</td>\n",
       "      <td>66</td>\n",
       "      <td>19.2</td>\n",
       "    </tr>\n",
       "    <tr>\n",
       "      <th>2</th>\n",
       "      <td>3</td>\n",
       "      <td>male</td>\n",
       "      <td>Jae</td>\n",
       "      <td>Debord</td>\n",
       "      <td>1493 Poling Farm Road</td>\n",
       "      <td>York</td>\n",
       "      <td>Nebraska</td>\n",
       "      <td>68467.0</td>\n",
       "      <td>United States</td>\n",
       "      <td>402-363-6804JaeMDebord@gustr.com</td>\n",
       "      <td>2/19/1980</td>\n",
       "      <td>177.8</td>\n",
       "      <td>71</td>\n",
       "      <td>24.8</td>\n",
       "    </tr>\n",
       "    <tr>\n",
       "      <th>3</th>\n",
       "      <td>4</td>\n",
       "      <td>male</td>\n",
       "      <td>Liêm</td>\n",
       "      <td>Phan</td>\n",
       "      <td>2335 Webster Street</td>\n",
       "      <td>Woodbridge</td>\n",
       "      <td>NJ</td>\n",
       "      <td>7095.0</td>\n",
       "      <td>United States</td>\n",
       "      <td>PhanBaLiem@jourrapide.com+1 (732) 636-8246</td>\n",
       "      <td>7/26/1951</td>\n",
       "      <td>220.9</td>\n",
       "      <td>70</td>\n",
       "      <td>31.7</td>\n",
       "    </tr>\n",
       "    <tr>\n",
       "      <th>4</th>\n",
       "      <td>5</td>\n",
       "      <td>male</td>\n",
       "      <td>Tim</td>\n",
       "      <td>Neudorf</td>\n",
       "      <td>1428 Turkey Pen Lane</td>\n",
       "      <td>Dothan</td>\n",
       "      <td>AL</td>\n",
       "      <td>36303.0</td>\n",
       "      <td>United States</td>\n",
       "      <td>334-515-7487TimNeudorf@cuvox.de</td>\n",
       "      <td>2/18/1928</td>\n",
       "      <td>192.3</td>\n",
       "      <td>27</td>\n",
       "      <td>26.1</td>\n",
       "    </tr>\n",
       "    <tr>\n",
       "      <th>...</th>\n",
       "      <td>...</td>\n",
       "      <td>...</td>\n",
       "      <td>...</td>\n",
       "      <td>...</td>\n",
       "      <td>...</td>\n",
       "      <td>...</td>\n",
       "      <td>...</td>\n",
       "      <td>...</td>\n",
       "      <td>...</td>\n",
       "      <td>...</td>\n",
       "      <td>...</td>\n",
       "      <td>...</td>\n",
       "      <td>...</td>\n",
       "      <td>...</td>\n",
       "    </tr>\n",
       "    <tr>\n",
       "      <th>498</th>\n",
       "      <td>499</td>\n",
       "      <td>male</td>\n",
       "      <td>Mustafa</td>\n",
       "      <td>Lindström</td>\n",
       "      <td>2530 Victoria Court</td>\n",
       "      <td>Milton Mills</td>\n",
       "      <td>ME</td>\n",
       "      <td>3852.0</td>\n",
       "      <td>United States</td>\n",
       "      <td>207-477-0579MustafaLindstrom@jourrapide.com</td>\n",
       "      <td>4/10/1959</td>\n",
       "      <td>181.1</td>\n",
       "      <td>72</td>\n",
       "      <td>24.6</td>\n",
       "    </tr>\n",
       "    <tr>\n",
       "      <th>499</th>\n",
       "      <td>500</td>\n",
       "      <td>male</td>\n",
       "      <td>Ruman</td>\n",
       "      <td>Bisliev</td>\n",
       "      <td>494 Clarksburg Park Road</td>\n",
       "      <td>Sedona</td>\n",
       "      <td>AZ</td>\n",
       "      <td>86341.0</td>\n",
       "      <td>United States</td>\n",
       "      <td>928-284-4492RumanBisliev@gustr.com</td>\n",
       "      <td>3/26/1948</td>\n",
       "      <td>239.6</td>\n",
       "      <td>70</td>\n",
       "      <td>34.4</td>\n",
       "    </tr>\n",
       "    <tr>\n",
       "      <th>500</th>\n",
       "      <td>501</td>\n",
       "      <td>female</td>\n",
       "      <td>Jinke</td>\n",
       "      <td>de Keizer</td>\n",
       "      <td>649 Nutter Street</td>\n",
       "      <td>Overland Park</td>\n",
       "      <td>MO</td>\n",
       "      <td>64110.0</td>\n",
       "      <td>United States</td>\n",
       "      <td>816-223-6007JinkedeKeizer@teleworm.us</td>\n",
       "      <td>1/13/1971</td>\n",
       "      <td>171.2</td>\n",
       "      <td>67</td>\n",
       "      <td>26.8</td>\n",
       "    </tr>\n",
       "    <tr>\n",
       "      <th>501</th>\n",
       "      <td>502</td>\n",
       "      <td>female</td>\n",
       "      <td>Chidalu</td>\n",
       "      <td>Onyekaozulu</td>\n",
       "      <td>3652 Boone Crockett Lane</td>\n",
       "      <td>Seattle</td>\n",
       "      <td>WA</td>\n",
       "      <td>98109.0</td>\n",
       "      <td>United States</td>\n",
       "      <td>ChidaluOnyekaozulu@jourrapide.com1 360 443 2060</td>\n",
       "      <td>2/13/1952</td>\n",
       "      <td>176.9</td>\n",
       "      <td>67</td>\n",
       "      <td>27.7</td>\n",
       "    </tr>\n",
       "    <tr>\n",
       "      <th>502</th>\n",
       "      <td>503</td>\n",
       "      <td>male</td>\n",
       "      <td>Pat</td>\n",
       "      <td>Gersten</td>\n",
       "      <td>2778 North Avenue</td>\n",
       "      <td>Burr</td>\n",
       "      <td>Nebraska</td>\n",
       "      <td>68324.0</td>\n",
       "      <td>United States</td>\n",
       "      <td>PatrickGersten@rhyta.com402-848-4923</td>\n",
       "      <td>5/3/1954</td>\n",
       "      <td>138.2</td>\n",
       "      <td>71</td>\n",
       "      <td>19.3</td>\n",
       "    </tr>\n",
       "  </tbody>\n",
       "</table>\n",
       "<p>503 rows × 14 columns</p>\n",
       "</div>"
      ],
      "text/plain": [
       "     patient_id assigned_sex given_name      surname  \\\n",
       "0             1       female        Zoe      Wellish   \n",
       "1             2       female     Pamela         Hill   \n",
       "2             3         male        Jae       Debord   \n",
       "3             4         male       Liêm         Phan   \n",
       "4             5         male        Tim      Neudorf   \n",
       "..          ...          ...        ...          ...   \n",
       "498         499         male    Mustafa    Lindström   \n",
       "499         500         male      Ruman      Bisliev   \n",
       "500         501       female      Jinke    de Keizer   \n",
       "501         502       female    Chidalu  Onyekaozulu   \n",
       "502         503         male        Pat      Gersten   \n",
       "\n",
       "                       address               city       state  zip_code  \\\n",
       "0         576 Brown Bear Drive  Rancho California  California   92390.0   \n",
       "1    2370 University Hill Road          Armstrong    Illinois   61812.0   \n",
       "2        1493 Poling Farm Road               York    Nebraska   68467.0   \n",
       "3          2335 Webster Street         Woodbridge          NJ    7095.0   \n",
       "4         1428 Turkey Pen Lane             Dothan          AL   36303.0   \n",
       "..                         ...                ...         ...       ...   \n",
       "498        2530 Victoria Court       Milton Mills          ME    3852.0   \n",
       "499   494 Clarksburg Park Road             Sedona          AZ   86341.0   \n",
       "500          649 Nutter Street      Overland Park          MO   64110.0   \n",
       "501   3652 Boone Crockett Lane            Seattle          WA   98109.0   \n",
       "502          2778 North Avenue               Burr    Nebraska   68324.0   \n",
       "\n",
       "           country                                          contact  \\\n",
       "0    United States             951-719-9170ZoeWellish@superrito.com   \n",
       "1    United States            PamelaSHill@cuvox.de+1 (217) 569-3204   \n",
       "2    United States                 402-363-6804JaeMDebord@gustr.com   \n",
       "3    United States       PhanBaLiem@jourrapide.com+1 (732) 636-8246   \n",
       "4    United States                  334-515-7487TimNeudorf@cuvox.de   \n",
       "..             ...                                              ...   \n",
       "498  United States      207-477-0579MustafaLindstrom@jourrapide.com   \n",
       "499  United States               928-284-4492RumanBisliev@gustr.com   \n",
       "500  United States            816-223-6007JinkedeKeizer@teleworm.us   \n",
       "501  United States  ChidaluOnyekaozulu@jourrapide.com1 360 443 2060   \n",
       "502  United States             PatrickGersten@rhyta.com402-848-4923   \n",
       "\n",
       "     birthdate  weight  height   bmi  \n",
       "0    7/10/1976   121.7      66  19.6  \n",
       "1     4/3/1967   118.8      66  19.2  \n",
       "2    2/19/1980   177.8      71  24.8  \n",
       "3    7/26/1951   220.9      70  31.7  \n",
       "4    2/18/1928   192.3      27  26.1  \n",
       "..         ...     ...     ...   ...  \n",
       "498  4/10/1959   181.1      72  24.6  \n",
       "499  3/26/1948   239.6      70  34.4  \n",
       "500  1/13/1971   171.2      67  26.8  \n",
       "501  2/13/1952   176.9      67  27.7  \n",
       "502   5/3/1954   138.2      71  19.3  \n",
       "\n",
       "[503 rows x 14 columns]"
      ]
     },
     "execution_count": 17,
     "metadata": {},
     "output_type": "execute_result"
    }
   ],
   "source": [
    "df=pd.read_csv('patients.csv')\n",
    "df"
   ]
  },
  {
   "cell_type": "markdown",
   "id": "a21f9e00-4300-4bd3-bef4-76eed92fe81a",
   "metadata": {},
   "source": [
    "## ii) pd.read_Excel()"
   ]
  },
  {
   "cell_type": "markdown",
   "id": "10914109-aac2-4117-b57f-cbde0dbec171",
   "metadata": {},
   "source": [
    "* To read an Excel file into a DataFrame using pandas, you can use the read_excel() function. \n",
    "* The read_excel() function returns a DataFrame by default.\n",
    "* you can access the data in your DataFrame using standard indexing and slicing operations."
   ]
  },
  {
   "cell_type": "markdown",
   "id": "bb10242d-4031-4bd4-9dd4-826be39a98e3",
   "metadata": {},
   "source": [
    "### 11) Time Series"
   ]
  },
  {
   "cell_type": "markdown",
   "id": "55b3fba0-d0c4-4b50-b82e-4d9c41ceb7b3",
   "metadata": {},
   "source": [
    "## i) pd.datetime"
   ]
  },
  {
   "cell_type": "markdown",
   "id": "53aef774-8979-4409-aa3c-53b267e76a63",
   "metadata": {},
   "source": [
    "* The Date time objects in the file are read as a string object rather than a D\n",
    "* Date Time object Hence it’s very tough to perform operations like Time difference on a string rather than a Date Time object. \n",
    "* Pandas to_datetime() method helps to convert string Date time into Python Date time object.\n",
    "* Syntax:Pandas.to_datetime()"
   ]
  },
  {
   "cell_type": "code",
   "execution_count": 285,
   "id": "f327137b-c4ef-4698-95cf-4390fe32ccea",
   "metadata": {},
   "outputs": [
    {
     "name": "stdout",
     "output_type": "stream",
     "text": [
      "2023-09-17 14:30:00\n"
     ]
    }
   ],
   "source": [
    "# date string\n",
    "d_string = \"2023-09-17 14:30:00\"\n",
    " \n",
    "# Convert the string to datetime\n",
    "dt_obj = pd.to_datetime(d_string)\n",
    " \n",
    "print(dt_obj)"
   ]
  },
  {
   "cell_type": "code",
   "execution_count": 287,
   "id": "6d7007d3-7c8c-4b68-9acc-ddc47147bf28",
   "metadata": {},
   "outputs": [
    {
     "name": "stdout",
     "output_type": "stream",
     "text": [
      "2024-07-23 02:08:20\n"
     ]
    }
   ],
   "source": [
    "# Sample numerical value representing seconds since the Unix epoch\n",
    "unix_timestamp = 1721700500\n",
    " \n",
    "# Convert to datetime using 's' (seconds) as the unit\n",
    "dt_obj = pd.to_datetime(unix_timestamp, unit='s')\n",
    " \n",
    "print(dt_obj)"
   ]
  },
  {
   "cell_type": "markdown",
   "id": "add4ed1f-7931-4a48-bce2-f9b865cf9a35",
   "metadata": {},
   "source": [
    "## ii) pd.resample()"
   ]
  },
  {
   "cell_type": "code",
   "execution_count": null,
   "id": "1e00b909-b2f7-41ff-871f-c55de01ab549",
   "metadata": {},
   "outputs": [],
   "source": [
    "* The resample() function is used to resample time-series data.\n",
    "* Convenience method for frequency conversion and resampling of time series. \n",
    "* Object must have a datetime-like index (DatetimeIndex, PeriodIndex, or TimedeltaIndex), or pass datetime-like values to the on or level keyword."
   ]
  },
  {
   "cell_type": "code",
   "execution_count": 9,
   "id": "f0bb30a8-170d-46d4-b504-cf72aced8f44",
   "metadata": {},
   "outputs": [
    {
     "name": "stderr",
     "output_type": "stream",
     "text": [
      "C:\\Users\\Win-10\\AppData\\Local\\Temp\\ipykernel_3924\\2492997106.py:1: FutureWarning: 'T' is deprecated and will be removed in a future version, please use 'min' instead.\n",
      "  index = pd.date_range('1/1/2019', periods=8, freq='T')\n",
      "C:\\Users\\Win-10\\AppData\\Local\\Temp\\ipykernel_3924\\2492997106.py:3: FutureWarning: 'T' is deprecated and will be removed in a future version, please use 'min' instead.\n",
      "  series.resample('3T').sum()\n"
     ]
    },
    {
     "data": {
      "text/plain": [
       "2019-01-01 00:00:00     3\n",
       "2019-01-01 00:03:00    12\n",
       "2019-01-01 00:06:00    13\n",
       "Freq: 3min, dtype: int64"
      ]
     },
     "execution_count": 9,
     "metadata": {},
     "output_type": "execute_result"
    }
   ],
   "source": [
    "index = pd.date_range('1/1/2019', periods=8, freq='T')\n",
    "series = pd.Series(range(8), index=index)\n",
    "series.resample('3T').sum()"
   ]
  },
  {
   "cell_type": "markdown",
   "id": "7d1f750b-ab41-448c-a00e-a916d7f0766a",
   "metadata": {},
   "source": [
    "### 12) Visualisation"
   ]
  },
  {
   "cell_type": "code",
   "execution_count": null,
   "id": "d6ecec69-ba9b-4d97-abec-5c3248586e5a",
   "metadata": {},
   "outputs": [],
   "source": [
    "* The plot() function is used to draw points (markers) in a diagram.\n",
    "* By default, the plot() function draws a line from point to point.\n",
    "* The function takes parameters for specifying points in the diagram.\n",
    "* Parameter 1 is an array containing the points on the x-axis.\n",
    "* Parameter 2 is an array containing the points on the y-axis."
   ]
  },
  {
   "cell_type": "code",
   "execution_count": 3,
   "id": "a4db35d0-38fa-44b0-b607-a85d0156395a",
   "metadata": {},
   "outputs": [
    {
     "data": {
      "image/png": "[encoded data removed]",
      "text/plain": [
       "<Figure size 640x480 with 1 Axes>"
      ]
     },
     "metadata": {},
     "output_type": "display_data"
    }
   ],
   "source": [
    "import matplotlib.pyplot as plt\n",
    "import numpy as np\n",
    "import pandas as pd\n",
    "## Draw the lineplot\n",
    "xpoints = np.array([1, 2, 6, 8])\n",
    "ypoints = np.array([3, 8, 1, 10])\n",
    "\n",
    "plt.plot(xpoints, ypoints)\n",
    "plt.show()"
   ]
  },
  {
   "cell_type": "code",
   "execution_count": 7,
   "id": "c1a80b53-bbb0-42a4-a275-40630a82ed4b",
   "metadata": {},
   "outputs": [
    {
     "data": {
      "image/png": "[encoded data removed]",
      "text/plain": [
       "<Figure size 640x480 with 1 Axes>"
      ]
     },
     "metadata": {},
     "output_type": "display_data"
    }
   ],
   "source": [
    "x = np.random.normal(170, 10, 250)\n",
    "\n",
    "plt.hist(x)\n",
    "plt.show() "
   ]
  },
  {
   "cell_type": "code",
   "execution_count": null,
   "id": "3a8e061c-cbe5-40a1-a54f-8bd307989bcb",
   "metadata": {},
   "outputs": [],
   "source": []
  }
 ],
 "metadata": {
  "kernelspec": {
   "display_name": "Python 3 (ipykernel)",
   "language": "python",
   "name": "python3"
  },
  "language_info": {
   "codemirror_mode": {
    "name": "ipython",
    "version": 3
   },
   "file_extension": ".py",
   "mimetype": "text/x-python",
   "name": "python",
   "nbconvert_exporter": "python",
   "pygments_lexer": "ipython3",
   "version": "3.12.4"
  }
 },
 "nbformat": 4,
 "nbformat_minor": 5
}
