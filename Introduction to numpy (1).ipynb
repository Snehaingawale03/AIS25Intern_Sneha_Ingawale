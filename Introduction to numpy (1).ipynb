{
 "cells": [
  {
   "cell_type": "markdown",
   "id": "d2e57c02-f6ac-4c0b-b6ea-02ddcd3806cc",
   "metadata": {},
   "source": [
    "### What is numpy"
   ]
  },
  {
   "cell_type": "markdown",
   "id": "99f939dd-e8d9-4ac7-b36e-0a91b0da9c6e",
   "metadata": {},
   "source": [
    "* Numpy stands for numerical python.\n",
    "* It is used to perform diff Mathematical operation On N-Dimentional Array.\n",
    "* A Numpy array is a Homogeneous Data type array which means it of data a one perticular\n",
    "  kind of data type to an entire array.\n",
    "\n"
   ]
  },
  {
   "cell_type": "markdown",
   "id": "b5a0b84d-b6d0-48fe-bec6-5682d874867e",
   "metadata": {},
   "source": [
    "### why numpy is important for numerical computations."
   ]
  },
  {
   "cell_type": "markdown",
   "id": "38dee99c-961a-4497-8992-230b55865a2e",
   "metadata": {},
   "source": [
    "* NumPy allows complex numerical computations to be performed more efficiently than with native Python data structures.\n",
    "* NumPy is used to perform data analysis and mathematical modeling in a multitude of disciplines.\n",
    "* it is the backbone of scientific computing in Python, facilitating the analysis of complex data and the implementation of numerical algorithms."
   ]
  },
  {
   "cell_type": "markdown",
   "id": "d4b3ae2e-3296-4716-a42e-cf37e0c599ae",
   "metadata": {},
   "source": [
    "### Installation of numpy"
   ]
  },
  {
   "cell_type": "code",
   "execution_count": null,
   "id": "52bc6ab1-d471-4edc-bac1-ef1cfc96a208",
   "metadata": {},
   "outputs": [],
   "source": [
    "numpy can be installed by command pip install numpy\n",
    "we can import numpy as import numpy as np"
   ]
  },
  {
   "cell_type": "markdown",
   "id": "36a05d45-c02e-4b3a-a47a-020023878c78",
   "metadata": {},
   "source": [
    "### 2) Arrays in numpy"
   ]
  },
  {
   "cell_type": "markdown",
   "id": "5ebe9523-bab8-402e-aad9-1dfba07e964b",
   "metadata": {},
   "source": [
    "* An array is a data structure that can hold a fixed number of elements of the same type. \n",
    "* Arrays store multiple values in a single variable instead of declaring separate variables \n",
    "* for each value, making them powerful tools for organizing and managing data collections in programming."
   ]
  },
  {
   "cell_type": "markdown",
   "id": "afc79814-90db-4de6-aa91-85135255545a",
   "metadata": {},
   "source": [
    "### Creating arrays "
   ]
  },
  {
   "cell_type": "code",
   "execution_count": 7,
   "id": "60be22b8-a53a-4c13-a63c-e48f1381ce43",
   "metadata": {},
   "outputs": [
    {
     "data": {
      "text/plain": [
       "array([1, 2, 3, 4])"
      ]
     },
     "execution_count": 7,
     "metadata": {},
     "output_type": "execute_result"
    }
   ],
   "source": [
    "### for creating array we have to import numpy\n",
    "import numpy as np\n",
    "a= np.array([1,2,3,4]) ## create array of integers\n",
    "a"
   ]
  },
  {
   "cell_type": "code",
   "execution_count": 11,
   "id": "13751b59-72a9-4eab-bf4f-859a399c1bb4",
   "metadata": {},
   "outputs": [
    {
     "data": {
      "text/plain": [
       "array(['2', 'a', 'b', 'c', 'd', '1'], dtype='<U11')"
      ]
     },
     "execution_count": 11,
     "metadata": {},
     "output_type": "execute_result"
    }
   ],
   "source": [
    "b=np.array([2,'a','b','c','d',1])\n",
    "b"
   ]
  },
  {
   "cell_type": "markdown",
   "id": "9edbb37a-947c-460a-84b7-5a963eb5e46c",
   "metadata": {},
   "source": [
    "## np.zeroes"
   ]
  },
  {
   "cell_type": "markdown",
   "id": "d585c8eb-fb52-4d13-8de9-62310d6a5a12",
   "metadata": {},
   "source": [
    "## Zeroes array\n",
    "* It is function in numpy that creates a new array filled with zeroes.\n",
    "* syntax:numpy.zeros(shape, dtype = None, order = ‘C’) "
   ]
  },
  {
   "cell_type": "code",
   "execution_count": 13,
   "id": "cb749d5b-4647-43d6-ac95-cfada294e9a9",
   "metadata": {},
   "outputs": [
    {
     "data": {
      "text/plain": [
       "array([0, 0, 0, 0, 0])"
      ]
     },
     "execution_count": 13,
     "metadata": {},
     "output_type": "execute_result"
    }
   ],
   "source": [
    "s=np.zeros(5,dtype=int)\n",
    "s"
   ]
  },
  {
   "cell_type": "code",
   "execution_count": 23,
   "id": "435a15d9-ef34-4c2c-a3e2-3e1907140857",
   "metadata": {},
   "outputs": [
    {
     "data": {
      "text/plain": [
       "array([[0., 0., 0.],\n",
       "       [0., 0., 0.]])"
      ]
     },
     "execution_count": 23,
     "metadata": {},
     "output_type": "execute_result"
    }
   ],
   "source": [
    "### creating 2D array by np.zeroes\n",
    "D=np.zeros([2,3])\n",
    "D"
   ]
  },
  {
   "cell_type": "markdown",
   "id": "83954ebf-cf51-42ae-b911-206bdf238d33",
   "metadata": {},
   "source": [
    "### np.ones"
   ]
  },
  {
   "cell_type": "markdown",
   "id": "93cd76db-e4af-41cd-9c5e-26df02e84174",
   "metadata": {},
   "source": [
    "* The numpy.ones() function returns a new array of given shape and type, filled with ones.\n",
    "* Syntax: numpy.ones(shape, dtype = None) "
   ]
  },
  {
   "cell_type": "code",
   "execution_count": 30,
   "id": "dd944d2f-48a5-4410-98a2-f628f32854d7",
   "metadata": {},
   "outputs": [
    {
     "data": {
      "text/plain": [
       "array([1.])"
      ]
     },
     "execution_count": 30,
     "metadata": {},
     "output_type": "execute_result"
    }
   ],
   "source": [
    "np.ones([1])"
   ]
  },
  {
   "cell_type": "code",
   "execution_count": 32,
   "id": "261d3435-7b28-4b51-b575-4cc2ce408f8d",
   "metadata": {},
   "outputs": [
    {
     "data": {
      "text/plain": [
       "array([[1., 1.],\n",
       "       [1., 1.],\n",
       "       [1., 1.],\n",
       "       [1., 1.]])"
      ]
     },
     "execution_count": 32,
     "metadata": {},
     "output_type": "execute_result"
    }
   ],
   "source": [
    "## creating 2D array with 1\n",
    "np.ones([4,2])"
   ]
  },
  {
   "cell_type": "markdown",
   "id": "afc4bbc2-2ad8-457e-8409-e63f80f70575",
   "metadata": {},
   "source": [
    "## np.arrange"
   ]
  },
  {
   "cell_type": "markdown",
   "id": "baa7385f-d9e9-4201-93a5-5699a5697ed1",
   "metadata": {},
   "source": [
    "* The arange is a numpy method that return the ndarray obj containing\n",
    "* every spaced value withing the given range. "
   ]
  },
  {
   "cell_type": "code",
   "execution_count": 37,
   "id": "d760a188-4602-477e-b0f7-c81a6890eee6",
   "metadata": {},
   "outputs": [
    {
     "data": {
      "text/plain": [
       "array([10, 11, 12, 13, 14, 15, 16, 17, 18, 19])"
      ]
     },
     "metadata": {},
     "output_type": "display_data"
    }
   ],
   "source": [
    "data=np.arange(10,20) ## creating number in between 10,20\n",
    "display(data)"
   ]
  },
  {
   "cell_type": "code",
   "execution_count": 39,
   "id": "d1396273-e5d4-470c-9a31-6cdf7c17fd8e",
   "metadata": {},
   "outputs": [
    {
     "name": "stdout",
     "output_type": "stream",
     "text": [
      "[5 6 7 8 9]\n"
     ]
    }
   ],
   "source": [
    "arr= np.arange(5 , 10)\n",
    "print(arr)"
   ]
  },
  {
   "cell_type": "markdown",
   "id": "19d5512c-dc17-4219-8990-df2da81b45e3",
   "metadata": {},
   "source": [
    "### np.linspace"
   ]
  },
  {
   "cell_type": "markdown",
   "id": "5d1629c5-eedf-4f76-89fc-90734b2b4e71",
   "metadata": {},
   "source": [
    "*  np.linspace is a numpy function that create an array of evenly spaced number over a specific range.\n",
    "*  allows you to define the start and end points of the range and the\n",
    "*  number of element you want within that range....\n",
    "*  By default it generate 50 linspace value creating seq range..\n",
    "*  Syntax :np.linspace(start_value,end_value,num=50,endpoint=True,retstep=False,dtype=No\n"
   ]
  },
  {
   "cell_type": "markdown",
   "id": "a5091983-8462-4152-894f-9ebe8e40ff00",
   "metadata": {},
   "source": [
    "data=np.linspace(1,20,num=10)\n",
    "data\n"
   ]
  },
  {
   "cell_type": "code",
   "execution_count": 46,
   "id": "be7f97ce-822f-4cad-83c7-799771127c15",
   "metadata": {},
   "outputs": [
    {
     "data": {
      "text/plain": [
       "array([1.        , 1.11111111, 1.22222222, 1.33333333, 1.44444444,\n",
       "       1.55555556, 1.66666667, 1.77777778, 1.88888889, 2.        ])"
      ]
     },
     "execution_count": 46,
     "metadata": {},
     "output_type": "execute_result"
    }
   ],
   "source": [
    "data=np.linspace(1,2,num=10)\n",
    "data"
   ]
  },
  {
   "cell_type": "code",
   "execution_count": 48,
   "id": "2632accf-9187-4f20-a345-dccbc9a162b6",
   "metadata": {},
   "outputs": [
    {
     "data": {
      "text/plain": [
       "array([ 1.  , 13.25, 25.5 , 37.75, 50.  ])"
      ]
     },
     "execution_count": 48,
     "metadata": {},
     "output_type": "execute_result"
    }
   ],
   "source": [
    "data=np.linspace(1,50,num=5)\n",
    "data"
   ]
  },
  {
   "cell_type": "markdown",
   "id": "2447cc12-60e1-4ffa-929d-295f1c5abd1d",
   "metadata": {},
   "source": [
    "### Array indexing"
   ]
  },
  {
   "cell_type": "markdown",
   "id": "21297886-7967-42ec-830c-845ef492bcac",
   "metadata": {},
   "source": [
    "* Indexing in numpy refers to accessing and retrieving specific elements or groups of elements from an array."
   ]
  },
  {
   "cell_type": "code",
   "execution_count": 51,
   "id": "752c53db-26eb-4993-a2d7-bc0c37197196",
   "metadata": {},
   "outputs": [
    {
     "data": {
      "text/plain": [
       "array([ 1.  , 13.25, 25.5 , 37.75, 50.  ])"
      ]
     },
     "execution_count": 51,
     "metadata": {},
     "output_type": "execute_result"
    }
   ],
   "source": [
    "data"
   ]
  },
  {
   "cell_type": "code",
   "execution_count": 53,
   "id": "e6175c52-8c63-4b42-b78a-526030e8634a",
   "metadata": {},
   "outputs": [
    {
     "data": {
      "text/plain": [
       "1.0"
      ]
     },
     "execution_count": 53,
     "metadata": {},
     "output_type": "execute_result"
    }
   ],
   "source": [
    "data[0]"
   ]
  },
  {
   "cell_type": "code",
   "execution_count": 57,
   "id": "3b1ebb59-ff1f-42e4-9c70-fd648d331082",
   "metadata": {},
   "outputs": [
    {
     "data": {
      "text/plain": [
       "13.25"
      ]
     },
     "execution_count": 57,
     "metadata": {},
     "output_type": "execute_result"
    }
   ],
   "source": [
    "data[1]"
   ]
  },
  {
   "cell_type": "code",
   "execution_count": 59,
   "id": "c434f8b4-0046-4106-ba76-539a6265db1e",
   "metadata": {},
   "outputs": [
    {
     "data": {
      "text/plain": [
       "50.0"
      ]
     },
     "execution_count": 59,
     "metadata": {},
     "output_type": "execute_result"
    }
   ],
   "source": [
    "data[-1]"
   ]
  },
  {
   "cell_type": "code",
   "execution_count": 61,
   "id": "7bfe5bf3-02a4-423d-8dc1-db62accac455",
   "metadata": {},
   "outputs": [
    {
     "name": "stdout",
     "output_type": "stream",
     "text": [
      "[0.63905568 0.97469441 0.44483929 0.56063925 0.93928821 0.97078644\n",
      " 0.83141541 0.90911048 0.97988798 0.91323475 0.41166661 0.59226373]\n"
     ]
    }
   ],
   "source": [
    "a=np.random.rand(12)\n",
    "print(a)"
   ]
  },
  {
   "cell_type": "code",
   "execution_count": 63,
   "id": "ea33e9a2-4f6e-44d3-8d17-0395a29cf949",
   "metadata": {},
   "outputs": [
    {
     "data": {
      "text/plain": [
       "array([0.63905568, 0.97469441, 0.44483929, 0.56063925, 0.93928821,\n",
       "       0.97078644, 0.83141541, 0.90911048, 0.97988798, 0.91323475,\n",
       "       0.41166661, 0.59226373])"
      ]
     },
     "execution_count": 63,
     "metadata": {},
     "output_type": "execute_result"
    }
   ],
   "source": [
    "a.reshape(4,3)\n",
    "a"
   ]
  },
  {
   "cell_type": "code",
   "execution_count": 67,
   "id": "04ee6cb2-c839-43d4-a0d9-113a88b8785e",
   "metadata": {},
   "outputs": [
    {
     "data": {
      "text/plain": [
       "0.5922637296147731"
      ]
     },
     "execution_count": 67,
     "metadata": {},
     "output_type": "execute_result"
    }
   ],
   "source": [
    "a[-1]"
   ]
  },
  {
   "cell_type": "markdown",
   "id": "1f6010af-9aab-4baf-902e-e80864209ff6",
   "metadata": {},
   "source": [
    "### Array slicing"
   ]
  },
  {
   "cell_type": "markdown",
   "id": "1d39c2d2-fa5b-4e44-87d4-77b236b61c16",
   "metadata": {},
   "source": [
    "* Slicing in numpy refers to extracting a portion of an array byspecifying a range of indices. \n",
    "* It allows you to retrieving a subset ofthe elements from an array based on a start index,end index and step size."
   ]
  },
  {
   "cell_type": "code",
   "execution_count": 74,
   "id": "67d00bc5-e3ec-43a7-b40d-3ccdb00e37ec",
   "metadata": {},
   "outputs": [
    {
     "name": "stdout",
     "output_type": "stream",
     "text": [
      "[2 3 4 5]\n"
     ]
    }
   ],
   "source": [
    "arr = np.array([1, 2, 3, 4, 5, 6, 7])\n",
    "\n",
    "print(arr[1:5])"
   ]
  },
  {
   "cell_type": "code",
   "execution_count": 76,
   "id": "c15a9d20-87d4-4dd1-b78c-1b1f781cc7f0",
   "metadata": {},
   "outputs": [
    {
     "name": "stdout",
     "output_type": "stream",
     "text": [
      "[1 2 3 4]\n"
     ]
    }
   ],
   "source": [
    "arr = np.array([1, 2, 3, 4, 5, 6, 7])\n",
    "\n",
    "print(arr[:4])"
   ]
  },
  {
   "cell_type": "code",
   "execution_count": 78,
   "id": "d3463412-a527-4f4e-8425-f3324432a2c4",
   "metadata": {},
   "outputs": [
    {
     "name": "stdout",
     "output_type": "stream",
     "text": [
      "[5 6 7]\n"
     ]
    }
   ],
   "source": [
    "arr = np.array([1, 2, 3, 4, 5, 6, 7])\n",
    "\n",
    "print(arr[4:])"
   ]
  },
  {
   "cell_type": "markdown",
   "id": "61e3d8ca-3bca-4b14-bffe-5c258c77686a",
   "metadata": {},
   "source": [
    "### Array operations"
   ]
  },
  {
   "cell_type": "code",
   "execution_count": null,
   "id": "47ee8f7b-2881-4f87-8ae2-e18f3b8aba5d",
   "metadata": {},
   "outputs": [],
   "source": [
    "The array operations include:\n",
    "1) Addition\n",
    "2) substraction\n",
    "3) Multiplication\n",
    "4) division"
   ]
  },
  {
   "cell_type": "code",
   "execution_count": 85,
   "id": "dff91c33-204e-4b83-b414-c81bc554d31e",
   "metadata": {},
   "outputs": [
    {
     "name": "stdout",
     "output_type": "stream",
     "text": [
      "[5 4 3]\n",
      "[6 7 8]\n"
     ]
    }
   ],
   "source": [
    "arr2=np.array([6,7,8])\n",
    "arr3=np.array([5,4,3])\n",
    "print(arr3)\n",
    "print(arr2)"
   ]
  },
  {
   "cell_type": "markdown",
   "id": "fe79ef15-2f03-4aa0-8726-59b488569357",
   "metadata": {},
   "source": [
    "### addition of two arrays"
   ]
  },
  {
   "cell_type": "code",
   "execution_count": 87,
   "id": "5ee7620a-5524-4704-b751-d5ac44bedb1d",
   "metadata": {},
   "outputs": [
    {
     "data": {
      "text/plain": [
       "array([11, 11, 11])"
      ]
     },
     "execution_count": 87,
     "metadata": {},
     "output_type": "execute_result"
    }
   ],
   "source": [
    "arr2+arr3"
   ]
  },
  {
   "cell_type": "markdown",
   "id": "122abd2d-f9e9-49c8-b8d8-731011a15ca8",
   "metadata": {},
   "source": [
    "### Substraction of two arrays"
   ]
  },
  {
   "cell_type": "code",
   "execution_count": 89,
   "id": "3cfbdf7a-1246-4a61-afa5-3b73d2d8fff4",
   "metadata": {},
   "outputs": [
    {
     "data": {
      "text/plain": [
       "array([1, 3, 5])"
      ]
     },
     "execution_count": 89,
     "metadata": {},
     "output_type": "execute_result"
    }
   ],
   "source": [
    "arr2-arr3"
   ]
  },
  {
   "cell_type": "markdown",
   "id": "08c368de-491e-4af2-b442-9f88faa1d615",
   "metadata": {},
   "source": [
    "### Multiplication of two arrays"
   ]
  },
  {
   "cell_type": "code",
   "execution_count": 91,
   "id": "83070bba-d997-447f-9af4-ae8374f8b474",
   "metadata": {},
   "outputs": [
    {
     "data": {
      "text/plain": [
       "array([30, 28, 24])"
      ]
     },
     "execution_count": 91,
     "metadata": {},
     "output_type": "execute_result"
    }
   ],
   "source": [
    "arr2*arr3"
   ]
  },
  {
   "cell_type": "markdown",
   "id": "b663f7a5-960a-4b93-8a09-cc9a35c46979",
   "metadata": {},
   "source": [
    "## Division of two arrays"
   ]
  },
  {
   "cell_type": "code",
   "execution_count": 93,
   "id": "39f35729-76c2-495b-8497-78f9b3af0162",
   "metadata": {},
   "outputs": [
    {
     "data": {
      "text/plain": [
       "array([1.2       , 1.75      , 2.66666667])"
      ]
     },
     "execution_count": 93,
     "metadata": {},
     "output_type": "execute_result"
    }
   ],
   "source": [
    "arr2/arr3"
   ]
  },
  {
   "cell_type": "markdown",
   "id": "b4f95170-da1f-4480-ad74-f56971f36a76",
   "metadata": {},
   "source": [
    "### Broadcasting"
   ]
  },
  {
   "cell_type": "markdown",
   "id": "0ae39c45-6dbc-4c78-b6a9-bf6accec1b28",
   "metadata": {},
   "source": [
    "* Brodcasting refers to situation in which two arrays are of different shapes and how arithmatic operations perfomed on this."
   ]
  },
  {
   "cell_type": "code",
   "execution_count": 113,
   "id": "de338c04-d9da-4a59-ba06-a3d6af2d00a3",
   "metadata": {},
   "outputs": [
    {
     "data": {
      "text/plain": [
       "array([12.5, 15. , 17.5, 20. ])"
      ]
     },
     "execution_count": 113,
     "metadata": {},
     "output_type": "execute_result"
    }
   ],
   "source": [
    "a2=np.array([5,6,7,8])\n",
    "a3=([2.5])\n",
    "a2*a3"
   ]
  },
  {
   "cell_type": "code",
   "execution_count": 17,
   "id": "5e67fe9d-74c9-47db-b6a9-69f0edc8e433",
   "metadata": {},
   "outputs": [
    {
     "data": {
      "text/plain": [
       "array([2. , 2.4, 2.8, 3.2])"
      ]
     },
     "execution_count": 17,
     "metadata": {},
     "output_type": "execute_result"
    }
   ],
   "source": [
    "a2=np.array([5,6,7,8])\n",
    "a3=([2.5])\n",
    "a2/a3"
   ]
  },
  {
   "cell_type": "markdown",
   "id": "e0ac8015-4b94-4010-8e34-6619ef77b238",
   "metadata": {},
   "source": [
    "### Elementwise function and operation on array"
   ]
  },
  {
   "cell_type": "markdown",
   "id": "f6a2f6c6-e629-4749-97db-ae8816cc71be",
   "metadata": {},
   "source": [
    "### np.sqrt()"
   ]
  },
  {
   "cell_type": "markdown",
   "id": "63260c2e-bdf5-4539-80b6-3445d3b11fb7",
   "metadata": {},
   "source": [
    "* numpy.sqrt(array[, out]) function is used to determine the positive square root of an array, element-wise.\n",
    "* Syntax:\n",
    "         np.sqrt()"
   ]
  },
  {
   "cell_type": "code",
   "execution_count": 117,
   "id": "d665f7b0-5fa4-49bb-83ac-ae7871a23990",
   "metadata": {},
   "outputs": [
    {
     "data": {
      "text/plain": [
       "array([9.        , 5.19615242, 2.82842712, 6.        ])"
      ]
     },
     "execution_count": 117,
     "metadata": {},
     "output_type": "execute_result"
    }
   ],
   "source": [
    "S=np.sqrt([81,27,8,36])\n",
    "S"
   ]
  },
  {
   "cell_type": "code",
   "execution_count": 121,
   "id": "419c6adb-4e09-4aec-adcd-9046886f1872",
   "metadata": {},
   "outputs": [
    {
     "data": {
      "text/plain": [
       "array([ 56,  45,  88, 144, 121])"
      ]
     },
     "execution_count": 121,
     "metadata": {},
     "output_type": "execute_result"
    }
   ],
   "source": [
    "arr=np.array([56,45,88,144,121])\n",
    "arr"
   ]
  },
  {
   "cell_type": "code",
   "execution_count": 123,
   "id": "7a5235a5-5bcd-439b-a683-64db4c2b8fc5",
   "metadata": {},
   "outputs": [
    {
     "data": {
      "text/plain": [
       "array([ 7.48331477,  6.70820393,  9.38083152, 12.        , 11.        ])"
      ]
     },
     "execution_count": 123,
     "metadata": {},
     "output_type": "execute_result"
    }
   ],
   "source": [
    "sqrt_array=np.sqrt(arr)\n",
    "sqrt_array"
   ]
  },
  {
   "cell_type": "markdown",
   "id": "d55de790-aa9b-4b4b-81e3-1eeddcc01083",
   "metadata": {},
   "source": [
    "### np.sin()"
   ]
  },
  {
   "cell_type": "markdown",
   "id": "7dd99628-7363-4626-ac51-7d2f899c6181",
   "metadata": {},
   "source": [
    "* It is  trigonometric function  which is used to calculate sin of trigonometric function."
   ]
  },
  {
   "cell_type": "code",
   "execution_count": 126,
   "id": "735bfe12-ca40-4f1a-a6c2-d3c7714f3cb8",
   "metadata": {},
   "outputs": [
    {
     "data": {
      "text/plain": [
       "array([2.5, 2. , 8. , 3. , 4.5, 6.5])"
      ]
     },
     "execution_count": 126,
     "metadata": {},
     "output_type": "execute_result"
    }
   ],
   "source": [
    "B=np.array([2.5,2,8,3,4.5,6.5])\n",
    "B"
   ]
  },
  {
   "cell_type": "code",
   "execution_count": 128,
   "id": "cde7211d-e5b2-44e5-b48d-3237a5d32592",
   "metadata": {},
   "outputs": [
    {
     "data": {
      "text/plain": [
       "array([ 0.59847214,  0.90929743,  0.98935825,  0.14112001, -0.97753012,\n",
       "        0.21511999])"
      ]
     },
     "execution_count": 128,
     "metadata": {},
     "output_type": "execute_result"
    }
   ],
   "source": [
    "V=np.sin(B)\n",
    "V"
   ]
  },
  {
   "cell_type": "markdown",
   "id": "82050577-eed1-486e-b004-3565b28e24d8",
   "metadata": {},
   "source": [
    "### np.exp()"
   ]
  },
  {
   "cell_type": "markdown",
   "id": "3cb54cb5-8d45-4e68-a557-e067e37d7324",
   "metadata": {},
   "source": [
    "* The function np.exp() is used to calculate exponential of elements in an array."
   ]
  },
  {
   "cell_type": "code",
   "execution_count": 131,
   "id": "6f2da417-3edc-4767-8ebf-9e41ef88d716",
   "metadata": {},
   "outputs": [
    {
     "data": {
      "text/plain": [
       "array([  12.18249396,    7.3890561 , 2980.95798704,   20.08553692,\n",
       "         90.0171313 ,  665.14163304])"
      ]
     },
     "execution_count": 131,
     "metadata": {},
     "output_type": "execute_result"
    }
   ],
   "source": [
    "Z=np.exp(B)\n",
    "Z"
   ]
  },
  {
   "cell_type": "markdown",
   "id": "a1ccd44c-4979-4706-a8a7-f8d4bdddf63c",
   "metadata": {},
   "source": [
    "### 4) Array shapes and reshapes"
   ]
  },
  {
   "cell_type": "markdown",
   "id": "0f196b4a-8fc2-4ba5-a8bb-9bf6bebf6e9b",
   "metadata": {},
   "source": [
    "### np.shapes()"
   ]
  },
  {
   "cell_type": "markdown",
   "id": "ab2fd6b3-d023-431f-97be-5c0de068dbfc",
   "metadata": {},
   "source": [
    "* The np.shape()function can be defined as the number of elements in each dimension. \n",
    "* Dimension is the number of indices or subscripts, that we require in order to specify an individual element of an array."
   ]
  },
  {
   "cell_type": "code",
   "execution_count": 138,
   "id": "b4250b30-d06d-441c-8809-16c32b0e7fdf",
   "metadata": {},
   "outputs": [
    {
     "data": {
      "text/plain": [
       "array([[1, 3, 5, 7],\n",
       "       [2, 4, 6, 8]])"
      ]
     },
     "execution_count": 138,
     "metadata": {},
     "output_type": "execute_result"
    }
   ],
   "source": [
    "arr1 = np.array([[1, 3, 5, 7], [2, 4, 6, 8]])\n",
    "arr1"
   ]
  },
  {
   "cell_type": "code",
   "execution_count": 142,
   "id": "75bab1eb-f3c2-4895-bacd-7c5f015e5b62",
   "metadata": {},
   "outputs": [
    {
     "data": {
      "text/plain": [
       "(2, 4)"
      ]
     },
     "execution_count": 142,
     "metadata": {},
     "output_type": "execute_result"
    }
   ],
   "source": [
    "arr1.shape"
   ]
  },
  {
   "cell_type": "code",
   "execution_count": 146,
   "id": "ab092f8d-4889-4276-a168-2b744919c093",
   "metadata": {},
   "outputs": [
    {
     "data": {
      "text/plain": [
       "array([[[1, 2],\n",
       "        [3, 4]],\n",
       "\n",
       "       [[5, 6],\n",
       "        [7, 8]]])"
      ]
     },
     "execution_count": 146,
     "metadata": {},
     "output_type": "execute_result"
    }
   ],
   "source": [
    "arr2 = np.array([[[1, 2], [3, 4]], [[5, 6], [7, 8]]])\n",
    "arr2"
   ]
  },
  {
   "cell_type": "code",
   "execution_count": 148,
   "id": "393e3803-2b53-4aff-b7af-8eeca51e18d8",
   "metadata": {},
   "outputs": [
    {
     "data": {
      "text/plain": [
       "(2, 2, 2)"
      ]
     },
     "execution_count": 148,
     "metadata": {},
     "output_type": "execute_result"
    }
   ],
   "source": [
    "arr2.shape"
   ]
  },
  {
   "cell_type": "markdown",
   "id": "743e9812-0917-42c2-a0dc-5d24ba313473",
   "metadata": {},
   "source": [
    "### ndim()"
   ]
  },
  {
   "cell_type": "code",
   "execution_count": null,
   "id": "c7ccfe10-9f43-4e41-b4aa-99b9e536e61e",
   "metadata": {},
   "outputs": [],
   "source": [
    "You can get the number of dimensions of a NumPy array as an integer value with the ndim attribute of ndim()."
   ]
  },
  {
   "cell_type": "code",
   "execution_count": 151,
   "id": "62933046-c690-419e-b745-5a804da1efc0",
   "metadata": {},
   "outputs": [
    {
     "name": "stdout",
     "output_type": "stream",
     "text": [
      "[0 1 2]\n"
     ]
    }
   ],
   "source": [
    "a_1d = np.arange(3)\n",
    "print(a_1d)"
   ]
  },
  {
   "cell_type": "code",
   "execution_count": 159,
   "id": "09c70e36-d15f-48fc-a6d5-32fe1aa80ba9",
   "metadata": {},
   "outputs": [
    {
     "name": "stdout",
     "output_type": "stream",
     "text": [
      "1\n"
     ]
    }
   ],
   "source": [
    "print(a_1d.ndim)"
   ]
  },
  {
   "cell_type": "code",
   "execution_count": 165,
   "id": "4fdb7e8c-d8f7-4287-9fb5-8c0717155cd7",
   "metadata": {},
   "outputs": [
    {
     "data": {
      "text/plain": [
       "array([[10, 11, 12],\n",
       "       [13, 14, 15],\n",
       "       [16, 17, 18],\n",
       "       [19, 20, 21]])"
      ]
     },
     "execution_count": 165,
     "metadata": {},
     "output_type": "execute_result"
    }
   ],
   "source": [
    "a_2d=np.arange(10,22).reshape((4,3))\n",
    "a_2d"
   ]
  },
  {
   "cell_type": "code",
   "execution_count": 167,
   "id": "bdd27277-5ae1-4766-b045-f21846157254",
   "metadata": {},
   "outputs": [
    {
     "name": "stdout",
     "output_type": "stream",
     "text": [
      "2\n"
     ]
    }
   ],
   "source": [
    "print(a_2d.ndim)"
   ]
  },
  {
   "cell_type": "markdown",
   "id": "a56d11c4-b14f-41d0-849f-348e6eeeda00",
   "metadata": {},
   "source": [
    "### changing array shape"
   ]
  },
  {
   "cell_type": "markdown",
   "id": "05f3530a-04b7-4b74-99b6-b0ce70085d34",
   "metadata": {},
   "source": [
    "### np.reshape()"
   ]
  },
  {
   "cell_type": "markdown",
   "id": "bc2326a4-02ca-4794-88e7-ed643a1e5b6c",
   "metadata": {},
   "source": [
    "* This function give new shape to array  without changing data."
   ]
  },
  {
   "cell_type": "code",
   "execution_count": 3,
   "id": "be984e96-1790-4c20-b549-bac58d3d9317",
   "metadata": {},
   "outputs": [],
   "source": [
    "import numpy as np"
   ]
  },
  {
   "cell_type": "code",
   "execution_count": 5,
   "id": "c7bd589b-0292-4dc0-a016-5c9e19fd02fc",
   "metadata": {},
   "outputs": [
    {
     "data": {
      "text/plain": [
       "array([1, 2, 3, 4, 5, 6])"
      ]
     },
     "execution_count": 5,
     "metadata": {},
     "output_type": "execute_result"
    }
   ],
   "source": [
    "a = np.array([[1,2,3], [4,5,6]])\n",
    "np.reshape(a, 6)\n"
   ]
  },
  {
   "cell_type": "code",
   "execution_count": 13,
   "id": "67da968e-c836-46a1-9693-e5e1af72d706",
   "metadata": {},
   "outputs": [
    {
     "data": {
      "text/plain": [
       "array([6, 7, 8, 9])"
      ]
     },
     "execution_count": 13,
     "metadata": {},
     "output_type": "execute_result"
    }
   ],
   "source": [
    "b=np.array([6,7,8,9])\n",
    "np.reshape(b, 4)"
   ]
  },
  {
   "cell_type": "markdown",
   "id": "7468bae7-36bd-43f3-bb36-dc83bc424b00",
   "metadata": {},
   "source": [
    "### np.flatten()"
   ]
  },
  {
   "cell_type": "markdown",
   "id": "23f00de0-bb9b-4f5e-8d28-afce0ebf9887",
   "metadata": {},
   "source": [
    "* Return a copy of the array collapsed into one dimension.\n",
    "* This function Converts a multi-dimensional array into a one-dimensional array by listing all elements sequentially. \n",
    "* Syntax: numpy.ndarray.flatten(order='C') \n"
   ]
  },
  {
   "cell_type": "code",
   "execution_count": 27,
   "id": "190610e8-c946-470a-af9c-2b968e78520f",
   "metadata": {},
   "outputs": [
    {
     "name": "stdout",
     "output_type": "stream",
     "text": [
      "[1 2 3 4 5 6]\n"
     ]
    }
   ],
   "source": [
    "arr1 = np.array([[1, 2, 3], [4, 5, 6]])\n",
    "flat_arr=arr1.flatten()\n",
    "print(flat_arr)"
   ]
  },
  {
   "cell_type": "code",
   "execution_count": 31,
   "id": "bc2ba19f-df0e-4054-a91b-c646b531df18",
   "metadata": {},
   "outputs": [
    {
     "name": "stdout",
     "output_type": "stream",
     "text": [
      "[12 20 33 44]\n"
     ]
    }
   ],
   "source": [
    "arr2= np.array([[12,20],[33,44]])\n",
    "flat_arr1=arr2.flatten()\n",
    "print(flat_arr1)\n"
   ]
  },
  {
   "cell_type": "markdown",
   "id": "56afa1a6-d14e-4aa5-b0a4-b506c30f5003",
   "metadata": {},
   "source": [
    "### np.transpose()"
   ]
  },
  {
   "cell_type": "markdown",
   "id": "3d5eda5f-eb7a-429e-8aa1-478c790196a7",
   "metadata": {},
   "source": [
    "* The transpose of a matrix is obtained by moving the rows data to the column and columns data to the rows. \n",
    "* The numpy.transpose() function changes the row elements into column elements and the column elements into row elements.\n",
    "* The output of this function is a modified array of the original one.\n",
    "* Syntax:\n",
    "        numpy.transpose(arr, axis=None)  "
   ]
  },
  {
   "cell_type": "code",
   "execution_count": 35,
   "id": "0092746f-c9c1-408a-8661-017e440c98b5",
   "metadata": {},
   "outputs": [
    {
     "data": {
      "text/plain": [
       "array([[1, 4, 7],\n",
       "       [2, 5, 8]])"
      ]
     },
     "execution_count": 35,
     "metadata": {},
     "output_type": "execute_result"
    }
   ],
   "source": [
    "a= np.array([[1, 2], [4, 5], [7, 8]])  \n",
    "a  \n",
    "b=np.transpose(a, (1,0))  \n",
    "b "
   ]
  },
  {
   "cell_type": "markdown",
   "id": "bfae78a4-6f56-44a3-a429-d691c48db0cc",
   "metadata": {},
   "source": [
    "### Concatenating and splitting"
   ]
  },
  {
   "cell_type": "markdown",
   "id": "098b0f73-6ae0-4d26-98e9-b751eb63a8b5",
   "metadata": {},
   "source": [
    "### Concatenating of arrays"
   ]
  },
  {
   "cell_type": "markdown",
   "id": "e2c5eaee-a9d2-4d63-a59a-12bbab696693",
   "metadata": {},
   "source": [
    "* This function essentially combines NumPy arrays together.\n",
    "* This function is basically used for joining two or more arrays of the same shape along a specified axis\n",
    "* Concatenate an arrays along the axis.\n",
    "* In column-wise concatenation in both the matrix has rows must be equal\n",
    "* In row-wise concatenation in both the matrix has columns must be equal.\n",
    "* Syntax: numpy.concatenate((a1, a2, ...), axis)  "
   ]
  },
  {
   "cell_type": "code",
   "execution_count": 40,
   "id": "b07401b4-845e-4828-8e16-3d9f5f1c3273",
   "metadata": {},
   "outputs": [
    {
     "data": {
      "text/plain": [
       "array([[ 1,  2],\n",
       "       [ 3,  4],\n",
       "       [12, 30]])"
      ]
     },
     "execution_count": 40,
     "metadata": {},
     "output_type": "execute_result"
    }
   ],
   "source": [
    "x=np.array([[1,2],[3,4]])  \n",
    "y=np.array([[12,30]])  \n",
    "z=np.concatenate((x,y))  \n",
    "z "
   ]
  },
  {
   "cell_type": "code",
   "execution_count": 42,
   "id": "9f050440-060a-4d99-9815-9b9d09615834",
   "metadata": {},
   "outputs": [
    {
     "data": {
      "text/plain": [
       "array([[ 1,  2, 12],\n",
       "       [ 3,  4, 30]])"
      ]
     },
     "execution_count": 42,
     "metadata": {},
     "output_type": "execute_result"
    }
   ],
   "source": [
    "x=np.array([[1,2],[3,4]])  \n",
    "y=np.array([[12,30]])  \n",
    "z=np.concatenate((x,y.T), axis=1)  \n",
    "z  "
   ]
  },
  {
   "cell_type": "markdown",
   "id": "b1045d0a-b355-41d4-abf1-07ce18ab8f68",
   "metadata": {},
   "source": [
    "### Splitting of arrays"
   ]
  },
  {
   "cell_type": "markdown",
   "id": "88622da6-3602-4f47-a5bf-4be26d67b418",
   "metadata": {},
   "source": [
    "* Splitting is reverse operation of Joining.\n",
    "* Joining merges multiple arrays into one and Splitting breaks one array into multiple.\n",
    "* We use array_split() for splitting arrays, we pass it the array we want to split and the number of splits."
   ]
  },
  {
   "cell_type": "code",
   "execution_count": 54,
   "id": "e98fa957-3947-460c-b0e9-f727820d7e83",
   "metadata": {},
   "outputs": [
    {
     "name": "stdout",
     "output_type": "stream",
     "text": [
      "[array([1, 2]), array([3, 4]), array([5, 6])]\n"
     ]
    }
   ],
   "source": [
    "Arr = np.array([1, 2, 3, 4, 5, 6])\n",
    "arr = np.array_split(Arr, 3)\n",
    "print(arr)"
   ]
  },
  {
   "cell_type": "markdown",
   "id": "0026e9fe-d536-4fb1-b759-57d6b0f09b1e",
   "metadata": {},
   "source": [
    "### np.vstack()"
   ]
  },
  {
   "cell_type": "markdown",
   "id": "6e955573-6e77-4cdb-90aa-1192bdac0307",
   "metadata": {},
   "source": [
    "* The numpy.vstack() function is a tool in Python’s Numpy library that allows you to stack arrays vertically. \n",
    "* In simpler terms, it takes a sequence of arrays and stacks them vertically to make a single array."
   ]
  },
  {
   "cell_type": "code",
   "execution_count": 57,
   "id": "2502c7e8-aca4-48d8-b4ef-4ef1062effa2",
   "metadata": {},
   "outputs": [
    {
     "name": "stdout",
     "output_type": "stream",
     "text": [
      "[[1 2 3]\n",
      " [4 5 6]]\n"
     ]
    }
   ],
   "source": [
    "a = np.array([1, 2, 3])\n",
    "b = np.array([4, 5, 6])\n",
    "c = np.vstack((a,b))\n",
    "print(c)"
   ]
  },
  {
   "cell_type": "code",
   "execution_count": 59,
   "id": "65c7aee6-1151-445f-93a1-986e91905367",
   "metadata": {},
   "outputs": [
    {
     "name": "stdout",
     "output_type": "stream",
     "text": [
      "[[ 1  2  3]\n",
      " [ 4  5  6]\n",
      " [ 7  8  9]\n",
      " [10 11 12]]\n"
     ]
    }
   ],
   "source": [
    "# Create two 2D arrays\n",
    "a = np.array([[1, 2, 3], [4, 5, 6]])\n",
    "b = np.array([[7, 8, 9], [10, 11, 12]])\n",
    "c = np.vstack((a,b))\n",
    "print(c)\n"
   ]
  },
  {
   "cell_type": "markdown",
   "id": "34a942da-247b-445e-9ccb-588021d77d67",
   "metadata": {},
   "source": [
    "### np.hstack()"
   ]
  },
  {
   "cell_type": "markdown",
   "id": "416dc438-32cd-42c4-8630-99e73b77d163",
   "metadata": {},
   "source": [
    "* function is used to stack the sequence of input arrays horizontally (i.e. column wise) to make a single array.\n",
    "* Syntax: np.hstack((a,b))"
   ]
  },
  {
   "cell_type": "code",
   "execution_count": 63,
   "id": "f5ed8dc9-05ae-48f8-a793-e627e8411e58",
   "metadata": {},
   "outputs": [
    {
     "name": "stdout",
     "output_type": "stream",
     "text": [
      "[1 2 3]\n",
      "[4 5 6]\n",
      "[1 2 3 4 5 6]\n"
     ]
    }
   ],
   "source": [
    "arr1 = np.array([ 1, 2, 3] ) \n",
    "print (arr1)  \n",
    "  \n",
    "arr2 = np.array([ 4, 5, 6] ) \n",
    "print (arr2)  \n",
    "  \n",
    "# Stacking the two arrays horizontally \n",
    "out_arr = np.hstack((arr1,arr2)) \n",
    "print (out_arr) "
   ]
  },
  {
   "cell_type": "code",
   "execution_count": 65,
   "id": "b7f70f63-0dae-4aa0-b898-fea83d3249e8",
   "metadata": {},
   "outputs": [
    {
     "name": "stdout",
     "output_type": "stream",
     "text": [
      "[[ 1  2  3  7  8  9]\n",
      " [ 4  5  6 10 11 12]]\n"
     ]
    }
   ],
   "source": [
    "a = np.array([[1, 2, 3], [4, 5, 6]])\n",
    "b = np.array([[7, 8, 9], [10, 11, 12]])\n",
    "c = np.hstack((a,b))\n",
    "print(c)\n"
   ]
  },
  {
   "cell_type": "markdown",
   "id": "073bba17-ee1c-4b52-a0f7-4a9fb0bdae6a",
   "metadata": {},
   "source": [
    "### 5) Array Manipulation"
   ]
  },
  {
   "cell_type": "markdown",
   "id": "bdbbc853-f80b-4bc2-8df0-0a7de7de2c74",
   "metadata": {},
   "source": [
    "* When working with NumPy arrays it is sometimes necessary to manipulate the shape and/or size of them.\n",
    "* One can for example modify the shape of an array as well as split or join arrays into new arrays."
   ]
  },
  {
   "cell_type": "markdown",
   "id": "6ade64e3-60d2-4e4a-acff-757c6890b92a",
   "metadata": {},
   "source": [
    "### Indexing in multi-dimensional array"
   ]
  },
  {
   "cell_type": "code",
   "execution_count": null,
   "id": "fe77c3f2-b6de-41a4-bcf7-7d1e11605e9f",
   "metadata": {},
   "outputs": [],
   "source": [
    "* Indexing in multi-dimensional arrays is similar to indexing in lists but with multiple dimensions. \n",
    "* You specify the row and column indices."
   ]
  },
  {
   "cell_type": "code",
   "execution_count": 70,
   "id": "d036cfa3-79b3-4207-a3c7-a0a0b096b65c",
   "metadata": {},
   "outputs": [
    {
     "name": "stdout",
     "output_type": "stream",
     "text": [
      "22\n"
     ]
    }
   ],
   "source": [
    "array1 = np.array([[[1, 2, 3, 4], \n",
    "                   [5, 6, 7, 8], \n",
    "                   [9, 10, 11, 12]],\n",
    "                     \n",
    "                    [[13, 14, 15, 16], \n",
    "                    [17, 18, 19, 20], \n",
    "                    [21, 22, 23, 24]]])\n",
    "element = array1[1, 2, 1]\n",
    "print(element) "
   ]
  },
  {
   "cell_type": "markdown",
   "id": "6a5ed115-aecb-4d3c-a988-c2cb9bde5ca4",
   "metadata": {},
   "source": [
    "### Slicing in multi-dimensional array"
   ]
  },
  {
   "cell_type": "markdown",
   "id": "c02ce4c0-b305-4ae6-bb34-dc0e73db5ad6",
   "metadata": {},
   "source": [
    "* Slicing in python means taking elements from one given index to another given index.\n",
    "* We pass slice instead of index like this: [start:end].\n",
    "* We can also define the step, like this: [start:end:step].\n",
    "* If we don't pass start its considered 0\n",
    "* If we don't pass end its considered length of array in that dimension\n",
    "* This means you can extract rows, columns, or specific elements from a multi-dimensional array with ease."
   ]
  },
  {
   "cell_type": "code",
   "execution_count": null,
   "id": "ab9f1fcf-08a5-4a9e-887f-3b2f187707d8",
   "metadata": {},
   "outputs": [],
   "source": [
    "matrix = np.array([[1, 2, 3],\n",
    "                   [4, 5, 6],\n",
    "                   [7, 8, 9]])\n",
    "\n",
    "# Get the first row\n",
    "row_1 = matrix[0, :]  \n",
    "print(row_1)  \n",
    "\n",
    " # Get the second column\n",
    "col_2 = matrix[:, 1] \n",
    "print(col_2)"
   ]
  },
  {
   "cell_type": "code",
   "execution_count": 76,
   "id": "c9b4fe8d-35ba-4901-a0a5-4ebc6d541b4b",
   "metadata": {},
   "outputs": [
    {
     "name": "stdout",
     "output_type": "stream",
     "text": [
      "[[2 3]\n",
      " [5 6]]\n"
     ]
    }
   ],
   "source": [
    "matrix = np.array([[1, 2, 3],\n",
    "                   [4, 5, 6],\n",
    "                   [7, 8, 9]])\n",
    "\n",
    "# Slicing a subarray\n",
    "sub_matrix = matrix[0:2, 1:3]  \n",
    "print(sub_matrix)"
   ]
  },
  {
   "cell_type": "code",
   "execution_count": 78,
   "id": "95ac4f5f-447a-4ef2-832e-db765f14e1ac",
   "metadata": {},
   "outputs": [
    {
     "name": "stdout",
     "output_type": "stream",
     "text": [
      "[[ 1  3]\n",
      " [ 9 11]]\n"
     ]
    }
   ],
   "source": [
    "matrix = np.array([[1, 2, 3, 4],\n",
    "                   [5, 6, 7, 8],\n",
    "                   [9, 10, 11, 12]])\n",
    "\n",
    "# Slicing with step\n",
    "sliced_matrix = matrix[::2, ::2] \n",
    "print(sliced_matrix)"
   ]
  },
  {
   "cell_type": "markdown",
   "id": "c297db84-24a7-4aab-934e-09847c5c48a7",
   "metadata": {},
   "source": [
    "### Masking"
   ]
  },
  {
   "cell_type": "markdown",
   "id": "d30ce064-bc95-44e6-8f15-18a2e9f52d8d",
   "metadata": {},
   "source": [
    "* Masking is essential works with the list of Boolean values i.e, True or False \n",
    "* which when applied to an original array to return the element of interest.\n",
    "* Here True refers to the value that satisfies the given condition whereas False refers to values that fail to satisfy the condition."
   ]
  },
  {
   "cell_type": "markdown",
   "id": "e129ea87-bcc3-4aaf-9c6c-f1bee5bab1b9",
   "metadata": {},
   "source": [
    "### Fancy indexing"
   ]
  },
  {
   "cell_type": "markdown",
   "id": "db38533d-dc5a-480b-a9e0-f630915b200a",
   "metadata": {},
   "source": [
    "* Fancy indexing is conceptually simple. \n",
    "* It means passing an array of indices to access multiple array elements at once.\n",
    "* Fancy indexing can perform more advanced and efficient array operations, including conditional filtering, sorting, and so on.\n",
    "\n"
   ]
  },
  {
   "cell_type": "code",
   "execution_count": 84,
   "id": "956e498a-07d3-4c20-a56f-d9bd02241e45",
   "metadata": {},
   "outputs": [
    {
     "name": "stdout",
     "output_type": "stream",
     "text": [
      "[2 3 6 8]\n"
     ]
    }
   ],
   "source": [
    "array1 = np.array([1, 2, 3, 4, 5, 6, 7, 8])\n",
    "# select elements at index 1, 2, 5, 7\n",
    "select_elements = array1[[1, 2, 5, 7]]\n",
    "print(select_elements)"
   ]
  },
  {
   "cell_type": "code",
   "execution_count": 86,
   "id": "b6afb244-9073-4d66-9f32-ce7c53b596d1",
   "metadata": {},
   "outputs": [
    {
     "name": "stdout",
     "output_type": "stream",
     "text": [
      "[ 3 10  6 20  8  5 30  4]\n"
     ]
    }
   ],
   "source": [
    "array1 = np.array([3, 2, 6, 1, 8, 5, 7, 4])\n",
    "# create a list of indices to assign new values\n",
    "indices = [1, 3, 6]\n",
    "# create a new array of values to assign\n",
    "new_values = [10, 20, 30]\n",
    "# use fancy indexing to assign new values to specific elements\n",
    "array1[indices] = new_values\n",
    "print(array1)"
   ]
  },
  {
   "cell_type": "markdown",
   "id": "28f29901-dedf-4daa-a036-43bb3b6e3cd5",
   "metadata": {},
   "source": [
    "### 6) Mathematical Functions"
   ]
  },
  {
   "cell_type": "markdown",
   "id": "7908ac7e-6102-4fea-84bf-b92acbcbce66",
   "metadata": {},
   "source": [
    "### Universal functions"
   ]
  },
  {
   "cell_type": "markdown",
   "id": "f962cb39-8f29-4c88-8417-33b2cd9ea415",
   "metadata": {},
   "source": [
    "* ufuncs stands for \"Universal Functions\" and they are NumPy functions that operate on the ndarray object.\n",
    "* ufuncs are used to implement vectorization in NumPy which is way faster than iterating over elements.\n",
    "* They also provide broadcasting and additional methods like reduce, accumulate etc. that are very helpful for computation."
   ]
  },
  {
   "cell_type": "markdown",
   "id": "344399ed-e97b-49fe-bd94-bda9aa5a9dca",
   "metadata": {},
   "source": [
    "### np.add()"
   ]
  },
  {
   "cell_type": "markdown",
   "id": "73e149c4-c061-4e7a-a066-ff622d538d1f",
   "metadata": {},
   "source": [
    "* In NumPy, the \"universal add function\" is essentially the np.add() function,\n",
    "* Which performs element-wise addition between arrays, effectively acting as a universal function (ufunc) \n",
    "* That can handle arrays of different shapes due to broadcasting capabilitie\n",
    "* Allowing you to add corresponding elements between multiple arrays efficiently. "
   ]
  },
  {
   "cell_type": "code",
   "execution_count": 97,
   "id": "3f1af054-e3df-4e32-888b-c496d85bb400",
   "metadata": {},
   "outputs": [
    {
     "name": "stdout",
     "output_type": "stream",
     "text": [
      "[5 7 9]\n"
     ]
    }
   ],
   "source": [
    "arr1 = np.array([1, 2, 3])\n",
    "arr2 = np.array([4, 5, 6])\n",
    "result = np.add(arr1, arr2) \n",
    "print(result)\n"
   ]
  },
  {
   "cell_type": "markdown",
   "id": "e63f9532-9fb1-44ba-9dc6-dcb222a05b29",
   "metadata": {},
   "source": [
    "### np.substract()"
   ]
  },
  {
   "cell_type": "markdown",
   "id": "f005c8e6-ba15-43e7-8c52-a7960da76d6c",
   "metadata": {},
   "source": [
    "* numpy.subtract() function is used when we want to compute the difference of two array.It returns the difference of arr1 and arr2, element-wise."
   ]
  },
  {
   "cell_type": "code",
   "execution_count": 100,
   "id": "13ac4964-ee36-484c-8ef5-44d25fa74659",
   "metadata": {},
   "outputs": [
    {
     "name": "stdout",
     "output_type": "stream",
     "text": [
      "[[ 2 -4  5]\n",
      " [-6  2  0]]\n",
      "[[ 0 -7  5]\n",
      " [ 5 -2  9]]\n",
      "[[  2   3   0]\n",
      " [-11   4  -9]]\n"
     ]
    }
   ],
   "source": [
    "a = np.array([[2, -4, 5], [-6, 2, 0]])\n",
    "b = np.array([[0, -7, 5], [5, -2, 9]])\n",
    "print (a)\n",
    "print (b)\n",
    "out_arr = np.subtract(a,b) \n",
    "print (out_arr)"
   ]
  },
  {
   "cell_type": "markdown",
   "id": "daf9dd2a-808c-4fa3-a7d8-9f1096b4ee0a",
   "metadata": {},
   "source": [
    "### np.multiply()"
   ]
  },
  {
   "cell_type": "markdown",
   "id": "503f6746-a6ba-48c4-b84a-668cd65f8bcb",
   "metadata": {},
   "source": [
    "* numpy.multiply() function is used when we want to compute the multiplication of two array. It returns the product of arr1 and arr2, element-wise."
   ]
  },
  {
   "cell_type": "code",
   "execution_count": 103,
   "id": "f050d50f-5f1a-4769-a2e8-29846c07c81c",
   "metadata": {},
   "outputs": [
    {
     "data": {
      "text/plain": [
       "array([[ 0.,  1.,  4.],\n",
       "       [ 0.,  4., 10.],\n",
       "       [ 0.,  7., 16.]])"
      ]
     },
     "execution_count": 103,
     "metadata": {},
     "output_type": "execute_result"
    }
   ],
   "source": [
    "x1 = np.arange(9.0).reshape((3, 3))\n",
    "x2 = np.arange(3.0)\n",
    "x1 * x2"
   ]
  },
  {
   "cell_type": "markdown",
   "id": "a589b35e-375b-47a7-9071-f64f10deaa92",
   "metadata": {},
   "source": [
    "### Statistical functions"
   ]
  },
  {
   "cell_type": "markdown",
   "id": "c9a049e1-8f23-4d75-809d-857124451d33",
   "metadata": {},
   "source": [
    "* Statistics involves gathering data, analyzing it, and drawing conclusions based on the information collected.\n",
    "* NumPy provides us with various statistical functions that can perform statistical data analysis."
   ]
  },
  {
   "cell_type": "markdown",
   "id": "55c7543b-0e90-481c-afd1-17930448aa5b",
   "metadata": {},
   "source": [
    "### np.mean()"
   ]
  },
  {
   "cell_type": "markdown",
   "id": "6d5afdfb-6b10-4057-afea-9812af41b5e8",
   "metadata": {},
   "source": [
    "* Finding the avg of an arrays.\n",
    "* Syntax:\n",
    "      numpy.mean(arr, axis = None)"
   ]
  },
  {
   "cell_type": "code",
   "execution_count": 109,
   "id": "5a0bc514-0904-4021-a15b-c1661d1228c1",
   "metadata": {},
   "outputs": [
    {
     "name": "stdout",
     "output_type": "stream",
     "text": [
      "[20, 2, 7, 1, 34]\n",
      "12.8\n"
     ]
    }
   ],
   "source": [
    "arr = [20, 2, 7, 1, 34] \n",
    "print(arr)  \n",
    "print(np.mean(arr)) \n",
    "   "
   ]
  },
  {
   "cell_type": "code",
   "execution_count": 111,
   "id": "73daa606-65e5-4b3d-9507-a1a4d959164f",
   "metadata": {},
   "outputs": [
    {
     "name": "stdout",
     "output_type": "stream",
     "text": [
      "[[1 2 3]\n",
      " [2 3 4]\n",
      " [4 5 6]]\n"
     ]
    }
   ],
   "source": [
    "a=np.array([[1,2,3],\n",
    " [2,3,4],\n",
    " [4,5,6]])\n",
    "print(a)"
   ]
  },
  {
   "cell_type": "code",
   "execution_count": 113,
   "id": "2484b3fa-4511-4b83-b33d-bdd4a1e0ae36",
   "metadata": {},
   "outputs": [
    {
     "data": {
      "text/plain": [
       "3.3333333333333335"
      ]
     },
     "execution_count": 113,
     "metadata": {},
     "output_type": "execute_result"
    }
   ],
   "source": [
    "x=np.mean(a)\n",
    "x"
   ]
  },
  {
   "cell_type": "markdown",
   "id": "2d4e14c4-797e-418d-81b2-75cd2b41e3c0",
   "metadata": {},
   "source": [
    "### np.median()"
   ]
  },
  {
   "cell_type": "markdown",
   "id": "900e0959-155f-4123-8140-189463ae368d",
   "metadata": {},
   "source": [
    "* Compute the median of the given data (array elements) along the specified axis.\n",
    "* syntax: np.median(arr, axis = None)"
   ]
  },
  {
   "cell_type": "code",
   "execution_count": 117,
   "id": "fb1e9d89-5581-4ea9-be3e-315b2bc693cf",
   "metadata": {},
   "outputs": [
    {
     "data": {
      "text/plain": [
       "array([[1, 2, 3],\n",
       "       [2, 3, 4],\n",
       "       [4, 5, 6]])"
      ]
     },
     "execution_count": 117,
     "metadata": {},
     "output_type": "execute_result"
    }
   ],
   "source": [
    "a"
   ]
  },
  {
   "cell_type": "code",
   "execution_count": 119,
   "id": "d64bb5f1-f2c8-4892-8fd8-dcf817f9657f",
   "metadata": {},
   "outputs": [
    {
     "data": {
      "text/plain": [
       "3.0"
      ]
     },
     "execution_count": 119,
     "metadata": {},
     "output_type": "execute_result"
    }
   ],
   "source": [
    "np.median(a)"
   ]
  },
  {
   "cell_type": "markdown",
   "id": "69b5694b-3ca6-4d3f-890e-98e630717117",
   "metadata": {},
   "source": [
    "### np.std()"
   ]
  },
  {
   "cell_type": "markdown",
   "id": "fdd335d6-165a-4f71-bddd-ce82325fc588",
   "metadata": {},
   "source": [
    "* Compute the standard deviation of the given data (array elements) along the specified axis(if any)..\n",
    "* Syntax: np.std(arr,axis=none)"
   ]
  },
  {
   "cell_type": "code",
   "execution_count": 123,
   "id": "c812155f-0d43-42c0-965e-b413dcba004d",
   "metadata": {},
   "outputs": [
    {
     "data": {
      "text/plain": [
       "15.3668474320532"
      ]
     },
     "execution_count": 123,
     "metadata": {},
     "output_type": "execute_result"
    }
   ],
   "source": [
    "arr = [[2, 2, 2, 2, 2],   \n",
    "       [15, 6, 27, 8, 2],  \n",
    "       [23, 2, 54, 1, 2, ],  \n",
    "       [11, 44, 34, 7, 2]]  \n",
    "np.std(arr)"
   ]
  },
  {
   "cell_type": "code",
   "execution_count": 125,
   "id": "aafc0c5a-8a7b-4c0e-b6fc-287917228cab",
   "metadata": {},
   "outputs": [
    {
     "data": {
      "text/plain": [
       "array([[1, 2, 3],\n",
       "       [2, 3, 4],\n",
       "       [4, 5, 6]])"
      ]
     },
     "execution_count": 125,
     "metadata": {},
     "output_type": "execute_result"
    }
   ],
   "source": [
    "a"
   ]
  },
  {
   "cell_type": "code",
   "execution_count": 127,
   "id": "9a1ce471-73da-4ae2-a8af-71dd227214d3",
   "metadata": {},
   "outputs": [
    {
     "name": "stdout",
     "output_type": "stream",
     "text": [
      "1.4907119849998598\n"
     ]
    }
   ],
   "source": [
    "print(np.std(a))"
   ]
  },
  {
   "cell_type": "markdown",
   "id": "511d57d5-f3d1-4616-8df3-97db21e31e88",
   "metadata": {},
   "source": [
    "### np.var()"
   ]
  },
  {
   "cell_type": "markdown",
   "id": "ab10f6b9-35fc-473e-903e-8a39e911738e",
   "metadata": {},
   "source": [
    "* Compute the variance of the given data (array elements) along the specified axis(if any)\n",
    "* Syntax: np.var(arr,axis=none)"
   ]
  },
  {
   "cell_type": "code",
   "execution_count": 131,
   "id": "4d213b4f-2442-48bb-b1cd-4d5ecf01efe2",
   "metadata": {},
   "outputs": [
    {
     "name": "stdout",
     "output_type": "stream",
     "text": [
      "158.16\n"
     ]
    }
   ],
   "source": [
    "arr = [20, 2, 7, 1, 34]  \n",
    "print(np.var(arr))"
   ]
  },
  {
   "cell_type": "code",
   "execution_count": 133,
   "id": "e3a3af22-cc5b-4900-8712-2fea0a82d15b",
   "metadata": {},
   "outputs": [
    {
     "data": {
      "text/plain": [
       "array([[      12,     2000,  2389465],\n",
       "       [   12944, 41234567,      233]])"
      ]
     },
     "execution_count": 133,
     "metadata": {},
     "output_type": "execute_result"
    }
   ],
   "source": [
    "s=np.array([[12,2000,2389465],\n",
    " [12944,41234567,233]])\n",
    "s"
   ]
  },
  {
   "cell_type": "code",
   "execution_count": 135,
   "id": "f364a4b7-d1ef-48b9-affb-8e44895f6b34",
   "metadata": {},
   "outputs": [
    {
     "data": {
      "text/plain": [
       "231433715891801.6"
      ]
     },
     "execution_count": 135,
     "metadata": {},
     "output_type": "execute_result"
    }
   ],
   "source": [
    "np.var(s)"
   ]
  },
  {
   "cell_type": "markdown",
   "id": "d98538c2-49ed-4375-a59a-fb021531a5fa",
   "metadata": {},
   "source": [
    "### np.min()"
   ]
  },
  {
   "cell_type": "markdown",
   "id": "19786a2a-8b2b-4bad-8f3c-4134d0e7d492",
   "metadata": {},
   "source": [
    "* Return the minimum of an array or minimum along an axis.\n",
    "* Syntax:np.min(arr,axis=none)"
   ]
  },
  {
   "cell_type": "code",
   "execution_count": 139,
   "id": "c60db172-d3e2-4662-96e9-8bf17279e28c",
   "metadata": {},
   "outputs": [
    {
     "name": "stdout",
     "output_type": "stream",
     "text": [
      "[[      12     2000  2389465]\n",
      " [   12944 41234567      233]]\n"
     ]
    }
   ],
   "source": [
    "print(s)"
   ]
  },
  {
   "cell_type": "code",
   "execution_count": 145,
   "id": "b016c734-3f65-4170-8345-295ac1311e38",
   "metadata": {},
   "outputs": [
    {
     "name": "stdout",
     "output_type": "stream",
     "text": [
      "12\n"
     ]
    }
   ],
   "source": [
    "print(np.min(s))"
   ]
  },
  {
   "cell_type": "code",
   "execution_count": 147,
   "id": "fe9fe552-dd9c-4197-ba8a-340cacca044a",
   "metadata": {},
   "outputs": [
    {
     "name": "stdout",
     "output_type": "stream",
     "text": [
      "[[1 2 3]\n",
      " [2 3 4]\n",
      " [4 5 6]]\n"
     ]
    }
   ],
   "source": [
    "print(a)"
   ]
  },
  {
   "cell_type": "code",
   "execution_count": 151,
   "id": "51060139-7557-4769-8385-88730e8b3d52",
   "metadata": {},
   "outputs": [
    {
     "name": "stdout",
     "output_type": "stream",
     "text": [
      "1\n"
     ]
    }
   ],
   "source": [
    "print(np.min(a))"
   ]
  },
  {
   "cell_type": "markdown",
   "id": "c9156e17-ffb8-4029-9ed0-d2827a070f5f",
   "metadata": {},
   "source": [
    "### np.max()"
   ]
  },
  {
   "cell_type": "markdown",
   "id": "952059d3-ba0e-479a-b551-dabbe9e9ea87",
   "metadata": {},
   "source": [
    "* Finding max number of an arrays.\n",
    "* Syntax : np.max(arr,axis=none)"
   ]
  },
  {
   "cell_type": "code",
   "execution_count": 154,
   "id": "6e7074c3-c796-474a-912b-ce8048a6fb3d",
   "metadata": {},
   "outputs": [
    {
     "name": "stdout",
     "output_type": "stream",
     "text": [
      "[[      12     2000  2389465]\n",
      " [   12944 41234567      233]]\n"
     ]
    }
   ],
   "source": [
    "print(s)"
   ]
  },
  {
   "cell_type": "code",
   "execution_count": 156,
   "id": "b5b37331-b9b6-49a8-a362-a80dc089826d",
   "metadata": {},
   "outputs": [
    {
     "data": {
      "text/plain": [
       "41234567"
      ]
     },
     "execution_count": 156,
     "metadata": {},
     "output_type": "execute_result"
    }
   ],
   "source": [
    "np.max(s)"
   ]
  },
  {
   "cell_type": "markdown",
   "id": "59701b63-5870-4d2e-9212-f9cf2d2d95c6",
   "metadata": {},
   "source": [
    "### Linear algebra function"
   ]
  },
  {
   "cell_type": "code",
   "execution_count": null,
   "id": "a5e32ee6-c482-4f5d-9e47-48c6f522efc9",
   "metadata": {},
   "outputs": [],
   "source": [
    "Numpy provide functions for linear algebra operation like matrix\u0002multiplication(dot matrix),matrix inversion,eigvalue and more."
   ]
  },
  {
   "cell_type": "markdown",
   "id": "4073dcca-20d7-4884-978a-375df71e0d63",
   "metadata": {},
   "source": [
    "### np.dot()"
   ]
  },
  {
   "cell_type": "markdown",
   "id": "0741d59b-9df8-45b9-87bb-e8cdf2dded9f",
   "metadata": {},
   "source": [
    "* In Python, np.dot is a function in the NumPy library that computes the dot product of two arrays. \n",
    "* The dot product is an operation that takes two sequences of numbers of equal length and returns a single number. \n",
    "* Syntax: numpy.dot(a, b, out=None)"
   ]
  },
  {
   "cell_type": "code",
   "execution_count": 161,
   "id": "54e5fd4d-4ea9-42f9-bd07-a773bbe4eb7a",
   "metadata": {},
   "outputs": [
    {
     "data": {
      "text/plain": [
       "12"
      ]
     },
     "execution_count": 161,
     "metadata": {},
     "output_type": "execute_result"
    }
   ],
   "source": [
    "np.dot(3, 4)"
   ]
  },
  {
   "cell_type": "code",
   "execution_count": 173,
   "id": "805a0d10-abc1-4a6e-b57f-c20b24c8ff9b",
   "metadata": {},
   "outputs": [
    {
     "data": {
      "text/plain": [
       "array([[21, 24],\n",
       "       [60, 69]])"
      ]
     },
     "execution_count": 173,
     "metadata": {},
     "output_type": "execute_result"
    }
   ],
   "source": [
    "a=[[1,2],[4,5]]\n",
    "b=[[5,6],[8,9]]\n",
    "c=np.dot(a,b)\n",
    "c"
   ]
  },
  {
   "cell_type": "markdown",
   "id": "c5a2fc7b-ddf9-4493-acc6-3ccbc78f6a45",
   "metadata": {},
   "source": [
    "### np.matmul()"
   ]
  },
  {
   "cell_type": "markdown",
   "id": "4653848c-3097-447f-94eb-405fc95b1b56",
   "metadata": {},
   "source": [
    "* The numpy.matmul() function returns the matrix product of two arrays. \n",
    "* While it returns a normal product for 2-D arrays, if dimensions of either argument is >2, \n",
    "* it is treated as a stack of matrices residing in the last two indexes and is broadcast accordingly."
   ]
  },
  {
   "cell_type": "code",
   "execution_count": 183,
   "id": "c9448cd9-9593-4c06-8125-0ce83ec70c67",
   "metadata": {},
   "outputs": [
    {
     "name": "stdout",
     "output_type": "stream",
     "text": [
      "[[4 1]\n",
      " [2 2]]\n"
     ]
    }
   ],
   "source": [
    "a = [[1,0],[0,1]] \n",
    "b = [[4,1],[2,2]] \n",
    "print (np.matmul(a,b))"
   ]
  },
  {
   "cell_type": "code",
   "execution_count": 187,
   "id": "597178ab-317c-4f3d-91f3-882dcf42585b",
   "metadata": {},
   "outputs": [
    {
     "name": "stdout",
     "output_type": "stream",
     "text": [
      "[1 2]\n",
      "[1 2]\n"
     ]
    }
   ],
   "source": [
    "a = [[1,0],[0,1]] \n",
    "b = [1,2] \n",
    "print (np.matmul(a,b))\n",
    "print (np.matmul(b,a))"
   ]
  },
  {
   "cell_type": "markdown",
   "id": "cf7b94d1-9bc2-48f7-aece-0da33963d643",
   "metadata": {},
   "source": [
    "### np.linalg.inv()"
   ]
  },
  {
   "cell_type": "code",
   "execution_count": null,
   "id": "dfb8ba1c-1bad-4817-85ff-df6b1b619b09",
   "metadata": {},
   "outputs": [],
   "source": [
    "* We use numpy.linalg.inv() function to calculate the inverse of a matrix. \n",
    "* The inverse of a matrix is such that if it is multiplied by the original matrix, it results in identity matrix."
   ]
  },
  {
   "cell_type": "code",
   "execution_count": 194,
   "id": "d63db333-9d63-4046-b71a-b71625745bac",
   "metadata": {},
   "outputs": [
    {
     "name": "stdout",
     "output_type": "stream",
     "text": [
      "[[1 2]\n",
      " [3 4]]\n",
      "[[-2.   1. ]\n",
      " [ 1.5 -0.5]]\n",
      "[[1.00000000e+00 1.11022302e-16]\n",
      " [0.00000000e+00 1.00000000e+00]]\n"
     ]
    }
   ],
   "source": [
    "x = np.array([[1,2],[3,4]]) \n",
    "y = np.linalg.inv(x) \n",
    "print( x )\n",
    "print(y )\n",
    "print (np.dot(x,y))"
   ]
  },
  {
   "cell_type": "markdown",
   "id": "32c3e732-4cdb-4d61-b35c-4fe87752936e",
   "metadata": {},
   "source": [
    "### np.linalg.eig()"
   ]
  },
  {
   "cell_type": "markdown",
   "id": "b50b2e44-f8f3-401c-ac0a-ab9afb40a7ba",
   "metadata": {},
   "source": [
    "* In Python, \"np.linalg.eig\" refers to a function within the NumPy library .\n",
    "* That calculates the eigenvalues and corresponding eigenvectors of a square matrix."
   ]
  },
  {
   "cell_type": "code",
   "execution_count": 197,
   "id": "70e12233-6ea1-4cec-a8cc-cf693c70a497",
   "metadata": {},
   "outputs": [
    {
     "name": "stdout",
     "output_type": "stream",
     "text": [
      "[[ 1 -2]\n",
      " [ 1  3]]\n",
      "[2.+1.j 2.-1.j]\n",
      "\n",
      "[[ 0.81649658+0.j          0.81649658-0.j        ]\n",
      " [-0.40824829-0.40824829j -0.40824829+0.40824829j]]\n"
     ]
    }
   ],
   "source": [
    "mat = np.mat(\"1 -2;1 3\") \n",
    "print(mat) \n",
    "evalue, evect = np.linalg.eig(mat) \n",
    "  \n",
    "# Eigenvalues of the said matrix\" \n",
    "print(evalue) \n",
    "print(\"\") \n",
    "  \n",
    "# Eigenvectors of the said matrix \n",
    "print(evect) "
   ]
  },
  {
   "cell_type": "markdown",
   "id": "dd1c2e46-635c-487c-a8af-dc8d221ef82c",
   "metadata": {},
   "source": [
    "### Random Number generation"
   ]
  },
  {
   "cell_type": "markdown",
   "id": "db4ee7d5-64e6-4f88-8306-a282d0a4fbf2",
   "metadata": {},
   "source": [
    "* Python Random module generates random numbers in Python. \n",
    "* These are pseudo-random numbers means they are not truly random.\n",
    "* This module can be used to perform random actions such as generating random numbers, printing random a value for a list or string, etc.\n",
    "* It is an in-built function in Python."
   ]
  },
  {
   "cell_type": "markdown",
   "id": "698f85e0-c3f2-4953-859c-e6b552bf9914",
   "metadata": {},
   "source": [
    "### np.random()"
   ]
  },
  {
   "cell_type": "markdown",
   "id": "8fe67186-c928-496d-aa6b-deae18085e28",
   "metadata": {},
   "source": [
    "* numpy.random.random() is one of the function for doing random sampling in number.\n",
    "* It returns an array of specified shape and fills it with random floats in the half-open interval [0.0, 1.0).\n",
    "* Syntax  :  numpy.random.random(size=None)"
   ]
  },
  {
   "cell_type": "code",
   "execution_count": 206,
   "id": "811cfd3f-2f52-45d3-b8aa-464b990ddd25",
   "metadata": {},
   "outputs": [
    {
     "name": "stdout",
     "output_type": "stream",
     "text": [
      "[0.22001    0.21503092 0.56664242]\n"
     ]
    }
   ],
   "source": [
    "out_arr = np.random.random(size = 3) \n",
    "print ( out_arr)  "
   ]
  },
  {
   "cell_type": "markdown",
   "id": "3b801d4b-939d-4a68-a3db-476bf271ae1d",
   "metadata": {},
   "source": [
    "### np.random.rand()"
   ]
  },
  {
   "cell_type": "markdown",
   "id": "c5eb1add-d50a-4ce2-8862-c4442e59131c",
   "metadata": {},
   "source": [
    "* The numpy.random.rand() function creates an array of specified shapes fills it with random values and generates random numbers with Numpy.\n",
    "* Syntax:  numpy.random.rand(d0, d1, …, dn)"
   ]
  },
  {
   "cell_type": "code",
   "execution_count": 212,
   "id": "b2991c8b-3f3e-46ac-bece-74a31419cb66",
   "metadata": {},
   "outputs": [
    {
     "data": {
      "text/plain": [
       "array([0.36362257, 0.99203832, 0.99915608, 0.58228477, 0.61087761,\n",
       "       0.3756929 , 0.14680449])"
      ]
     },
     "execution_count": 212,
     "metadata": {},
     "output_type": "execute_result"
    }
   ],
   "source": [
    "a=np.random.rand(7)\n",
    "a"
   ]
  },
  {
   "cell_type": "code",
   "execution_count": 216,
   "id": "47cb9411-6095-423b-aff6-6f3eec79c82f",
   "metadata": {},
   "outputs": [
    {
     "data": {
      "text/plain": [
       "array([0.88431969, 0.90210472, 0.75066788, 0.33987622, 0.18252918,\n",
       "       0.16568186, 0.72936917, 0.60139457, 0.69361777, 0.05838503])"
      ]
     },
     "execution_count": 216,
     "metadata": {},
     "output_type": "execute_result"
    }
   ],
   "source": [
    "s=np.random.rand(10)\n",
    "s"
   ]
  },
  {
   "cell_type": "markdown",
   "id": "8ef989c6-50cf-4f7e-b429-398f6d279592",
   "metadata": {},
   "source": [
    "### np.random.randint()"
   ]
  },
  {
   "cell_type": "markdown",
   "id": "b44e9c8c-2888-40bd-acc7-91651f9ae1e0",
   "metadata": {},
   "source": [
    "* In Python, np.random.randint is a function within the NumPy library used to generate random integers within a specified range.\n",
    "* Syntax: np.random.randint(low, high=None, size=None, dtype=int)"
   ]
  },
  {
   "cell_type": "code",
   "execution_count": 220,
   "id": "7f8ba37d-6980-4daf-8a59-7e40c94815ea",
   "metadata": {},
   "outputs": [
    {
     "data": {
      "text/plain": [
       "array([1, 1, 4])"
      ]
     },
     "execution_count": 220,
     "metadata": {},
     "output_type": "execute_result"
    }
   ],
   "source": [
    "s=np.random.randint(0,5,3)\n",
    "s"
   ]
  },
  {
   "cell_type": "code",
   "execution_count": 226,
   "id": "7a61805b-d3fc-48f5-8879-0291bddcaaf2",
   "metadata": {},
   "outputs": [
    {
     "data": {
      "text/plain": [
       "array([5, 6, 6, 5, 5])"
      ]
     },
     "execution_count": 226,
     "metadata": {},
     "output_type": "execute_result"
    }
   ],
   "source": [
    "a=np.random.randint(5,7,5)\n",
    "a"
   ]
  },
  {
   "cell_type": "markdown",
   "id": "7d2ca7d1-9d97-4888-97da-abaccad379de",
   "metadata": {},
   "source": [
    "### Seeding random number generation"
   ]
  },
  {
   "cell_type": "code",
   "execution_count": null,
   "id": "5ff02d18-8522-406b-bb3e-d5750c5d8f64",
   "metadata": {},
   "outputs": [],
   "source": [
    "* The seed() method is used to initialize the random number generator.\n",
    "* The random number generator needs a number to start with (a seed value), to be able to generate a random number."
   ]
  },
  {
   "cell_type": "code",
   "execution_count": 231,
   "id": "b047728d-0570-4b2a-bfc4-e1f31e6ad971",
   "metadata": {},
   "outputs": [
    {
     "name": "stdout",
     "output_type": "stream",
     "text": [
      "0.5714025946899135\n"
     ]
    }
   ],
   "source": [
    "import random\n",
    "random.seed(10)\n",
    "print(random.random())"
   ]
  },
  {
   "cell_type": "code",
   "execution_count": 233,
   "id": "2403895f-b2c1-4b3f-960b-2b5e3799dc61",
   "metadata": {},
   "outputs": [
    {
     "name": "stdout",
     "output_type": "stream",
     "text": [
      "0.815705808134858\n"
     ]
    }
   ],
   "source": [
    "random.seed(\"example\")\n",
    "print(random.random())\n"
   ]
  },
  {
   "cell_type": "code",
   "execution_count": 235,
   "id": "43acda7d-745d-4f33-a574-ad9da923be8d",
   "metadata": {},
   "outputs": [
    {
     "name": "stdout",
     "output_type": "stream",
     "text": [
      "0.20259898856134773\n"
     ]
    }
   ],
   "source": [
    "print(random.random())"
   ]
  },
  {
   "cell_type": "markdown",
   "id": "0ceed441-cbd5-49f9-ab24-acdd1ad3663b",
   "metadata": {},
   "source": [
    "### Shuffle method"
   ]
  },
  {
   "cell_type": "markdown",
   "id": "d216a81c-48e5-469a-9c35-da3ecc30da68",
   "metadata": {},
   "source": [
    "* The shuffle() method takes a sequence, like a list, and reorganize the order of the items.\n",
    "* Shuffle a list (reorganize the order of the list items)\n",
    "* Syntax: random.shuffle(sequence)"
   ]
  },
  {
   "cell_type": "code",
   "execution_count": 238,
   "id": "67a7c32e-189f-4222-a75d-44d0d9632fb1",
   "metadata": {},
   "outputs": [
    {
     "name": "stdout",
     "output_type": "stream",
     "text": [
      "['banana', 'cherry', 'apple']\n"
     ]
    }
   ],
   "source": [
    "mylist = [\"apple\", \"banana\", \"cherry\"]\n",
    "random.shuffle(mylist)\n",
    "\n",
    "print(mylist)"
   ]
  },
  {
   "cell_type": "markdown",
   "id": "121c3d65-16d8-4cc2-ba9e-59a01d51d72d",
   "metadata": {},
   "source": [
    "### permutation in random seed"
   ]
  },
  {
   "cell_type": "markdown",
   "id": "fae56446-771e-4dd6-b125-897f8ace9a98",
   "metadata": {},
   "source": [
    "* Randomly permute a sequence, or return a permuted range.\n",
    "* If x is a multi-dimensional array, it is only shuffled along its first index.\n",
    "* Syntax: random.permutation(x)"
   ]
  },
  {
   "cell_type": "code",
   "execution_count": 243,
   "id": "029e2c50-b9a5-46a7-a056-c98277ca67b9",
   "metadata": {},
   "outputs": [
    {
     "data": {
      "text/plain": [
       "array([0, 8, 3, 2, 4, 1, 7, 9, 5, 6])"
      ]
     },
     "execution_count": 243,
     "metadata": {},
     "output_type": "execute_result"
    }
   ],
   "source": [
    "x=np.random.permutation(10)\n",
    "x"
   ]
  },
  {
   "cell_type": "code",
   "execution_count": 245,
   "id": "ea0fcb1f-2568-4d77-9f1c-745f6642e5fe",
   "metadata": {},
   "outputs": [
    {
     "data": {
      "text/plain": [
       "array([ 1, 12,  9,  4, 15])"
      ]
     },
     "execution_count": 245,
     "metadata": {},
     "output_type": "execute_result"
    }
   ],
   "source": [
    "np.random.permutation([1, 4, 9, 12, 15])"
   ]
  },
  {
   "cell_type": "markdown",
   "id": "705c8791-fd1b-4e96-9c21-a8e234c9e817",
   "metadata": {},
   "source": [
    "### Broadcasting"
   ]
  },
  {
   "cell_type": "markdown",
   "id": "6588d536-0330-4c63-8785-7954fd5d236d",
   "metadata": {},
   "source": [
    "* Broadcasting simplifies mathematical operations on arrays with different shapes. \n",
    "* It enables NumPy to efficiently apply operations element-wise without explicitly copying or reshaping data.\n",
    "* It automatically adjusts the smaller array to match the shape of the larger array by replicating its values along the necessary dimensions.\n",
    "* This feature reduces memory usage and eliminates the need for manual loops making code concise and computationally faster making\n",
    "* It essential for handling large datasets and performing complex calculations in python"
   ]
  },
  {
   "cell_type": "code",
   "execution_count": 248,
   "id": "91e681b7-2ad6-48a0-8028-53d6897891ff",
   "metadata": {},
   "outputs": [
    {
     "name": "stdout",
     "output_type": "stream",
     "text": [
      "[[11 12 13]\n",
      " [14 15 16]]\n"
     ]
    }
   ],
   "source": [
    "array_2d = np.array([[1, 2, 3], [4, 5, 6]])  # 2D array\n",
    "scalar = 10  # Scalar value\n",
    "\n",
    "result = array_2d + scalar\n",
    "print(result)"
   ]
  },
  {
   "cell_type": "markdown",
   "id": "ac13085a-2577-4614-a37a-4a2a56a6dc58",
   "metadata": {},
   "source": [
    "### Rules for broadcasting"
   ]
  },
  {
   "cell_type": "markdown",
   "id": "bd9a30e6-bf50-4a5b-a6f6-f40b3e08ccd6",
   "metadata": {},
   "source": [
    "* Broadcasting applies specific rules to determine whether two arrays can be aligned for operations:\n",
    "* 1. Check Dimensions: Ensure the arrays have the same number of dimensions or expandable dimensions.\n",
    "* 2. Dimension Padding: If arrays have different numbers of dimensions, the smaller array is left-padded with ones.\n",
    "*3.Shape Compatibility: Two dimensions are compatible if:\n",
    "* They are equal, orOne of them is 1."
   ]
  },
  {
   "cell_type": "code",
   "execution_count": 264,
   "id": "232e1b43-81b2-4b70-ac22-76701196f9ee",
   "metadata": {},
   "outputs": [
    {
     "name": "stdout",
     "output_type": "stream",
     "text": [
      "[[2 3 4]\n",
      " [3 4 5]\n",
      " [4 5 6]]\n"
     ]
    }
   ],
   "source": [
    "# create 1-D array\n",
    "array1 = np.array([1, 2, 3])\n",
    "# create 2-D array\n",
    "array2 = np.array([[1], [2], [3]])\n",
    "# add arrays of different dimension\n",
    "# size of array1 expands to match with array2\n",
    "sum = array1 + array2\n",
    "print(sum)"
   ]
  },
  {
   "cell_type": "code",
   "execution_count": null,
   "id": "f5910249-046c-4690-8ce9-32da1144ef79",
   "metadata": {},
   "outputs": [],
   "source": []
  }
 ],
 "metadata": {
  "kernelspec": {
   "display_name": "Python 3 (ipykernel)",
   "language": "python",
   "name": "python3"
  },
  "language_info": {
   "codemirror_mode": {
    "name": "ipython",
    "version": 3
   },
   "file_extension": ".py",
   "mimetype": "text/x-python",
   "name": "python",
   "nbconvert_exporter": "python",
   "pygments_lexer": "ipython3",
   "version": "3.12.4"
  }
 },
 "nbformat": 4,
 "nbformat_minor": 5
}
