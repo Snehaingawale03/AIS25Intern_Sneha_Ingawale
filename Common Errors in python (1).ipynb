{
 "cells": [
  {
   "cell_type": "markdown",
   "id": "ce5834e2-92cf-491c-ba6f-c8d827b3c1c9",
   "metadata": {},
   "source": [
    "## Common python errors"
   ]
  },
  {
   "cell_type": "markdown",
   "id": "66dc8424-d491-4702-be87-8c4dcd790062",
   "metadata": {},
   "source": [
    "## Indentation error"
   ]
  },
  {
   "cell_type": "markdown",
   "id": "07c2e8d6-e523-4569-a565-38ae2cb97d5b",
   "metadata": {},
   "source": [
    "An indentation error in python occurs when the code's indentation is incorrect."
   ]
  },
  {
   "cell_type": "markdown",
   "id": "64002829-8ea1-4a5c-acf5-2d696ac017fc",
   "metadata": {},
   "source": [
    "Cause: Unexpected or missing indentation in python code.\n",
    "Fix: Inspect your code carefully,ensure proper alignment of all blocks and use consistent indentation."
   ]
  },
  {
   "cell_type": "markdown",
   "id": "10dcba5c-c028-4641-bb80-3e0f1e5e1d22",
   "metadata": {},
   "source": [
    "### Incorrect indentation"
   ]
  },
  {
   "cell_type": "code",
   "execution_count": 14,
   "id": "b58aedcc-c01f-4d62-a0ca-1a89afbd1071",
   "metadata": {},
   "outputs": [
    {
     "ename": "IndentationError",
     "evalue": "expected an indented block after 'for' statement on line 1 (3229654278.py, line 2)",
     "output_type": "error",
     "traceback": [
      "\u001b[1;36m  Cell \u001b[1;32mIn[14], line 2\u001b[1;36m\u001b[0m\n\u001b[1;33m    print(i)\u001b[0m\n\u001b[1;37m    ^\u001b[0m\n\u001b[1;31mIndentationError\u001b[0m\u001b[1;31m:\u001b[0m expected an indented block after 'for' statement on line 1\n"
     ]
    }
   ],
   "source": [
    "for i in range (5):\n",
    "print(i)"
   ]
  },
  {
   "cell_type": "markdown",
   "id": "856ade50-aa3a-4215-8d0f-dce5b7af5bbe",
   "metadata": {},
   "source": [
    "## Correct indentation"
   ]
  },
  {
   "cell_type": "code",
   "execution_count": 17,
   "id": "1a2497d2-863e-49bf-a32a-1fc7aa40fe22",
   "metadata": {},
   "outputs": [
    {
     "name": "stdout",
     "output_type": "stream",
     "text": [
      "0\n",
      "1\n",
      "2\n",
      "3\n",
      "4\n"
     ]
    }
   ],
   "source": [
    "for i in range (5):\n",
    "   print(i)"
   ]
  },
  {
   "cell_type": "markdown",
   "id": "e6066319-0f70-4c2e-82d0-7c3027aa17c5",
   "metadata": {},
   "source": [
    "### Name Error"
   ]
  },
  {
   "cell_type": "markdown",
   "id": "50a6e606-7ba9-4e2e-a5f8-f0b72f5b3526",
   "metadata": {},
   "source": [
    "A name error occur when an object could not be found"
   ]
  },
  {
   "cell_type": "markdown",
   "id": "9581130b-8af1-40da-9151-6a865daf7d36",
   "metadata": {},
   "source": [
    "Cause:The variable or object is defined before being defined.\n",
    "Fix: Define the variable before use it."
   ]
  },
  {
   "cell_type": "markdown",
   "id": "3ec7dbfe-455f-42f2-a152-dca9e4f2905c",
   "metadata": {},
   "source": [
    "### When the variable is not defined"
   ]
  },
  {
   "cell_type": "code",
   "execution_count": 20,
   "id": "4922dbba-6926-4236-8a46-ef048dbd98f7",
   "metadata": {},
   "outputs": [
    {
     "ename": "NameError",
     "evalue": "name 'k' is not defined",
     "output_type": "error",
     "traceback": [
      "\u001b[1;31m---------------------------------------------------------------------------\u001b[0m",
      "\u001b[1;31mNameError\u001b[0m                                 Traceback (most recent call last)",
      "Cell \u001b[1;32mIn[20], line 1\u001b[0m\n\u001b[1;32m----> 1\u001b[0m \u001b[38;5;28mprint\u001b[39m(k)\n",
      "\u001b[1;31mNameError\u001b[0m: name 'k' is not defined"
     ]
    }
   ],
   "source": [
    "print(k)\n"
   ]
  },
  {
   "cell_type": "markdown",
   "id": "08595869-8dd3-417a-ace9-536c1023b925",
   "metadata": {},
   "source": [
    "### When the variable is defined"
   ]
  },
  {
   "cell_type": "code",
   "execution_count": 24,
   "id": "4f3b7ce4-4a30-47fd-837c-552a3c177610",
   "metadata": {},
   "outputs": [
    {
     "name": "stdout",
     "output_type": "stream",
     "text": [
      "10\n"
     ]
    }
   ],
   "source": [
    "k=10\n",
    "print(k)"
   ]
  },
  {
   "cell_type": "markdown",
   "id": "7e7dd477-104a-4a86-9fd8-91c8b897cae8",
   "metadata": {},
   "source": [
    "### Value error"
   ]
  },
  {
   "cell_type": "markdown",
   "id": "23b66247-162a-4202-84dd-fb980285b656",
   "metadata": {},
   "source": [
    "The Value Error is thrown when a function's argument is of an inappropriate type."
   ]
  },
  {
   "cell_type": "markdown",
   "id": "fabd77b8-5610-43ca-868e-f289d1363974",
   "metadata": {},
   "source": [
    "Cause: Providing an invalid value to a function such as out of range or index.\n",
    "Fix: validate the input before using it to a function."
   ]
  },
  {
   "cell_type": "markdown",
   "id": "1aaa1a8b-4dca-4448-863f-d01ec7331a49",
   "metadata": {},
   "source": [
    "### Incorrect value type"
   ]
  },
  {
   "cell_type": "code",
   "execution_count": 28,
   "id": "a9ae48bc-3eb5-4b87-be7b-b6e88e0a292b",
   "metadata": {},
   "outputs": [
    {
     "ename": "ValueError",
     "evalue": "invalid literal for int() with base 10: 'a'",
     "output_type": "error",
     "traceback": [
      "\u001b[1;31m---------------------------------------------------------------------------\u001b[0m",
      "\u001b[1;31mValueError\u001b[0m                                Traceback (most recent call last)",
      "Cell \u001b[1;32mIn[28], line 1\u001b[0m\n\u001b[1;32m----> 1\u001b[0m \u001b[38;5;28mint\u001b[39m(\u001b[38;5;124m'\u001b[39m\u001b[38;5;124ma\u001b[39m\u001b[38;5;124m'\u001b[39m)\n",
      "\u001b[1;31mValueError\u001b[0m: invalid literal for int() with base 10: 'a'"
     ]
    }
   ],
   "source": [
    "int('a')"
   ]
  },
  {
   "cell_type": "markdown",
   "id": "0d27bddd-4213-42e8-ae61-e1277fa420ef",
   "metadata": {},
   "source": [
    "### Correct value type"
   ]
  },
  {
   "cell_type": "code",
   "execution_count": 31,
   "id": "01d7c4d9-69a7-489c-81af-c736dbb9582b",
   "metadata": {},
   "outputs": [
    {
     "data": {
      "text/plain": [
       "10"
      ]
     },
     "execution_count": 31,
     "metadata": {},
     "output_type": "execute_result"
    }
   ],
   "source": [
    "int(10)"
   ]
  },
  {
   "cell_type": "markdown",
   "id": "67be12b6-1fcd-4703-87d6-5337c9ee7562",
   "metadata": {},
   "source": [
    "### Type error"
   ]
  },
  {
   "cell_type": "markdown",
   "id": "00491aba-1a04-4373-8b68-e618874d2ed9",
   "metadata": {},
   "source": [
    "The TypeError is occur when an operation or function is applied to an object of an inappropriate type."
   ]
  },
  {
   "cell_type": "markdown",
   "id": "151d6c0b-1a5c-4350-88e2-3493d1509047",
   "metadata": {},
   "source": [
    "Cause: performing an operation on an incorrect data type.\n",
    "Fix: performing an operation on same data type."
   ]
  },
  {
   "cell_type": "markdown",
   "id": "912b298b-af4d-4bb3-b02d-c56311b5387b",
   "metadata": {},
   "source": [
    "### Incorrect data type"
   ]
  },
  {
   "cell_type": "code",
   "execution_count": 34,
   "id": "0d714acb-23e0-4c71-a644-e2d24b9d7f97",
   "metadata": {},
   "outputs": [
    {
     "ename": "TypeError",
     "evalue": "unsupported operand type(s) for +: 'int' and 'str'",
     "output_type": "error",
     "traceback": [
      "\u001b[1;31m---------------------------------------------------------------------------\u001b[0m",
      "\u001b[1;31mTypeError\u001b[0m                                 Traceback (most recent call last)",
      "Cell \u001b[1;32mIn[34], line 1\u001b[0m\n\u001b[1;32m----> 1\u001b[0m \u001b[38;5;241m1\u001b[39m \u001b[38;5;241m+\u001b[39m \u001b[38;5;124m'\u001b[39m\u001b[38;5;124ma\u001b[39m\u001b[38;5;124m'\u001b[39m\n",
      "\u001b[1;31mTypeError\u001b[0m: unsupported operand type(s) for +: 'int' and 'str'"
     ]
    }
   ],
   "source": [
    "1 + 'a'"
   ]
  },
  {
   "cell_type": "markdown",
   "id": "ead5af1a-f373-4c8c-9864-3b67a418ba51",
   "metadata": {},
   "source": [
    "### Correct data type"
   ]
  },
  {
   "cell_type": "code",
   "execution_count": 38,
   "id": "d135346d-1b89-490d-a4fd-e02b5c434426",
   "metadata": {},
   "outputs": [
    {
     "data": {
      "text/plain": [
       "2"
      ]
     },
     "execution_count": 38,
     "metadata": {},
     "output_type": "execute_result"
    }
   ],
   "source": [
    "1+1"
   ]
  },
  {
   "cell_type": "markdown",
   "id": "516d754c-b018-40c4-bf60-239d964ace6a",
   "metadata": {},
   "source": [
    "### Index Error"
   ]
  },
  {
   "cell_type": "markdown",
   "id": "0e3b6784-1343-49cf-ad97-930db38b9e0b",
   "metadata": {},
   "source": [
    " The IndexError is occur when you trying to access an item at an invalid index."
   ]
  },
  {
   "cell_type": "markdown",
   "id": "a9e09aa6-2133-41b8-8f12-93023d7b72d2",
   "metadata": {},
   "source": [
    "Cause:Trying to access an element at anindex that does not exist in the sequence.\n",
    "Fix: Check the length of the sequence before accessing the index."
   ]
  },
  {
   "cell_type": "markdown",
   "id": "6f3403a1-b630-4133-bcbe-ffd875e744b8",
   "metadata": {},
   "source": [
    "### Invalid index"
   ]
  },
  {
   "cell_type": "code",
   "execution_count": 41,
   "id": "606bd16c-86e7-4426-a2e2-fa95ff09b2ec",
   "metadata": {},
   "outputs": [
    {
     "ename": "IndexError",
     "evalue": "list index out of range",
     "output_type": "error",
     "traceback": [
      "\u001b[1;31m---------------------------------------------------------------------------\u001b[0m",
      "\u001b[1;31mIndexError\u001b[0m                                Traceback (most recent call last)",
      "Cell \u001b[1;32mIn[41], line 2\u001b[0m\n\u001b[0;32m      1\u001b[0m L \u001b[38;5;241m=\u001b[39m [\u001b[38;5;241m1\u001b[39m,\u001b[38;5;241m2\u001b[39m,\u001b[38;5;241m3\u001b[39m]\n\u001b[1;32m----> 2\u001b[0m L[\u001b[38;5;241m4\u001b[39m]\n",
      "\u001b[1;31mIndexError\u001b[0m: list index out of range"
     ]
    }
   ],
   "source": [
    "L = [1,2,3]\n",
    "L[4]"
   ]
  },
  {
   "cell_type": "markdown",
   "id": "16439af2-e74f-47fa-af9b-5e7846ca3ade",
   "metadata": {},
   "source": [
    "### Valid index"
   ]
  },
  {
   "cell_type": "code",
   "execution_count": 46,
   "id": "02bfebbb-03c4-496b-9cd3-8010db281d64",
   "metadata": {},
   "outputs": [
    {
     "data": {
      "text/plain": [
       "3"
      ]
     },
     "execution_count": 46,
     "metadata": {},
     "output_type": "execute_result"
    }
   ],
   "source": [
    "L = [1,2,3]\n",
    "L[2]"
   ]
  },
  {
   "cell_type": "markdown",
   "id": "acc17ea4-91a7-4029-bb2b-1ba598c916e9",
   "metadata": {},
   "source": [
    "### Key Error"
   ]
  },
  {
   "cell_type": "code",
   "execution_count": null,
   "id": "a29bee44-6ac9-45ef-b37e-829a4a1a3409",
   "metadata": {},
   "outputs": [],
   "source": [
    "The KeyError is occur  when a key of particular value is not found."
   ]
  },
  {
   "cell_type": "code",
   "execution_count": null,
   "id": "7e758ea7-fa04-41b7-8e46-ae2fee484155",
   "metadata": {},
   "outputs": [],
   "source": [
    "Cause: Accessing non-exist key from dictionary.\n",
    "Fix: Access a exist key from dictionary."
   ]
  },
  {
   "cell_type": "markdown",
   "id": "d6df8949-6080-4d63-ad2b-f5c1cd85ddd4",
   "metadata": {},
   "source": [
    "### invalid Key"
   ]
  },
  {
   "cell_type": "code",
   "execution_count": 50,
   "id": "e8f177e9-4cc4-4632-8f77-18dc3e02881d",
   "metadata": {},
   "outputs": [
    {
     "ename": "KeyError",
     "evalue": "'vegetable'",
     "output_type": "error",
     "traceback": [
      "\u001b[1;31m---------------------------------------------------------------------------\u001b[0m",
      "\u001b[1;31mKeyError\u001b[0m                                  Traceback (most recent call last)",
      "Cell \u001b[1;32mIn[50], line 2\u001b[0m\n\u001b[0;32m      1\u001b[0m d \u001b[38;5;241m=\u001b[39m {\u001b[38;5;124m'\u001b[39m\u001b[38;5;124mfruit\u001b[39m\u001b[38;5;124m'\u001b[39m:\u001b[38;5;124m'\u001b[39m\u001b[38;5;124mmango\u001b[39m\u001b[38;5;124m'\u001b[39m}\n\u001b[1;32m----> 2\u001b[0m d[\u001b[38;5;124m'\u001b[39m\u001b[38;5;124mvegetable\u001b[39m\u001b[38;5;124m'\u001b[39m]\n",
      "\u001b[1;31mKeyError\u001b[0m: 'vegetable'"
     ]
    }
   ],
   "source": [
    "d = {'fruit':'mango'}\n",
    "d['vegetable']"
   ]
  },
  {
   "cell_type": "markdown",
   "id": "2f0d8aa9-3e5a-4a2e-a43c-b5bbe8e4575d",
   "metadata": {},
   "source": [
    "### Valid key"
   ]
  },
  {
   "cell_type": "code",
   "execution_count": 56,
   "id": "a627ed7a-2778-4128-92fa-e69834caad4a",
   "metadata": {},
   "outputs": [
    {
     "data": {
      "text/plain": [
       "22"
      ]
     },
     "execution_count": 56,
     "metadata": {},
     "output_type": "execute_result"
    }
   ],
   "source": [
    "d={'age':22,'education':'MA'}\n",
    "d['age']"
   ]
  }
 ],
 "metadata": {
  "kernelspec": {
   "display_name": "Python 3 (ipykernel)",
   "language": "python",
   "name": "python3"
  },
  "language_info": {
   "codemirror_mode": {
    "name": "ipython",
    "version": 3
   },
   "file_extension": ".py",
   "mimetype": "text/x-python",
   "name": "python",
   "nbconvert_exporter": "python",
   "pygments_lexer": "ipython3",
   "version": "3.9.7"
  }
 },
 "nbformat": 4,
 "nbformat_minor": 5
}
