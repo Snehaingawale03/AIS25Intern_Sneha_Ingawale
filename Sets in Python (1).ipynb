{
 "cells": [
  {
   "cell_type": "markdown",
   "id": "614cf0c3-9dab-4b80-8e89-cad2ad22ce97",
   "metadata": {},
   "source": [
    "# Set"
   ]
  },
  {
   "cell_type": "markdown",
   "id": "85a5d63c-8910-4ba1-9bd8-2c2af45df842",
   "metadata": {},
   "source": [
    " * It is mutable in nature.\n",
    " * If we want to store group of unique values as a single entity then we should go for set.\n",
    " * Duplicates are not allowed.\n",
    "* Insertion order is not preserved.\n",
    "* Indexing and slicing also not supported by set.\n",
    " * Heterogeneous object are group together in set (only immutable)\n",
    " * Set is created using '{}' and elements are comma seperated.\n",
    "*  We can apply mathematical operations like, union, interection, difference, symmetric diff"
   ]
  },
  {
   "cell_type": "code",
   "execution_count": 1,
   "id": "98222c8e-16bc-4173-8524-af1f18779576",
   "metadata": {},
   "outputs": [
    {
     "name": "stdout",
     "output_type": "stream",
     "text": [
      "{1, 2, 4, 5, 8}\n"
     ]
    }
   ],
   "source": [
    "set2={8,4,2,1,5}  # Give asceding order in a set\n",
    "print(set2)"
   ]
  },
  {
   "cell_type": "code",
   "execution_count": 2,
   "id": "2dcc13da-6cb7-4deb-804e-6d39a12488c3",
   "metadata": {},
   "outputs": [
    {
     "name": "stdout",
     "output_type": "stream",
     "text": [
      "{1, 2, 3, 4, 5, 6, 7}\n"
     ]
    }
   ],
   "source": [
    " # Duplicates are not allowed\n",
    " set1 = {1,2,3,4,2,3,5,6,7,5,6}\n",
    " type(set1)\n",
    "print(set1)"
   ]
  },
  {
   "cell_type": "code",
   "execution_count": 3,
   "id": "d3f79b47-a48f-4c2d-91fe-8cf8f16284d2",
   "metadata": {},
   "outputs": [
    {
     "data": {
      "text/plain": [
       "{1, 2, 3, 4}"
      ]
     },
     "execution_count": 3,
     "metadata": {},
     "output_type": "execute_result"
    }
   ],
   "source": [
    "set2={1,2,3,4,1,2,1,2,1,2,1,2}\n",
    "set2"
   ]
  },
  {
   "cell_type": "code",
   "execution_count": 4,
   "id": "88e41b42-c69f-4f0b-980b-cdc6d938c6a7",
   "metadata": {},
   "outputs": [
    {
     "data": {
      "text/plain": [
       "{7}"
      ]
     },
     "execution_count": 4,
     "metadata": {},
     "output_type": "execute_result"
    }
   ],
   "source": [
    "set4={7,7,7,7,7,7,7}\n",
    "set4"
   ]
  },
  {
   "cell_type": "markdown",
   "id": "785df36b-f5a1-4d3e-a2e6-c4f710dd6fac",
   "metadata": {},
   "source": [
    "### Functions of set"
   ]
  },
  {
   "cell_type": "markdown",
   "id": "ae5defa9-b718-42dc-afb9-9bd9aaef790d",
   "metadata": {},
   "source": [
    " #### 1. add()\n"
   ]
  },
  {
   "cell_type": "markdown",
   "id": "780a2a4e-a925-4fa6-9c33-065daa5cf025",
   "metadata": {},
   "source": [
    " * Using add() we can add individual element in set\n",
    " * \n",
    "        syntax:\n",
    "\n",
    "   se_name.add(element)"
   ]
  },
  {
   "cell_type": "code",
   "execution_count": 5,
   "id": "69b41538-762f-4dfb-b0b2-82790d976b32",
   "metadata": {},
   "outputs": [
    {
     "data": {
      "text/plain": [
       "{23, 40, 57, 93}"
      ]
     },
     "execution_count": 5,
     "metadata": {},
     "output_type": "execute_result"
    }
   ],
   "source": [
    " set1 = {23,57,93}\n",
    " set1.add(40)\n",
    " set1"
   ]
  },
  {
   "cell_type": "markdown",
   "id": "a414f087-05f3-4bbd-ac9a-5eb4be73a2ea",
   "metadata": {},
   "source": [
    "#### 2.remove"
   ]
  },
  {
   "cell_type": "markdown",
   "id": "6c3dc8cc-88a5-431d-92fc-16cb22effc78",
   "metadata": {},
   "source": [
    "* The remove() function is used to remove a specific element from a set. If the element is not present in the set, it raises a KeyError"
   ]
  },
  {
   "cell_type": "code",
   "execution_count": 6,
   "id": "448a9846-8d1a-4bf3-8be2-ac1fc07674eb",
   "metadata": {},
   "outputs": [
    {
     "data": {
      "text/plain": [
       "{2, 3, 4, 7, 9}"
      ]
     },
     "execution_count": 6,
     "metadata": {},
     "output_type": "execute_result"
    }
   ],
   "source": [
    "my_set = {7,3,2,9,4}\n",
    "my_set"
   ]
  },
  {
   "cell_type": "code",
   "execution_count": 7,
   "id": "645437f2-1aab-4de7-9dd7-23406a6af2bc",
   "metadata": {},
   "outputs": [
    {
     "name": "stdout",
     "output_type": "stream",
     "text": [
      "{2, 4, 7, 9}\n"
     ]
    }
   ],
   "source": [
    "my_set.remove(3)\n",
    "print(my_set)\n"
   ]
  },
  {
   "cell_type": "raw",
   "id": "53235732-b1b3-4ab5-a750-611204838bcd",
   "metadata": {},
   "source": [
    " Safe Alternative: discard()"
   ]
  },
  {
   "cell_type": "markdown",
   "id": "e0efcc88-ed1d-4038-a79a-fabff1cd0fbb",
   "metadata": {},
   "source": [
    "#### 3. union"
   ]
  },
  {
   "cell_type": "markdown",
   "id": "e65650d7-f35c-4933-9354-76f61083b511",
   "metadata": {},
   "source": [
    "* The union operation on sets returns a new set that contains all the unique elements from both sets. In\n",
    " other words, it creates a new set that contains all the elements from both sets without duplicates.\n",
    " * We can pass number of sets, seperated by comma also it can be any iterable\n",
    " * syntax:\n",
    "   \n",
    "             set1.union(set2,set3,list1,...)\n",
    "\n",
    "            set3 = set1 | set2"
   ]
  },
  {
   "cell_type": "code",
   "execution_count": 8,
   "id": "151cb125-a3c5-4056-96f4-b66366d98dd1",
   "metadata": {},
   "outputs": [
    {
     "name": "stdout",
     "output_type": "stream",
     "text": [
      "{1, 2, 3, 4, 5}\n"
     ]
    }
   ],
   "source": [
    "set1 = {1, 2, 3,4}\n",
    "set2 = {3, 4, 5}\n",
    "set3 = set1.union(set2)\n",
    "print(set3)"
   ]
  },
  {
   "cell_type": "code",
   "execution_count": 9,
   "id": "1ee64673-bd08-4f06-a5c9-734b45af6bb2",
   "metadata": {},
   "outputs": [
    {
     "name": "stdout",
     "output_type": "stream",
     "text": [
      "{1, 2, 3, 4, 5}\n"
     ]
    }
   ],
   "source": [
    " # using the | operator\n",
    "set4 = set1 | set2 \n",
    "print(set4)"
   ]
  },
  {
   "cell_type": "markdown",
   "id": "1a114f26-d354-4773-9033-0ef7b3fec5af",
   "metadata": {},
   "source": [
    "#### 4.intersection"
   ]
  },
  {
   "cell_type": "markdown",
   "id": "6ea7b24b-ed20-49d2-a1a7-c57fa7f005fb",
   "metadata": {},
   "source": [
    " * The intersection operation takes two sets as inputs and returns a new set that contains only the\n",
    " elements that are present in both sets.\n",
    " * In other words, the intersection operation returns the common elements between two sets.\n",
    " * syntax:\n",
    "   \n",
    "         set1.intersection(set2)\n"
   ]
  },
  {
   "cell_type": "code",
   "execution_count": 10,
   "id": "a1661a08-3dfe-45bd-baf2-1ea64c680804",
   "metadata": {},
   "outputs": [
    {
     "name": "stdout",
     "output_type": "stream",
     "text": [
      "{8, 4, 5}\n"
     ]
    }
   ],
   "source": [
    " set5 = {3,4,5,8,9}\n",
    " set6 = {4, 5, 6, 7, 8}\n",
    " # Use the intersection method to find the common elements between the two sets\n",
    " set7 = set5.intersection(set6)\n",
    " print(set7)"
   ]
  },
  {
   "cell_type": "code",
   "execution_count": 11,
   "id": "e9f9c7d0-0241-4b54-845d-2cf2108bcd05",
   "metadata": {},
   "outputs": [
    {
     "data": {
      "text/plain": [
       "{3, 4, 5}"
      ]
     },
     "execution_count": 11,
     "metadata": {},
     "output_type": "execute_result"
    }
   ],
   "source": [
    " set1 = {1,2,3,4,5}\n",
    " set2 = {3,4,5,6}\n",
    " set3 = set1 & set2   # Using symbols\n",
    " set3"
   ]
  },
  {
   "cell_type": "markdown",
   "id": "d4ff6d24-9e8b-4edc-9ba1-afa412d9c311",
   "metadata": {},
   "source": [
    "#### 5. difference ()"
   ]
  },
  {
   "cell_type": "markdown",
   "id": "d4f85c0e-6254-4eb2-90dc-4994189bb3dd",
   "metadata": {},
   "source": [
    "* This method returns a new set that contains all the elements that are in 'set1' but not in 'set2'.\n",
    "* This method is equivalent to using the '-' operator to perform the set difference operation."
   ]
  },
  {
   "cell_type": "code",
   "execution_count": 33,
   "id": "1ed7ab6d-6056-4a24-b8a9-4589adccce70",
   "metadata": {},
   "outputs": [
    {
     "name": "stdout",
     "output_type": "stream",
     "text": [
      "{1, 2}\n"
     ]
    }
   ],
   "source": [
    "set1 = {1, 2, 3, 4, 5}\n",
    "set2 = {3, 4, 5, 6, 7}\n",
    "diff = set1.difference(set2)\n",
    "print(diff) "
   ]
  },
  {
   "cell_type": "code",
   "execution_count": null,
   "id": "b67318be-6cf0-4283-acdd-4edb26afcb8c",
   "metadata": {},
   "outputs": [],
   "source": []
  }
 ],
 "metadata": {
  "kernelspec": {
   "display_name": "Python 3 (ipykernel)",
   "language": "python",
   "name": "python3"
  },
  "language_info": {
   "codemirror_mode": {
    "name": "ipython",
    "version": 3
   },
   "file_extension": ".py",
   "mimetype": "text/x-python",
   "name": "python",
   "nbconvert_exporter": "python",
   "pygments_lexer": "ipython3",
   "version": "3.9.7"
  }
 },
 "nbformat": 4,
 "nbformat_minor": 5
}
