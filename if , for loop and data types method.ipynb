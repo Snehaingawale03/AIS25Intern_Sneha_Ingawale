{
 "cells": [
  {
   "cell_type": "markdown",
   "id": "69aa04ab",
   "metadata": {},
   "source": [
    "### Write a python code to swap first and last element of the list."
   ]
  },
  {
   "cell_type": "code",
   "execution_count": 25,
   "id": "c7b65f87",
   "metadata": {},
   "outputs": [
    {
     "name": "stdout",
     "output_type": "stream",
     "text": [
      "[37, 67, 89, 35, 31]\n"
     ]
    }
   ],
   "source": [
    "lst = [31,67,89,35,37]\n",
    "lst.append(lst[0])\n",
    "lst.insert(0,lst[len(lst)-2])\n",
    "lst.pop(1)\n",
    "lst.pop(len(lst)-2)\n",
    "print(lst)                     "
   ]
  },
  {
   "cell_type": "markdown",
   "id": "8d2a29c5",
   "metadata": {},
   "source": [
    "### write code count length of string"
   ]
  },
  {
   "cell_type": "code",
   "execution_count": 11,
   "id": "2578833b",
   "metadata": {},
   "outputs": [
    {
     "name": "stdout",
     "output_type": "stream",
     "text": [
      "length of string: 11\n"
     ]
    }
   ],
   "source": [
    "string= 'Hello World'\n",
    "count=0\n",
    "for char in string:\n",
    "    if char:\n",
    "        count+=1\n",
    "print(\"length of string:\",count)    "
   ]
  },
  {
   "cell_type": "markdown",
   "id": "c0e27e1d",
   "metadata": {},
   "source": [
    "### Write a python program to get the sum of a only non negative integers"
   ]
  },
  {
   "cell_type": "code",
   "execution_count": 6,
   "id": "91b78e3a",
   "metadata": {},
   "outputs": [
    {
     "name": "stdout",
     "output_type": "stream",
     "text": [
      "15\n"
     ]
    }
   ],
   "source": [
    "lst=[1,4,-5,-20,10]\n",
    "total=0\n",
    "for i in lst :\n",
    "    if i>0:\n",
    "        total+=i\n",
    "        \n",
    "print (total)"
   ]
  },
  {
   "cell_type": "markdown",
   "id": "8f929330",
   "metadata": {},
   "source": [
    "#### Write a code of factorial "
   ]
  },
  {
   "cell_type": "code",
   "execution_count": 13,
   "id": "5e875eae",
   "metadata": {},
   "outputs": [
    {
     "name": "stdout",
     "output_type": "stream",
     "text": [
      "factorial of 3: 6\n"
     ]
    }
   ],
   "source": [
    "n=3\n",
    "factorial=1\n",
    "for i in range (1,n+1):\n",
    "    factorial *=i\n",
    "print(\"factorial of 3:\",factorial)    \n",
    "    "
   ]
  },
  {
   "cell_type": "code",
   "execution_count": null,
   "id": "af5d6535",
   "metadata": {},
   "outputs": [],
   "source": []
  }
 ],
 "metadata": {
  "kernelspec": {
   "display_name": "Python 3 (ipykernel)",
   "language": "python",
   "name": "python3"
  },
  "language_info": {
   "codemirror_mode": {
    "name": "ipython",
    "version": 3
   },
   "file_extension": ".py",
   "mimetype": "text/x-python",
   "name": "python",
   "nbconvert_exporter": "python",
   "pygments_lexer": "ipython3",
   "version": "3.9.7"
  }
 },
 "nbformat": 4,
 "nbformat_minor": 5
}
