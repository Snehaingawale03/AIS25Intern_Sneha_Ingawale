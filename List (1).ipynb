{
 "cells": [
  {
   "cell_type": "markdown",
   "id": "63997a5d-710e-48c0-b0d1-84bcd4f53783",
   "metadata": {
    "tags": []
   },
   "source": [
    "### List"
   ]
  },
  {
   "cell_type": "markdown",
   "id": "a4680e73-e71d-4e41-8f57-2039f3869c8b",
   "metadata": {},
   "source": [
    "* List elements are enclosed in \"[]\" brackets.\n",
    "* List elements are comma seperated.\n",
    "* List is Dynamic in nature --> we can increase and decrease size of list.\n",
    "* List is Mutable in nature --> we can add, update and delete from list.\n",
    "* List is supporting indexing concep"
   ]
  },
  {
   "cell_type": "markdown",
   "id": "47b7e382-047c-4cc4-8912-c94c6d23152e",
   "metadata": {},
   "source": [
    "### performing different methods on list"
   ]
  },
  {
   "cell_type": "markdown",
   "id": "25ad0414-0917-48b9-9937-3e15b540e37c",
   "metadata": {},
   "source": [
    "### Accessing elements from list"
   ]
  },
  {
   "cell_type": "markdown",
   "id": "2c92b7a2-17a2-466d-94e2-07013c3bc12d",
   "metadata": {},
   "source": [
    "In these we can access elements from list by using indexing and slicing method"
   ]
  },
  {
   "cell_type": "code",
   "execution_count": 1,
   "id": "51236d58-3883-406d-8daf-e81f07b72658",
   "metadata": {},
   "outputs": [
    {
     "data": {
      "text/plain": [
       "[30, 10, 20, 30, 40, 50]"
      ]
     },
     "execution_count": 1,
     "metadata": {},
     "output_type": "execute_result"
    }
   ],
   "source": [
    "# Creating the list\n",
    "lst = [30,10,20,30,40,50]\n",
    "lst"
   ]
  },
  {
   "cell_type": "code",
   "execution_count": 2,
   "id": "48a527b4-1a19-47b5-8fbb-27032384e7e6",
   "metadata": {},
   "outputs": [
    {
     "data": {
      "text/plain": [
       "list"
      ]
     },
     "execution_count": 2,
     "metadata": {},
     "output_type": "execute_result"
    }
   ],
   "source": [
    "type(lst)"
   ]
  },
  {
   "cell_type": "markdown",
   "id": "f9ec50f6-fc03-4162-b111-c1186e8e0c01",
   "metadata": {},
   "source": [
    "### Accessing elements from list by using indexing"
   ]
  },
  {
   "cell_type": "code",
   "execution_count": null,
   "id": "cae7b1c4-0a25-4193-896d-a92ab18c1978",
   "metadata": {},
   "outputs": [],
   "source": [
    "Indexing in list refers to the process of accessing individual elements in list using their position or index."
   ]
  },
  {
   "cell_type": "code",
   "execution_count": 3,
   "id": "8fe05b1c-5046-4fca-91e7-1974510d26eb",
   "metadata": {},
   "outputs": [
    {
     "data": {
      "text/plain": [
       "30.4"
      ]
     },
     "execution_count": 3,
     "metadata": {},
     "output_type": "execute_result"
    }
   ],
   "source": [
    "list1 = [20,10,30.4,'FUEL',10+8j]\n",
    "list1[2] ## here we access element of second position\n"
   ]
  },
  {
   "cell_type": "code",
   "execution_count": 6,
   "id": "4045ad92-f829-43e3-80bb-263c7e99f54b",
   "metadata": {},
   "outputs": [
    {
     "data": {
      "text/plain": [
       "'FUEL'"
      ]
     },
     "execution_count": 6,
     "metadata": {},
     "output_type": "execute_result"
    }
   ],
   "source": [
    "list1 = [20,10,30.4,'FUEL',10+8j]\n",
    "list1[-2] ## here we access element of second position from right side\n"
   ]
  },
  {
   "cell_type": "code",
   "execution_count": 7,
   "id": "46e86466-9acd-4212-a607-8cb1aca6ef60",
   "metadata": {},
   "outputs": [
    {
     "data": {
      "text/plain": [
       "20"
      ]
     },
     "execution_count": 7,
     "metadata": {},
     "output_type": "execute_result"
    }
   ],
   "source": [
    "list1 = [20,10,30.4,'FUEL',10+8j]\n",
    "list1[0] ## here we access element of zero position from right side\n"
   ]
  },
  {
   "cell_type": "markdown",
   "id": "da76fa2a-376e-4f89-892e-6e6058a3ae07",
   "metadata": {},
   "source": [
    "### Accessing elements by using slicing"
   ]
  },
  {
   "cell_type": "code",
   "execution_count": null,
   "id": "5aa35c90-9992-4f9b-93b8-c9fb2cd2353a",
   "metadata": {},
   "outputs": [],
   "source": [
    "Slicing in list allows you to extact a portion rom original list\n",
    "                      Syntax: list1[start_index : end_index : step]"
   ]
  },
  {
   "cell_type": "code",
   "execution_count": 20,
   "id": "347fe356-47d9-497d-8e7b-2776319e05bd",
   "metadata": {},
   "outputs": [
    {
     "data": {
      "text/plain": [
       "[12, 10, 14, 13, 10]"
      ]
     },
     "execution_count": 20,
     "metadata": {},
     "output_type": "execute_result"
    }
   ],
   "source": [
    "list1 = [10,11,12,10,14,13,10,15,14,16]\n",
    "list1[2:7]"
   ]
  },
  {
   "cell_type": "code",
   "execution_count": 22,
   "id": "aca0b9fe-0e69-4d35-a438-1e715aec63f9",
   "metadata": {},
   "outputs": [
    {
     "data": {
      "text/plain": [
       "[10, 11, 12, 10]"
      ]
     },
     "execution_count": 22,
     "metadata": {},
     "output_type": "execute_result"
    }
   ],
   "source": [
    "list1 = [10,11,12,10,14,13,10,15,14,16]\n",
    "list1[:4]"
   ]
  },
  {
   "cell_type": "markdown",
   "id": "a6aefcfe-dbd6-4a0c-b755-1c182b35efbf",
   "metadata": {},
   "source": [
    "### Modifying elements"
   ]
  },
  {
   "cell_type": "markdown",
   "id": "a6b818df-bcff-45b6-99b2-12caf1acd77f",
   "metadata": {},
   "source": [
    "Change the value of an element by index"
   ]
  },
  {
   "cell_type": "code",
   "execution_count": 27,
   "id": "6fbdfe79-cb24-4288-8e76-43225461aa4a",
   "metadata": {},
   "outputs": [
    {
     "data": {
      "text/plain": [
       "[10, 20, 12, 10, 14, 13, 10, 15, 14, 16]"
      ]
     },
     "execution_count": 27,
     "metadata": {},
     "output_type": "execute_result"
    }
   ],
   "source": [
    "list1"
   ]
  },
  {
   "cell_type": "code",
   "execution_count": 29,
   "id": "b77a98f7-8581-420c-98a3-57303bec7d9c",
   "metadata": {},
   "outputs": [
    {
     "name": "stdout",
     "output_type": "stream",
     "text": [
      "[10, 20, 12, 10, 14, 13, 10, 15, 14, 16]\n"
     ]
    }
   ],
   "source": [
    "list1[1]=20\n",
    "print(list1)"
   ]
  },
  {
   "cell_type": "code",
   "execution_count": 31,
   "id": "a7f3a599-ac69-4286-a58e-d5bf2cc68fc8",
   "metadata": {},
   "outputs": [
    {
     "name": "stdout",
     "output_type": "stream",
     "text": [
      "[10, 20, 4, 5, 14, 13, 10, 15, 14, 16]\n"
     ]
    }
   ],
   "source": [
    "list1[2:4]=[4,5]\n",
    "print(list1)"
   ]
  },
  {
   "cell_type": "markdown",
   "id": "a26fc656-6f4b-4d47-9d79-a858f436707f",
   "metadata": {},
   "source": [
    "#### Adding elements in list"
   ]
  },
  {
   "cell_type": "markdown",
   "id": "071546a8-c96a-42dc-bd1a-015f8b56b28f",
   "metadata": {},
   "source": [
    "### Adding elements by using append"
   ]
  },
  {
   "cell_type": "markdown",
   "id": "a96d7c89-869b-497f-b803-e822d5d60594",
   "metadata": {},
   "source": [
    "### Append()"
   ]
  },
  {
   "cell_type": "markdown",
   "id": "76518e80-2f56-4b36-a790-23e38b872952",
   "metadata": {},
   "source": [
    "We can use append() to add item at the end of list.\n",
    "syntax: list_name.append(item)"
   ]
  },
  {
   "cell_type": "code",
   "execution_count": 36,
   "id": "4f93c88a-a6c7-4853-aebb-46a969f4756e",
   "metadata": {},
   "outputs": [
    {
     "name": "stdout",
     "output_type": "stream",
     "text": [
      "[100]\n"
     ]
    }
   ],
   "source": [
    "lst = []\n",
    "lst.append(100)\n",
    "print(lst)"
   ]
  },
  {
   "cell_type": "code",
   "execution_count": 38,
   "id": "c223756d-1fe9-4583-b102-855caa1fc1dd",
   "metadata": {},
   "outputs": [
    {
     "name": "stdout",
     "output_type": "stream",
     "text": [
      "[100, 200]\n"
     ]
    }
   ],
   "source": [
    "lst.append(200)\n",
    "print(lst)"
   ]
  },
  {
   "cell_type": "code",
   "execution_count": 40,
   "id": "b8d88651-600c-48a9-af7f-692a39c6349a",
   "metadata": {},
   "outputs": [
    {
     "name": "stdout",
     "output_type": "stream",
     "text": [
      "[1, 2, 3, 4, 5]\n"
     ]
    }
   ],
   "source": [
    "lst1 = [1,2,3,4]\n",
    "lst1.append(5)\n",
    "print(lst1)"
   ]
  },
  {
   "cell_type": "code",
   "execution_count": 42,
   "id": "726000b8-0138-45ab-96ec-d15c5388d395",
   "metadata": {},
   "outputs": [
    {
     "name": "stdout",
     "output_type": "stream",
     "text": [
      "[1, 2, 3, 4, [5, 6, 7, 8]]\n"
     ]
    }
   ],
   "source": [
    "list_1 = [1,2,3,4]\n",
    "list_2 = [5,6,7,8]\n",
    "list_1.append(list_2)\n",
    "print(list_1)"
   ]
  },
  {
   "cell_type": "markdown",
   "id": "5cc85cce-1fe8-4611-9362-6ec9fb90c1da",
   "metadata": {},
   "source": [
    "### Insert()"
   ]
  },
  {
   "cell_type": "markdown",
   "id": "72b9f591-c4bb-4561-a4ac-547a635ba913",
   "metadata": {},
   "source": [
    "To insert item at specific index position in list.\n",
    " syntax:list_name.insert(index,value)\n"
   ]
  },
  {
   "cell_type": "code",
   "execution_count": 47,
   "id": "4dcf1eb5-d1bd-471b-9e44-845b7cb8cb99",
   "metadata": {},
   "outputs": [
    {
     "data": {
      "text/plain": [
       "[1, 34, 55, 100, 10, 3, 5.6]"
      ]
     },
     "execution_count": 47,
     "metadata": {},
     "output_type": "execute_result"
    }
   ],
   "source": [
    "mylist = [1,34,55,10,3,5.6]\n",
    "mylist.insert(3,100)\n",
    "mylist"
   ]
  },
  {
   "cell_type": "code",
   "execution_count": 51,
   "id": "aae31f83-55f5-4c2b-9067-67d7266f3442",
   "metadata": {},
   "outputs": [
    {
     "data": {
      "text/plain": [
       "[1, 34, 55, 10, 3, 5.6, 100]"
      ]
     },
     "execution_count": 51,
     "metadata": {},
     "output_type": "execute_result"
    }
   ],
   "source": [
    "list_2 = [1,34,55,10,3,5.6]\n",
    "list_2.insert(6,100)\n",
    "list_2"
   ]
  },
  {
   "cell_type": "markdown",
   "id": "27d22093-eb0b-429d-ab34-190a6ab31050",
   "metadata": {},
   "source": [
    "### Removing elements from list"
   ]
  },
  {
   "cell_type": "markdown",
   "id": "b48b5fba-fecc-427e-90b3-b8c31b62cf54",
   "metadata": {},
   "source": [
    "### Remove() :"
   ]
  },
  {
   "cell_type": "markdown",
   "id": "5e52ca20-0904-4b46-ab6c-7125c72bbbac",
   "metadata": {},
   "source": [
    "We can use this function to remove specified element from list.\n",
    "If item is present multiple times in list, then only first occurence will be removed.\n",
    "If item not found in list then it will give error.\n",
    "syntax:list_name.remove(item)"
   ]
  },
  {
   "cell_type": "code",
   "execution_count": 55,
   "id": "6a43b0c1-7f75-403f-8821-194c68d7b98c",
   "metadata": {},
   "outputs": [
    {
     "name": "stdout",
     "output_type": "stream",
     "text": [
      "[1, 34, 55, 10, 3, 5.6, 10]\n",
      "[1, 34, 55, 3, 5.6, 10]\n"
     ]
    }
   ],
   "source": [
    "list1 = [1,34,55,10,3,5.6,10]\n",
    "print(list1)\n",
    "list1.remove(10)\n",
    "print(list1)\n"
   ]
  },
  {
   "cell_type": "code",
   "execution_count": 57,
   "id": "879ed863-8aa7-4c35-9c78-6e3eb949e489",
   "metadata": {},
   "outputs": [
    {
     "name": "stdout",
     "output_type": "stream",
     "text": [
      "[1, 34, 55, 10, 3, 5.6]\n",
      "[1, 34, 10, 3, 5.6]\n"
     ]
    }
   ],
   "source": [
    "list2 = [1,34,55,10,3,5.6]\n",
    "print(list2)\n",
    "list2.remove(55)\n",
    "print(list2)"
   ]
  },
  {
   "cell_type": "markdown",
   "id": "cc744976-c383-4045-8b69-aafb540d403e",
   "metadata": {},
   "source": [
    "### Others method in slicing"
   ]
  },
  {
   "cell_type": "markdown",
   "id": "131d36ae-77d7-450c-bd8f-3abba9a009dd",
   "metadata": {},
   "source": [
    "### Sort"
   ]
  },
  {
   "cell_type": "markdown",
   "id": "ddc17311-be56-463d-92ac-38284d20ef19",
   "metadata": {},
   "source": [
    "* For sorting elements in list\n",
    "* It will do ascending as well as descending sorting."
   ]
  },
  {
   "cell_type": "code",
   "execution_count": 61,
   "id": "dd8e4e8a-7d15-4078-aec3-fef960d81995",
   "metadata": {},
   "outputs": [
    {
     "data": {
      "text/plain": [
       "[1, 1, 2, 2, 3, 3, 4, 4, 4, 5, 5, 7, 8, 9]"
      ]
     },
     "execution_count": 61,
     "metadata": {},
     "output_type": "execute_result"
    }
   ],
   "source": [
    "list1 = [1,2,4,5,3,2,1,7,4,5,9,3,4,8]\n",
    "list1.sort()\n",
    "list1\n"
   ]
  },
  {
   "cell_type": "markdown",
   "id": "6acb797b-4395-4897-87fb-60c05314965b",
   "metadata": {},
   "source": [
    "### Reverse"
   ]
  },
  {
   "cell_type": "markdown",
   "id": "f34525d0-3955-42eb-b2fc-340f8ad794c0",
   "metadata": {},
   "source": [
    "We can use reverse to reverse the order of elements in list."
   ]
  },
  {
   "cell_type": "code",
   "execution_count": 64,
   "id": "c93b513e-8527-4440-8e6e-658810ec6324",
   "metadata": {},
   "outputs": [
    {
     "data": {
      "text/plain": [
       "[5, 12.4, 'FUEL', 6, 5, 4, 3, 2, 1]"
      ]
     },
     "execution_count": 64,
     "metadata": {},
     "output_type": "execute_result"
    }
   ],
   "source": [
    "list = [1,2,3,4,5,6,'FUEL',12.4,5]\n",
    "list.reverse()\n",
    "list"
   ]
  },
  {
   "cell_type": "markdown",
   "id": "f469295b-d01c-4322-bdd0-34448963806e",
   "metadata": {},
   "source": [
    "### Extend"
   ]
  },
  {
   "cell_type": "markdown",
   "id": "01f9493d-2599-41dc-a23c-38406aa54d8b",
   "metadata": {},
   "source": [
    "To add all items of one sequence to list."
   ]
  },
  {
   "cell_type": "code",
   "execution_count": 67,
   "id": "313d3d3d-1a3b-4940-876c-892edef43f34",
   "metadata": {},
   "outputs": [
    {
     "data": {
      "text/plain": [
       "[1, 8, 6, 2, 4]"
      ]
     },
     "execution_count": 67,
     "metadata": {},
     "output_type": "execute_result"
    }
   ],
   "source": [
    "my_lst=[1,8,6,2,4]\n",
    "my_lst"
   ]
  },
  {
   "cell_type": "code",
   "execution_count": 75,
   "id": "d29922d3-7463-44f0-84f5-0165c995eb96",
   "metadata": {},
   "outputs": [
    {
     "data": {
      "text/plain": [
       "[1, 2, 3, 4, 5, 6, 7, 8]"
      ]
     },
     "execution_count": 75,
     "metadata": {},
     "output_type": "execute_result"
    }
   ],
   "source": [
    "my_lst = [1,2,3,4]\n",
    "my_list2 = [5,6,7,8]\n",
    "my_lst.extend(my_list2)\n",
    "my_lst\n"
   ]
  },
  {
   "cell_type": "markdown",
   "id": "8790c8bb-c758-49c2-b178-e5e12a217a71",
   "metadata": {},
   "source": [
    "### Count"
   ]
  },
  {
   "cell_type": "markdown",
   "id": "1bea0c3a-62ec-49c7-b448-21fa3cfe9f43",
   "metadata": {},
   "source": [
    "This function is used to count how many times a specific element occure in a list.\n",
    "It returns the number of occurances of the specified elements in list."
   ]
  },
  {
   "cell_type": "code",
   "execution_count": 79,
   "id": "e6978d9c-5a88-4108-8fe6-c5c444a48dd7",
   "metadata": {},
   "outputs": [
    {
     "data": {
      "text/plain": [
       "2"
      ]
     },
     "execution_count": 79,
     "metadata": {},
     "output_type": "execute_result"
    }
   ],
   "source": [
    "my_lst=[4,4,5,3,7,9,6]\n",
    "my_lst.count(4)"
   ]
  },
  {
   "cell_type": "code",
   "execution_count": 81,
   "id": "9dfb04a0-9215-48f7-8c91-8a746000232f",
   "metadata": {},
   "outputs": [
    {
     "data": {
      "text/plain": [
       "1"
      ]
     },
     "execution_count": 81,
     "metadata": {},
     "output_type": "execute_result"
    }
   ],
   "source": [
    "my_lst.count(7)"
   ]
  },
  {
   "cell_type": "markdown",
   "id": "a0570845-7fa5-48b9-9996-6bce19ce1765",
   "metadata": {},
   "source": [
    "### Index"
   ]
  },
  {
   "cell_type": "markdown",
   "id": "047d0a51-b85d-4e99-ac5f-d4f919500b95",
   "metadata": {},
   "source": [
    "The index method in python tuple is used to find the first occurence of a specific element and return its index.\n"
   ]
  },
  {
   "cell_type": "code",
   "execution_count": 7,
   "id": "ccf08496-4159-4ed7-bb78-94c3b4365cc8",
   "metadata": {},
   "outputs": [
    {
     "data": {
      "text/plain": [
       "[30, 40, 50, 60, 70, 80]"
      ]
     },
     "execution_count": 7,
     "metadata": {},
     "output_type": "execute_result"
    }
   ],
   "source": [
    "lst3=[30,40,50,60,70,80]\n",
    "lst3"
   ]
  },
  {
   "cell_type": "code",
   "execution_count": 9,
   "id": "5aab522f-b719-4e2b-8d17-7ae34806b9d1",
   "metadata": {},
   "outputs": [
    {
     "data": {
      "text/plain": [
       "2"
      ]
     },
     "execution_count": 9,
     "metadata": {},
     "output_type": "execute_result"
    }
   ],
   "source": [
    "lst3.index(50)"
   ]
  },
  {
   "cell_type": "markdown",
   "id": "b26ee428-20be-4944-8e09-f09bbc082c5e",
   "metadata": {},
   "source": [
    "### Copy"
   ]
  },
  {
   "cell_type": "markdown",
   "id": "77b2116d-12e4-413c-843b-35b872d313cd",
   "metadata": {},
   "source": [
    "It will copy all items from one list to another\n",
    "syntax:list1 = list2.copy"
   ]
  },
  {
   "cell_type": "code",
   "execution_count": 3,
   "id": "7c9ba55c-f943-4752-a077-8a6709f43e14",
   "metadata": {},
   "outputs": [
    {
     "data": {
      "text/plain": [
       "[1, 34, 55, 10, 3, 5.6]"
      ]
     },
     "execution_count": 3,
     "metadata": {},
     "output_type": "execute_result"
    }
   ],
   "source": [
    "list1 = [1,34,55,10,3,5.6]\n",
    "list2 = list1.copy() \n",
    "list2"
   ]
  },
  {
   "cell_type": "code",
   "execution_count": null,
   "id": "9685d450-df23-49bf-96f4-1b0af4cbf08b",
   "metadata": {},
   "outputs": [],
   "source": []
  }
 ],
 "metadata": {
  "kernelspec": {
   "display_name": "Python 3 (ipykernel)",
   "language": "python",
   "name": "python3"
  },
  "language_info": {
   "codemirror_mode": {
    "name": "ipython",
    "version": 3
   },
   "file_extension": ".py",
   "mimetype": "text/x-python",
   "name": "python",
   "nbconvert_exporter": "python",
   "pygments_lexer": "ipython3",
   "version": "3.9.7"
  },
  "toc-autonumbering": false,
  "toc-showcode": true
 },
 "nbformat": 4,
 "nbformat_minor": 5
}
