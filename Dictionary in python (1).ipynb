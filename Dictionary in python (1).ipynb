{
 "cells": [
  {
   "cell_type": "markdown",
   "id": "92a9450d-3574-44a6-9a45-7cce87e9b6ef",
   "metadata": {},
   "source": [
    "## Dictionary \n",
    "1. Dictionary are used to store data in key and value pair\n",
    "2. Dictionary is mutable in nature\n",
    "3. Dictionary is ordered if python version > 3.6 and not ordered if version <= 3.6\n",
    "4. Indexing and Slicing is not supported in dictionary\n",
    "5. We have collection in terms of \"key\":\"Value\" pair\n",
    "6. Collection enclosed inside '{ }' and comma seperated\n",
    " Dict :\n",
    " 'Key' : 'value' \n",
    "key --> Duplicate are not allowed (all should be unique)"
   ]
  },
  {
   "cell_type": "markdown",
   "id": "150a03ab-525e-4024-80fb-b7da6e6f080a",
   "metadata": {},
   "source": [
    "### Accessing key value pairs \n",
    "\n",
    "#### we can access key-value pairs in a dictionary using dict[key] or the get() method. "
   ]
  },
  {
   "cell_type": "code",
   "execution_count": 1,
   "id": "f542aa25-42e3-482d-be8d-893b0ac1d3c6",
   "metadata": {},
   "outputs": [],
   "source": [
    "Dict_1 = {\"name\": \"Kajal\",\"Age\":25,\"city\":\"sangli\"}"
   ]
  },
  {
   "cell_type": "code",
   "execution_count": 2,
   "id": "ee303b68-7fcb-471d-8986-9696bfcf1174",
   "metadata": {},
   "outputs": [
    {
     "data": {
      "text/plain": [
       "'Kajal'"
      ]
     },
     "execution_count": 2,
     "metadata": {},
     "output_type": "execute_result"
    }
   ],
   "source": [
    "Dict_1[\"name\"]"
   ]
  },
  {
   "cell_type": "code",
   "execution_count": 3,
   "id": "24eea48d-ffd5-44c1-ba7c-31a1de5c5a7c",
   "metadata": {},
   "outputs": [
    {
     "data": {
      "text/plain": [
       "'Kajal'"
      ]
     },
     "execution_count": 3,
     "metadata": {},
     "output_type": "execute_result"
    }
   ],
   "source": [
    "Dict_1.get(\"name\")"
   ]
  },
  {
   "cell_type": "markdown",
   "id": "85773f0e-01b4-4a17-9d72-23ae3f5d714c",
   "metadata": {},
   "source": [
    "### Adding and removing item "
   ]
  },
  {
   "cell_type": "markdown",
   "id": "75894043-b450-45d1-99ce-de88d751bc76",
   "metadata": {},
   "source": [
    "#### update : update() method modify the dictionary with new key-value pair."
   ]
  },
  {
   "cell_type": "code",
   "execution_count": 5,
   "id": "1af69855-640f-4819-9204-82f045475963",
   "metadata": {},
   "outputs": [
    {
     "data": {
      "text/plain": [
       "{'name': 'Kajal', 'Age': 25, 'city': 'Sangli', 'Education': 'MSC'}"
      ]
     },
     "execution_count": 5,
     "metadata": {},
     "output_type": "execute_result"
    }
   ],
   "source": [
    "Dict_1 = {\"name\": \"Kajal\",\"Age\":25,\"city\":\"Sangli\"}\n",
    "Dict_1[\"Education\"]= \"MSC\"\n",
    "Dict_1"
   ]
  },
  {
   "cell_type": "markdown",
   "id": "a7d4f4a9-5ec3-4cac-8c80-32f3179d913e",
   "metadata": {},
   "source": [
    "#### Delete elements from Dictionary."
   ]
  },
  {
   "cell_type": "markdown",
   "id": "85ec3542-6ab2-4019-a869-56186572241f",
   "metadata": {},
   "source": [
    "#### Del : The Del function is used to remove a key pair from a dictionary."
   ]
  },
  {
   "cell_type": "code",
   "execution_count": 6,
   "id": "e69fae98-a7d9-41e7-b514-9782ebacf8fa",
   "metadata": {},
   "outputs": [
    {
     "data": {
      "text/plain": [
       "{'name': 'Kajal', 'city': 'Sangli'}"
      ]
     },
     "execution_count": 6,
     "metadata": {},
     "output_type": "execute_result"
    }
   ],
   "source": [
    "Dict_1 = {\"name\": \"Kajal\",\"Age\":25,\"city\":\"Sangli\"}\n",
    "del Dict_1[\"Age\"]\n",
    "Dict_1"
   ]
  },
  {
   "cell_type": "markdown",
   "id": "8be15d0e-a8ef-495c-86a8-299b5be9ffa2",
   "metadata": {},
   "source": [
    "#### get() : \n",
    "To get value associated with key   \n",
    " syntax: dict_name.get(key)   \n",
    " dict_name.get(key,default_value)"
   ]
  },
  {
   "cell_type": "code",
   "execution_count": 8,
   "id": "08a38004-7f9d-4654-b911-ac06489f6a35",
   "metadata": {},
   "outputs": [],
   "source": [
    "dict1 = {'Name': 'Virat','Age': 31,'Type of player': 'Batsman','ODI ranking': 4,'Address': 'Delhi'}"
   ]
  },
  {
   "cell_type": "code",
   "execution_count": 9,
   "id": "9c237fee-f6b3-47b7-b054-c2a1dcb81b0c",
   "metadata": {},
   "outputs": [
    {
     "data": {
      "text/plain": [
       "'Virat'"
      ]
     },
     "execution_count": 9,
     "metadata": {},
     "output_type": "execute_result"
    }
   ],
   "source": [
    "dict1.get('Name')"
   ]
  },
  {
   "cell_type": "markdown",
   "id": "074f2cee-5e70-4b16-a669-04cead47a7cc",
   "metadata": {},
   "source": [
    "#### keys()\n",
    " It returns all keys in dictionary."
   ]
  },
  {
   "cell_type": "code",
   "execution_count": 10,
   "id": "378a6d68-b956-4eaa-b43a-75f3f67a0140",
   "metadata": {},
   "outputs": [
    {
     "data": {
      "text/plain": [
       "dict_keys(['Name', 'Age', 'Type of player', 'ODI ranking', 'Address'])"
      ]
     },
     "execution_count": 10,
     "metadata": {},
     "output_type": "execute_result"
    }
   ],
   "source": [
    "dict1.keys()"
   ]
  },
  {
   "cell_type": "markdown",
   "id": "dd21d4a9-9275-40db-9bdf-baaaf6bab1b7",
   "metadata": {},
   "source": [
    "#### values()\n",
    " It returns all values in dictionary."
   ]
  },
  {
   "cell_type": "code",
   "execution_count": 11,
   "id": "92a3ac9c-8117-46d0-b015-bf0fcb9630f0",
   "metadata": {},
   "outputs": [
    {
     "data": {
      "text/plain": [
       "dict_values(['Virat', 31, 'Batsman', 4, 'Delhi'])"
      ]
     },
     "execution_count": 11,
     "metadata": {},
     "output_type": "execute_result"
    }
   ],
   "source": [
    "dict1.values()"
   ]
  },
  {
   "cell_type": "markdown",
   "id": "0e1cb403-9202-42d6-9742-8d4c31ce31ae",
   "metadata": {},
   "source": [
    "#### items ()\n",
    " It returns list of tuple representing key and value."
   ]
  },
  {
   "cell_type": "code",
   "execution_count": 12,
   "id": "df320443-0085-4426-9046-5463bc3cfeeb",
   "metadata": {},
   "outputs": [
    {
     "data": {
      "text/plain": [
       "dict_items([('Name', 'Virat'), ('Age', 31), ('Type of player', 'Batsman'), ('ODI ranking', 4), ('Address', 'Delhi')])"
      ]
     },
     "execution_count": 12,
     "metadata": {},
     "output_type": "execute_result"
    }
   ],
   "source": [
    "dict1.items()"
   ]
  },
  {
   "cell_type": "markdown",
   "id": "5c00eadd-01f9-4083-a097-2773a39c5751",
   "metadata": {},
   "source": [
    "#### pop()\n",
    " It removes value associated with specified key and return the value\n",
    " dict_name.pop(key)"
   ]
  },
  {
   "cell_type": "code",
   "execution_count": 13,
   "id": "b97bcc6a-750d-4cbe-9445-f18d10bcb485",
   "metadata": {},
   "outputs": [
    {
     "data": {
      "text/plain": [
       "'Virat'"
      ]
     },
     "execution_count": 13,
     "metadata": {},
     "output_type": "execute_result"
    }
   ],
   "source": [
    "dict1.pop('Name')"
   ]
  },
  {
   "cell_type": "code",
   "execution_count": 14,
   "id": "420c400a-2219-4236-939a-f2c014696c2b",
   "metadata": {},
   "outputs": [
    {
     "data": {
      "text/plain": [
       "{'Age': 31, 'Type of player': 'Batsman', 'ODI ranking': 4, 'Address': 'Delhi'}"
      ]
     },
     "execution_count": 14,
     "metadata": {},
     "output_type": "execute_result"
    }
   ],
   "source": [
    "dict1"
   ]
  },
  {
   "cell_type": "markdown",
   "id": "b0dfb77c-33c6-4c53-aef4-2ef5dbe7b67f",
   "metadata": {},
   "source": [
    "#### update():\n",
    " update() method modify the dictionary with new key-value pair."
   ]
  },
  {
   "cell_type": "code",
   "execution_count": 15,
   "id": "087660ff-5c32-47d2-a07b-1a42e4f8f2eb",
   "metadata": {},
   "outputs": [
    {
     "data": {
      "text/plain": [
       "{'name': 'Kajal', 'Age': 25, 'city': 'Sangli', 'Education': 'MBA'}"
      ]
     },
     "execution_count": 15,
     "metadata": {},
     "output_type": "execute_result"
    }
   ],
   "source": [
    "Dict_1 = {\"name\": \"Kajal\",\"Age\":25,\"city\":\"Sangli\"}\n",
    "Dict_1[\"Education\"]= \"MBA\"\n",
    "Dict_1"
   ]
  },
  {
   "cell_type": "code",
   "execution_count": null,
   "id": "fd93268e-2ec7-4e07-85db-22a423a860d1",
   "metadata": {},
   "outputs": [],
   "source": []
  }
 ],
 "metadata": {
  "kernelspec": {
   "display_name": "Python 3 (ipykernel)",
   "language": "python",
   "name": "python3"
  },
  "language_info": {
   "codemirror_mode": {
    "name": "ipython",
    "version": 3
   },
   "file_extension": ".py",
   "mimetype": "text/x-python",
   "name": "python",
   "nbconvert_exporter": "python",
   "pygments_lexer": "ipython3",
   "version": "3.9.7"
  }
 },
 "nbformat": 4,
 "nbformat_minor": 5
}
