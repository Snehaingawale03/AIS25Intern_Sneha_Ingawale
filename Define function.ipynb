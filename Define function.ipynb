{
 "cells": [
  {
   "cell_type": "markdown",
   "id": "ce611743-1f0b-4074-bb70-c399d4847ce0",
   "metadata": {},
   "source": [
    "### Find maximum of two number"
   ]
  },
  {
   "cell_type": "code",
   "execution_count": 19,
   "id": "495c72d4-6c09-467e-8e0d-240dabcd81e5",
   "metadata": {},
   "outputs": [
    {
     "name": "stdout",
     "output_type": "stream",
     "text": [
      "-1\n"
     ]
    }
   ],
   "source": [
    "def find_max( a,u):\n",
    "    return max(a,u)\n",
    "print(find_max(-1,-3))"
   ]
  },
  {
   "cell_type": "markdown",
   "id": "b2a94e78-4b0e-4d38-b8ba-0bf9093a1ee8",
   "metadata": {},
   "source": [
    "### Sum of numbers in a list"
   ]
  },
  {
   "cell_type": "code",
   "execution_count": 22,
   "id": "50f2ab21-a64b-47f8-a7d0-9dbfde3cb415",
   "metadata": {},
   "outputs": [
    {
     "name": "stdout",
     "output_type": "stream",
     "text": [
      "20\n"
     ]
    }
   ],
   "source": [
    "def Sum_number(number):\n",
    "    return sum(number)\n",
    "number=[8,2,3,0,7]\n",
    "print(Sum_number(number))\n"
   ]
  },
  {
   "cell_type": "markdown",
   "id": "0bb8b68e-1ae0-4ec3-8059-2aa9d1108f31",
   "metadata": {},
   "source": [
    "### Distinct elements From list"
   ]
  },
  {
   "cell_type": "code",
   "execution_count": 24,
   "id": "1ba7e062-86c3-45b7-98c2-0aef0326c5ca",
   "metadata": {},
   "outputs": [
    {
     "name": "stdout",
     "output_type": "stream",
     "text": [
      "[1, 2, 3, 4, 5]\n"
     ]
    }
   ],
   "source": [
    "def distinct_elements(number):\n",
    "    return list(set(numbers))\n",
    "numbers=[1,2,3,3,3,3,4,5]\n",
    "print(distinct_elements(numbers))\n"
   ]
  },
  {
   "cell_type": "markdown",
   "id": "25071e12-141c-4cbe-ad5b-6bbffcc6456a",
   "metadata": {},
   "source": [
    "### Total Number of Combinations"
   ]
  },
  {
   "cell_type": "code",
   "execution_count": 75,
   "id": "05cc9680-da1d-4bf7-9bd1-fb862a70c9e1",
   "metadata": {},
   "outputs": [
    {
     "name": "stdout",
     "output_type": "stream",
     "text": [
      "Combinations of length 2:\n",
      "ab\n",
      "ac\n",
      "bc\n"
     ]
    }
   ],
   "source": [
    "import itertools\n",
    "\n",
    "def print_combinations(letters, length):\n",
    "    combinations = list(itertools.combinations(letters, length))\n",
    "    \n",
    "    print(f\"Combinations of length {length}:\")\n",
    "    for combo in combinations:\n",
    "        print(''.join(combo))\n",
    "\n",
    "letters = ['a', 'b', 'c']\n",
    "length = 2  # You can change this to any other number for different combination lengths\n",
    "print_combinations(letters, length)"
   ]
  },
  {
   "cell_type": "markdown",
   "id": "f9d6a80d-0c8d-4129-9860-6a6b9f6b3835",
   "metadata": {},
   "source": [
    "### Total number of permutations"
   ]
  },
  {
   "cell_type": "code",
   "execution_count": 79,
   "id": "b01f0b7f-5a5f-4b2c-b06b-7b595eea0752",
   "metadata": {},
   "outputs": [
    {
     "name": "stdout",
     "output_type": "stream",
     "text": [
      "Total number of permutations: 6\n",
      "abc\n",
      "acb\n",
      "bac\n",
      "bca\n",
      "cab\n",
      "cba\n"
     ]
    }
   ],
   "source": [
    "import itertools\n",
    "\n",
    "def print_permutations(letters):\n",
    "    # Generate all permutations of the letters\n",
    "    permutations = list(itertools.permutations(letters))\n",
    "    \n",
    "    # Print each permutation\n",
    "    print(f\"Total number of permutations: {len(permutations)}\")\n",
    "    for perm in permutations:\n",
    "        print(''.join(perm))  # Joining the tuple into a string for readability\n",
    "\n",
    "letters = ['a', 'b', 'c']\n",
    "print_permutations(letters)"
   ]
  },
  {
   "cell_type": "markdown",
   "id": "9aded072-81f3-444d-8f28-98b5025c6ee5",
   "metadata": {},
   "source": [
    "#### Convert to uppercase"
   ]
  },
  {
   "cell_type": "code",
   "execution_count": 15,
   "id": "af519aca-4e0a-4fc1-b93b-42ead79df686",
   "metadata": {},
   "outputs": [
    {
     "name": "stdout",
     "output_type": "stream",
     "text": [
      "Result is =STATISTICS\n"
     ]
    }
   ],
   "source": [
    "def convert_uppercase(word):\n",
    "    return word.upper()\n",
    "word = 'statistics'\n",
    "print(f\"Result is ={convert_uppercase(word)}\")"
   ]
  },
  {
   "cell_type": "markdown",
   "id": "e93bd9b2-bd89-4a24-a17e-7340a90d9b91",
   "metadata": {},
   "source": [
    "### Count Vowels and consonats in word"
   ]
  },
  {
   "cell_type": "code",
   "execution_count": 45,
   "id": "398369db-2fff-4e61-a726-97a3b438965a",
   "metadata": {},
   "outputs": [
    {
     "name": "stdout",
     "output_type": "stream",
     "text": [
      "Count of vowel is =2\n",
      "Count of consonant is  =6\n"
     ]
    }
   ],
   "source": [
    "def count_vowels_consonants(word):\n",
    "    vowels='aeiou'\n",
    "    vowel_count=sum( 1 for char in word.lower() if char in vowels)\n",
    "    consonants_count=sum(1 for char in word.lower()if char.isalpha() and char not in vowels)\n",
    "    return vowel_count,consonants_count\n",
    "word = 'stastics'\n",
    "vowel_count,consonants_count= count_vowels_consonants(word)\n",
    "print(f\"Count of vowel is ={vowel_count}\")\n",
    "print(f\"Count of consonant is  ={consonants_count}\")\n"
   ]
  },
  {
   "cell_type": "markdown",
   "id": "bce911d7-9a5b-4a62-a25c-52f50a813ba0",
   "metadata": {},
   "source": [
    "### count no of uppercase and lowercase characters in word"
   ]
  },
  {
   "cell_type": "code",
   "execution_count": 25,
   "id": "05b69ca0-fd58-4bf1-92a6-b5f78cd30b56",
   "metadata": {},
   "outputs": [
    {
     "name": "stdout",
     "output_type": "stream",
     "text": [
      "Uppercase count:5\n",
      "Lowercase count:5\n"
     ]
    }
   ],
   "source": [
    "def count_uppercase_lowercase(word):\n",
    "    uppercase_count=sum(1 for cha in word if cha.isupper())\n",
    "    lowercase_count=sum(1 for cha in word if cha.islower())\n",
    "    return uppercase_count,lowercase_count\n",
    "word = 'STatiStiCS'\n",
    "uppercase_count,lowercase_count=count_uppercase_lowercase(word)\n",
    "print(f\"Uppercase count:{uppercase_count}\")\n",
    "print(f\"Lowercase count:{lowercase_count}\")\n"
   ]
  },
  {
   "cell_type": "code",
   "execution_count": null,
   "id": "fe91548e-8783-4548-9480-67f4e1702250",
   "metadata": {},
   "outputs": [],
   "source": []
  }
 ],
 "metadata": {
  "kernelspec": {
   "display_name": "Python 3 (ipykernel)",
   "language": "python",
   "name": "python3"
  },
  "language_info": {
   "codemirror_mode": {
    "name": "ipython",
    "version": 3
   },
   "file_extension": ".py",
   "mimetype": "text/x-python",
   "name": "python",
   "nbconvert_exporter": "python",
   "pygments_lexer": "ipython3",
   "version": "3.12.4"
  }
 },
 "nbformat": 4,
 "nbformat_minor": 5
}
