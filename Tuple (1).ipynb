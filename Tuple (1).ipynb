{
 "cells": [
  {
   "cell_type": "markdown",
   "id": "01ca4e73-efbf-4722-b33c-5cb18c4ef194",
   "metadata": {},
   "source": [
    "### Tuple"
   ]
  },
  {
   "cell_type": "markdown",
   "id": "44003981-b037-4800-8972-3e73dd867135",
   "metadata": {},
   "source": [
    "* It is datatype in python\n",
    "* It is used to store sequence\n",
    "* It is immutable in nature\n",
    "* Round brackets '()' are used to store tuple collection\n",
    "* Comma seperated values\n",
    "* Ordered is preserved and duplicates are allowed\n",
    "* We can store different type of data"
   ]
  },
  {
   "cell_type": "markdown",
   "id": "17545bc1-5eac-4e13-a5fa-320da919675d",
   "metadata": {},
   "source": [
    "### Accessing elements from tuple by indexing and slicing"
   ]
  },
  {
   "cell_type": "markdown",
   "id": "a4d58268-8466-4af7-8729-4da795f4c1d6",
   "metadata": {},
   "source": [
    "## Indexing"
   ]
  },
  {
   "cell_type": "markdown",
   "id": "292c0120-d260-4a37-a4ce-b51c1480487b",
   "metadata": {},
   "source": [
    "Indexing in tuple refers to the process of accessing individual elements in tuple using their position or index."
   ]
  },
  {
   "cell_type": "code",
   "execution_count": 13,
   "id": "f8403187-10bb-43a7-a7bc-1ce635698b29",
   "metadata": {},
   "outputs": [
    {
     "data": {
      "text/plain": [
       "(56, 67, 23, 49, 28, 61)"
      ]
     },
     "execution_count": 13,
     "metadata": {},
     "output_type": "execute_result"
    }
   ],
   "source": [
    "my_tuple=(56,67,23,49,28,61)\n",
    "my_tuple\n"
   ]
  },
  {
   "cell_type": "code",
   "execution_count": 14,
   "id": "00130292-9121-4bc1-af55-54691a24f651",
   "metadata": {},
   "outputs": [
    {
     "data": {
      "text/plain": [
       "23"
      ]
     },
     "execution_count": 14,
     "metadata": {},
     "output_type": "execute_result"
    }
   ],
   "source": [
    "my_tuple[2]"
   ]
  },
  {
   "cell_type": "code",
   "execution_count": 15,
   "id": "6ec0e88b-f4f6-4849-a122-c94b7fff4c27",
   "metadata": {},
   "outputs": [
    {
     "data": {
      "text/plain": [
       "49"
      ]
     },
     "execution_count": 15,
     "metadata": {},
     "output_type": "execute_result"
    }
   ],
   "source": [
    "my_tuple[-3]"
   ]
  },
  {
   "cell_type": "markdown",
   "id": "83edbc53-62e8-4839-9f4a-6a261e521f01",
   "metadata": {},
   "source": [
    "### Slicing"
   ]
  },
  {
   "cell_type": "markdown",
   "id": "b7eefe23-12db-493f-b976-b0a9a8c1a938",
   "metadata": {},
   "source": [
    "Slicing  allows you to exrtact a portion rom original tuple."
   ]
  },
  {
   "cell_type": "code",
   "execution_count": 10,
   "id": "1126991e-73ff-4c9e-b4f3-a68031a530d3",
   "metadata": {},
   "outputs": [
    {
     "data": {
      "text/plain": [
       "(45, 54, 12)"
      ]
     },
     "execution_count": 10,
     "metadata": {},
     "output_type": "execute_result"
    }
   ],
   "source": [
    "tup=(23,45,54,12,36,65)\n",
    "tup[1:4]"
   ]
  },
  {
   "cell_type": "code",
   "execution_count": 12,
   "id": "348ea8d6-eb70-4065-86a4-e3e1d22005f8",
   "metadata": {},
   "outputs": [
    {
     "data": {
      "text/plain": [
       "(54, 12, 36)"
      ]
     },
     "execution_count": 12,
     "metadata": {},
     "output_type": "execute_result"
    }
   ],
   "source": [
    "tup[-4:-1]"
   ]
  },
  {
   "cell_type": "markdown",
   "id": "ec8d6752-7369-4ca3-bef5-1b5bb4f6254c",
   "metadata": {},
   "source": [
    "### Concatenation "
   ]
  },
  {
   "cell_type": "markdown",
   "id": "d638cb78-247d-4c24-bd2d-7e3f1c86e729",
   "metadata": {},
   "source": [
    "Concatenation in tuples refers to the process of combining two or more tuples into a single tuple using + operator."
   ]
  },
  {
   "cell_type": "code",
   "execution_count": 4,
   "id": "101ef056-d8b8-45f1-b308-1548d5848499",
   "metadata": {},
   "outputs": [
    {
     "data": {
      "text/plain": [
       "(1, 9, 3, 4, 6, 7, 8, 9)"
      ]
     },
     "execution_count": 4,
     "metadata": {},
     "output_type": "execute_result"
    }
   ],
   "source": [
    "t1 = (1,9,3,4)\n",
    "t2 = (6,7,8,9)\n",
    "t3 = t1+t2\n",
    "t3"
   ]
  },
  {
   "cell_type": "markdown",
   "id": "8c157fe8-d99d-4fb0-859b-12fd56d7c6e7",
   "metadata": {},
   "source": [
    "### Repetition "
   ]
  },
  {
   "cell_type": "markdown",
   "id": "db71d757-3b7c-48d5-b75d-62f4cac7c3d7",
   "metadata": {},
   "source": [
    "It refers to the process of creationg a new tuple by repeating the elements of an existing tuple multiple times."
   ]
  },
  {
   "cell_type": "code",
   "execution_count": 6,
   "id": "e9167422-53b4-44cb-b628-973100ac7acd",
   "metadata": {},
   "outputs": [
    {
     "data": {
      "text/plain": [
       "(6, 2, 8, 6, 2, 8, 6, 2, 8, 6, 2, 8, 6, 2, 8)"
      ]
     },
     "execution_count": 6,
     "metadata": {},
     "output_type": "execute_result"
    }
   ],
   "source": [
    "tup2=(6,2,8)\n",
    "result=tup2*5\n",
    "result"
   ]
  },
  {
   "cell_type": "markdown",
   "id": "0c542727-b112-457e-a27c-b30d0775da06",
   "metadata": {},
   "source": [
    "### Count"
   ]
  },
  {
   "cell_type": "markdown",
   "id": "10438191-4597-4afa-908b-e7b11a07dedb",
   "metadata": {},
   "source": [
    "This function is used to count how many times a specific element occure in given tuple.\n",
    "It returns the number of occurances of the specified elements in tuple."
   ]
  },
  {
   "cell_type": "code",
   "execution_count": 9,
   "id": "31543da4-2e71-4194-b7f5-77d2a3d35e67",
   "metadata": {},
   "outputs": [
    {
     "data": {
      "text/plain": [
       "(1, 2, 2, 3, 7, 4, 2, 6, 7)"
      ]
     },
     "execution_count": 9,
     "metadata": {},
     "output_type": "execute_result"
    }
   ],
   "source": [
    "t1= (1,2,2,3,7,4,2,6,7)\n",
    "t1"
   ]
  },
  {
   "cell_type": "code",
   "execution_count": 10,
   "id": "ccaa6842-8af6-4bba-99bb-2c44b36eb917",
   "metadata": {},
   "outputs": [
    {
     "data": {
      "text/plain": [
       "3"
      ]
     },
     "execution_count": 10,
     "metadata": {},
     "output_type": "execute_result"
    }
   ],
   "source": [
    "t1.count(2)"
   ]
  },
  {
   "cell_type": "markdown",
   "id": "70c37906-2662-4ca7-985c-18a129192aad",
   "metadata": {},
   "source": [
    "### Index"
   ]
  },
  {
   "cell_type": "markdown",
   "id": "55a8009f-3a21-4db2-a285-be1b69370c13",
   "metadata": {},
   "source": [
    "* The index method in python tuple is used to find the first occurence of a specific element and return its index."
   ]
  },
  {
   "cell_type": "code",
   "execution_count": 11,
   "id": "6598a81f-026f-47cc-b26f-a9ad4ce64399",
   "metadata": {},
   "outputs": [
    {
     "data": {
      "text/plain": [
       "(23, 34, 78, 56, 39)"
      ]
     },
     "execution_count": 11,
     "metadata": {},
     "output_type": "execute_result"
    }
   ],
   "source": [
    "tup3=(23,34,78,56,39)\n",
    "tup3"
   ]
  },
  {
   "cell_type": "code",
   "execution_count": 12,
   "id": "2bde3f19-1090-44dc-bed0-99380abd5f68",
   "metadata": {},
   "outputs": [
    {
     "data": {
      "text/plain": [
       "4"
      ]
     },
     "execution_count": 12,
     "metadata": {},
     "output_type": "execute_result"
    }
   ],
   "source": [
    "tup3.index(39)"
   ]
  },
  {
   "cell_type": "code",
   "execution_count": null,
   "id": "6f59d509-3caa-4200-bec5-58043469a978",
   "metadata": {},
   "outputs": [],
   "source": []
  }
 ],
 "metadata": {
  "kernelspec": {
   "display_name": "Python 3 (ipykernel)",
   "language": "python",
   "name": "python3"
  },
  "language_info": {
   "codemirror_mode": {
    "name": "ipython",
    "version": 3
   },
   "file_extension": ".py",
   "mimetype": "text/x-python",
   "name": "python",
   "nbconvert_exporter": "python",
   "pygments_lexer": "ipython3",
   "version": "3.9.7"
  }
 },
 "nbformat": 4,
 "nbformat_minor": 5
}
