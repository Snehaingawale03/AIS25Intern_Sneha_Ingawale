{
 "cells": [
  {
   "cell_type": "markdown",
   "id": "3fab1fa1",
   "metadata": {},
   "source": [
    "# Discuss arithmetic , comparison , logical and assignment operators."
   ]
  },
  {
   "cell_type": "markdown",
   "id": "38534f10",
   "metadata": {},
   "source": [
    "## i) Arithmetic operators"
   ]
  },
  {
   "cell_type": "markdown",
   "id": "9dced793",
   "metadata": {},
   "source": [
    "### Addition(+) :Add two numbers \n"
   ]
  },
  {
   "cell_type": "code",
   "execution_count": 1,
   "id": "8045bf0b",
   "metadata": {},
   "outputs": [
    {
     "name": "stdout",
     "output_type": "stream",
     "text": [
      "13\n"
     ]
    }
   ],
   "source": [
    "a=5\n",
    "b=8\n",
    "print(a+b)"
   ]
  },
  {
   "cell_type": "markdown",
   "id": "c5adb4a1",
   "metadata": {},
   "source": [
    "### Subtraction (-) : Subtracts one number from another"
   ]
  },
  {
   "cell_type": "code",
   "execution_count": 2,
   "id": "9ed0901a",
   "metadata": {},
   "outputs": [
    {
     "name": "stdout",
     "output_type": "stream",
     "text": [
      "8\n"
     ]
    }
   ],
   "source": [
    "num_1 = 23\n",
    "num_2 = 15\n",
    "print(num_1-num_2)"
   ]
  },
  {
   "cell_type": "markdown",
   "id": "529145e1",
   "metadata": {},
   "source": [
    "### Multiplication (*) : Multiplies two numbers."
   ]
  },
  {
   "cell_type": "code",
   "execution_count": 3,
   "id": "855c6e72",
   "metadata": {},
   "outputs": [
    {
     "name": "stdout",
     "output_type": "stream",
     "text": [
      "35\n"
     ]
    }
   ],
   "source": [
    "num_1 = 5\n",
    "num_2 = 7\n",
    "print(num_1*num_2)"
   ]
  },
  {
   "cell_type": "markdown",
   "id": "8c68ccd9",
   "metadata": {},
   "source": [
    "### Division (/): Divides one number by another , returning a decimal"
   ]
  },
  {
   "cell_type": "code",
   "execution_count": 4,
   "id": "94b26184",
   "metadata": {},
   "outputs": [
    {
     "name": "stdout",
     "output_type": "stream",
     "text": [
      "3.75\n"
     ]
    }
   ],
   "source": [
    "num_1=15\n",
    "num_2=4\n",
    "print(num_1/num_2)"
   ]
  },
  {
   "cell_type": "markdown",
   "id": "6306c281",
   "metadata": {},
   "source": [
    "### Floor division (//): Divides and returns only the integer part"
   ]
  },
  {
   "cell_type": "code",
   "execution_count": 5,
   "id": "6e9dfc95",
   "metadata": {},
   "outputs": [
    {
     "name": "stdout",
     "output_type": "stream",
     "text": [
      "2\n"
     ]
    }
   ],
   "source": [
    "num_1= 15\n",
    "num_2= 6\n",
    "print(num_1//num_2)"
   ]
  },
  {
   "cell_type": "markdown",
   "id": "c649f025",
   "metadata": {},
   "source": [
    "### Modulus (%) : Returns the remainder of a division"
   ]
  },
  {
   "cell_type": "code",
   "execution_count": 6,
   "id": "c34a018d",
   "metadata": {},
   "outputs": [
    {
     "name": "stdout",
     "output_type": "stream",
     "text": [
      "1\n"
     ]
    }
   ],
   "source": [
    "num_1= 16\n",
    "num_2= 5\n",
    "print(num_1%num_2)"
   ]
  },
  {
   "cell_type": "markdown",
   "id": "066a688e",
   "metadata": {},
   "source": [
    "\n",
    "### Exponentiation (**) : Raise one number to the power of another"
   ]
  },
  {
   "cell_type": "code",
   "execution_count": 7,
   "id": "431a339d",
   "metadata": {},
   "outputs": [
    {
     "data": {
      "text/plain": [
       "16"
      ]
     },
     "execution_count": 7,
     "metadata": {},
     "output_type": "execute_result"
    }
   ],
   "source": [
    "2**4"
   ]
  },
  {
   "cell_type": "markdown",
   "id": "3ec93eb4",
   "metadata": {},
   "source": [
    "## ii) Comparison Operators"
   ]
  },
  {
   "cell_type": "markdown",
   "id": "448fb43b",
   "metadata": {},
   "source": [
    "### Equal to (==) : Checks if two values are the same."
   ]
  },
  {
   "cell_type": "code",
   "execution_count": 12,
   "id": "8fa88bc9",
   "metadata": {},
   "outputs": [
    {
     "name": "stdout",
     "output_type": "stream",
     "text": [
      "False\n"
     ]
    }
   ],
   "source": [
    "a=3\n",
    "b=5\n",
    "print(a==b)"
   ]
  },
  {
   "cell_type": "markdown",
   "id": "78b9f8b3",
   "metadata": {},
   "source": [
    "### Not equal to(!=): Checks if two values are different."
   ]
  },
  {
   "cell_type": "code",
   "execution_count": 11,
   "id": "b6d1edbb",
   "metadata": {},
   "outputs": [
    {
     "name": "stdout",
     "output_type": "stream",
     "text": [
      "True\n"
     ]
    }
   ],
   "source": [
    "a= 64\n",
    "b = 75\n",
    "print(a!= b)"
   ]
  },
  {
   "cell_type": "markdown",
   "id": "1856e35c",
   "metadata": {},
   "source": [
    "### Greater than (>): Checks if one value is larger ."
   ]
  },
  {
   "cell_type": "code",
   "execution_count": 10,
   "id": "4ad79079",
   "metadata": {},
   "outputs": [
    {
     "name": "stdout",
     "output_type": "stream",
     "text": [
      "True\n"
     ]
    }
   ],
   "source": [
    "a= 56\n",
    "b= 45\n",
    "print(a>b)"
   ]
  },
  {
   "cell_type": "markdown",
   "id": "ff3f051a",
   "metadata": {},
   "source": [
    "### Less than (<) : Checks if one value is smaller."
   ]
  },
  {
   "cell_type": "code",
   "execution_count": 13,
   "id": "f87ceb67",
   "metadata": {},
   "outputs": [
    {
     "name": "stdout",
     "output_type": "stream",
     "text": [
      "False\n"
     ]
    }
   ],
   "source": [
    "a = 87\n",
    "b = 65\n",
    "print(a<b)"
   ]
  },
  {
   "cell_type": "markdown",
   "id": "7f4f2027",
   "metadata": {},
   "source": [
    "### Greater than or equal to (>=): Checks if one value is larger or equal."
   ]
  },
  {
   "cell_type": "code",
   "execution_count": 14,
   "id": "30800768",
   "metadata": {},
   "outputs": [
    {
     "name": "stdout",
     "output_type": "stream",
     "text": [
      "True\n"
     ]
    }
   ],
   "source": [
    "a = 56\n",
    "b = 56\n",
    "print(a>=b)"
   ]
  },
  {
   "cell_type": "markdown",
   "id": "a54b81ff",
   "metadata": {},
   "source": [
    "### less than or equal to (<=) : Checks if one value is smaller or equal."
   ]
  },
  {
   "cell_type": "code",
   "execution_count": 15,
   "id": "423ce781",
   "metadata": {},
   "outputs": [
    {
     "name": "stdout",
     "output_type": "stream",
     "text": [
      "True\n"
     ]
    }
   ],
   "source": [
    "a = 14\n",
    "b = 18\n",
    "print(a<=b)"
   ]
  },
  {
   "cell_type": "markdown",
   "id": "a0ec7086",
   "metadata": {},
   "source": [
    "## iii) Logical Operators :\n"
   ]
  },
  {
   "cell_type": "markdown",
   "id": "3bed0732",
   "metadata": {},
   "source": [
    "### And (and): Returns True if both conditions are true."
   ]
  },
  {
   "cell_type": "code",
   "execution_count": 17,
   "id": "9df78682",
   "metadata": {},
   "outputs": [
    {
     "data": {
      "text/plain": [
       "False"
      ]
     },
     "execution_count": 17,
     "metadata": {},
     "output_type": "execute_result"
    }
   ],
   "source": [
    "x = 8\n",
    "x <9 and x>13"
   ]
  },
  {
   "cell_type": "markdown",
   "id": "26b09c93",
   "metadata": {},
   "source": [
    "### Or (or): Returns True if at least one condition is true."
   ]
  },
  {
   "cell_type": "code",
   "execution_count": 18,
   "id": "b3d0ecb9",
   "metadata": {},
   "outputs": [
    {
     "data": {
      "text/plain": [
       "True"
      ]
     },
     "execution_count": 18,
     "metadata": {},
     "output_type": "execute_result"
    }
   ],
   "source": [
    "a= 45\n",
    "a<49 or a>34"
   ]
  },
  {
   "cell_type": "markdown",
   "id": "7f4ce8bb",
   "metadata": {},
   "source": [
    "### Not (not) : Reverses the truth value ."
   ]
  },
  {
   "cell_type": "code",
   "execution_count": 19,
   "id": "4ff6833b",
   "metadata": {},
   "outputs": [
    {
     "data": {
      "text/plain": [
       "True"
      ]
     },
     "execution_count": 19,
     "metadata": {},
     "output_type": "execute_result"
    }
   ],
   "source": [
    "x = 35\n",
    "not(x>76)"
   ]
  },
  {
   "cell_type": "markdown",
   "id": "06a9a92d",
   "metadata": {},
   "source": [
    "## iv) Assignment Operators :"
   ]
  },
  {
   "cell_type": "markdown",
   "id": "da88be75",
   "metadata": {},
   "source": [
    "### Assign (=): Assigns a value to a variable."
   ]
  },
  {
   "cell_type": "code",
   "execution_count": 21,
   "id": "69a9d606",
   "metadata": {},
   "outputs": [
    {
     "name": "stdout",
     "output_type": "stream",
     "text": [
      "3\n"
     ]
    }
   ],
   "source": [
    "x=3\n",
    "print(x)"
   ]
  },
  {
   "cell_type": "markdown",
   "id": "8a8d9aee",
   "metadata": {},
   "source": [
    "### Add and Assign (+=): Adds a value  to a varable."
   ]
  },
  {
   "cell_type": "code",
   "execution_count": 1,
   "id": "09d8d41f",
   "metadata": {},
   "outputs": [
    {
     "data": {
      "text/plain": [
       "5"
      ]
     },
     "execution_count": 1,
     "metadata": {},
     "output_type": "execute_result"
    }
   ],
   "source": [
    "x=4\n",
    "x+=1\n",
    "x"
   ]
  },
  {
   "cell_type": "markdown",
   "id": "23defe44",
   "metadata": {},
   "source": [
    "### Subtract and assign (-=) : Subtracts a value from a variable."
   ]
  },
  {
   "cell_type": "code",
   "execution_count": 2,
   "id": "6298af01",
   "metadata": {},
   "outputs": [
    {
     "name": "stdout",
     "output_type": "stream",
     "text": [
      "5\n"
     ]
    }
   ],
   "source": [
    "x=7\n",
    "x-=2\n",
    "print(x)"
   ]
  },
  {
   "cell_type": "markdown",
   "id": "288924de",
   "metadata": {},
   "source": [
    "### Multiply and assign (* =): Multiplies and assign."
   ]
  },
  {
   "cell_type": "code",
   "execution_count": 3,
   "id": "c29b2666",
   "metadata": {},
   "outputs": [
    {
     "name": "stdout",
     "output_type": "stream",
     "text": [
      "18\n"
     ]
    }
   ],
   "source": [
    "x= 9\n",
    "x*=2\n",
    "print(x)"
   ]
  },
  {
   "cell_type": "markdown",
   "id": "587f41e4",
   "metadata": {},
   "source": [
    "### Divide and Assign (/=): Divides and assign."
   ]
  },
  {
   "cell_type": "code",
   "execution_count": 4,
   "id": "a112d9f2",
   "metadata": {},
   "outputs": [
    {
     "name": "stdout",
     "output_type": "stream",
     "text": [
      "3.0\n"
     ]
    }
   ],
   "source": [
    "x=15\n",
    "x/=5\n",
    "print(x)"
   ]
  },
  {
   "cell_type": "code",
   "execution_count": null,
   "id": "aff32ace",
   "metadata": {},
   "outputs": [],
   "source": []
  }
 ],
 "metadata": {
  "kernelspec": {
   "display_name": "Python 3 (ipykernel)",
   "language": "python",
   "name": "python3"
  },
  "language_info": {
   "codemirror_mode": {
    "name": "ipython",
    "version": 3
   },
   "file_extension": ".py",
   "mimetype": "text/x-python",
   "name": "python",
   "nbconvert_exporter": "python",
   "pygments_lexer": "ipython3",
   "version": "3.9.7"
  }
 },
 "nbformat": 4,
 "nbformat_minor": 5
}
